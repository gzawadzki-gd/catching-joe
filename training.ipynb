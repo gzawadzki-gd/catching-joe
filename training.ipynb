{
 "cells": [
  {
   "cell_type": "code",
   "execution_count": 1,
   "metadata": {},
   "outputs": [],
   "source": [
    "import numpy as np\n",
    "import pandas as pd\n",
    "import seaborn as sns\n",
    "pd.set_option('display.max_columns', 100) # Setting pandas to display a N number of columns\n",
    "pd.set_option('display.max_rows', 10) # Setting pandas to display a N number rows\n",
    "pd.set_option('display.width', 100) # Setting pandas dataframe display width to N\n",
    "import matplotlib.pyplot as plt # plotting library\n",
    "from src.utils import import_data, categorial_feature_overview, reduce_mem_usage, make_mi_scores, plot_mi_scores\n",
    "\n",
    "import ppscore as pps # importing ppscore\n",
    "import numpy as np\n",
    "import pandas as pd\n",
    "import seaborn as sns\n",
    "from xgboost import plot_importance, XGBClassifier\n",
    "from sklearn.model_selection import train_test_split\n",
    "import optuna\n",
    "import xgboost as xgb\n",
    "from sklearn.model_selection import train_test_split, StratifiedKFold\n",
    "\n",
    "%matplotlib inline"
   ]
  },
  {
   "cell_type": "code",
   "execution_count": 2,
   "metadata": {},
   "outputs": [
    {
     "name": "stdout",
     "output_type": "stream",
     "text": [
      "Memory usage of dataframe is 14.19 MB\n",
      "Memory usage after optimization is: 10.47 MB\n",
      "Decreased by 26.2%\n"
     ]
    }
   ],
   "source": [
    "file = \"train_processed.csv\"\n",
    "df = pd.read_csv(file)\n",
    "\n",
    "\n",
    "df = reduce_mem_usage(df)\n"
   ]
  },
  {
   "cell_type": "code",
   "execution_count": 3,
   "metadata": {},
   "outputs": [],
   "source": [
    "df[[\"dayofweek\", \"day\", \"month\", \"year\"]] = df[\n",
    "    [\"dayofweek\", \"day\", \"month\", \"year\"]\n",
    "].astype(str)\n"
   ]
  },
  {
   "cell_type": "code",
   "execution_count": 4,
   "metadata": {},
   "outputs": [],
   "source": [
    "y = df.pop(\"is_joe\")\n",
    "X = df\n"
   ]
  },
  {
   "cell_type": "code",
   "execution_count": 5,
   "metadata": {},
   "outputs": [],
   "source": [
    "df[[\"dayofweek\", \"day\", \"month\", \"year\"]] = df[\n",
    "    [\"dayofweek\", \"day\", \"month\", \"year\"]\n",
    "].astype(str)\n"
   ]
  },
  {
   "cell_type": "code",
   "execution_count": 6,
   "metadata": {},
   "outputs": [],
   "source": [
    "useful_cols = X.drop([\"time\", \"date_hour\"], axis=1).columns\n",
    "X = X[useful_cols]\n"
   ]
  },
  {
   "cell_type": "code",
   "execution_count": 7,
   "metadata": {},
   "outputs": [],
   "source": [
    "cat_cols = X.select_dtypes(include=[\"object\"])\n",
    "num_cols = X.select_dtypes(include=[\"number\"])\n"
   ]
  },
  {
   "cell_type": "code",
   "execution_count": 8,
   "metadata": {},
   "outputs": [
    {
     "name": "stderr",
     "output_type": "stream",
     "text": [
      "/var/folders/0t/f5gvtkrj25701fwkx93kg95m0000gn/T/ipykernel_91546/1487237274.py:3: SettingWithCopyWarning: \n",
      "A value is trying to be set on a copy of a slice from a DataFrame.\n",
      "Try using .loc[row_indexer,col_indexer] = value instead\n",
      "\n",
      "See the caveats in the documentation: https://pandas.pydata.org/pandas-docs/stable/user_guide/indexing.html#returning-a-view-versus-a-copy\n",
      "  X[col] = pd.factorize(X[col])[0]\n"
     ]
    }
   ],
   "source": [
    "for col in cat_cols:\n",
    "    try:\n",
    "        X[col] = pd.factorize(X[col])[0]\n",
    "\n",
    "    except ValueError as e:\n",
    "        print(\"error\")\n"
   ]
  },
  {
   "cell_type": "code",
   "execution_count": 9,
   "metadata": {},
   "outputs": [
    {
     "data": {
      "image/png": "[encoded data removed]",
      "text/plain": [
       "<Figure size 432x288 with 1 Axes>"
      ]
     },
     "metadata": {
      "needs_background": "light"
     },
     "output_type": "display_data"
    }
   ],
   "source": [
    "scores = make_mi_scores(X, y)\n",
    "\n",
    "plot_mi_scores(scores)\n"
   ]
  },
  {
   "cell_type": "code",
   "execution_count": 10,
   "metadata": {},
   "outputs": [],
   "source": [
    "X_train, X_test, y_train, y_test = train_test_split(\n",
    "    X, y.values, test_size=0.25, random_state=1, stratify=y\n",
    ")\n"
   ]
  },
  {
   "cell_type": "code",
   "execution_count": 11,
   "metadata": {},
   "outputs": [
    {
     "name": "stderr",
     "output_type": "stream",
     "text": [
      "/Library/Frameworks/Python.framework/Versions/3.10/lib/python3.10/site-packages/xgboost/sklearn.py:892: UserWarning: The use of label encoder in XGBClassifier is deprecated and will be removed in a future release. To remove this warning, do the following: 1) Pass option use_label_encoder=False when constructing XGBClassifier object; and 2) Encode your labels (y) as integers starting with 0, i.e. 0, 1, 2, ..., [num_class - 1].\n",
      "  warnings.warn(label_encoder_deprecation_msg, UserWarning)\n"
     ]
    },
    {
     "name": "stdout",
     "output_type": "stream",
     "text": [
      "[10:11:32] WARNING: /Users/travis/build/dmlc/xgboost/src/learner.cc:1061: Starting in XGBoost 1.3.0, the default evaluation metric used with the objective 'binary:logistic' was changed from 'error' to 'logloss'. Explicitly set eval_metric if you'd like to restore the old behavior.\n"
     ]
    },
    {
     "data": {
      "text/plain": [
       "XGBClassifier(base_score=0.5, booster='gbtree', colsample_bylevel=1,\n",
       "              colsample_bynode=1, colsample_bytree=1, gamma=0, gpu_id=-1,\n",
       "              importance_type='gain', interaction_constraints='',\n",
       "              learning_rate=0.300000012, max_delta_step=0, max_depth=6,\n",
       "              min_child_weight=1, missing=nan, monotone_constraints='()',\n",
       "              n_estimators=100, n_jobs=8, num_parallel_tree=1, random_state=0,\n",
       "              reg_alpha=0, reg_lambda=1, scale_pos_weight=1, subsample=1,\n",
       "              tree_method='exact', validate_parameters=1, verbosity=None)"
      ]
     },
     "execution_count": 11,
     "metadata": {},
     "output_type": "execute_result"
    }
   ],
   "source": [
    "base_model = XGBClassifier()\n",
    "base_model.fit(X_train, y_train)\n"
   ]
  },
  {
   "cell_type": "code",
   "execution_count": 12,
   "metadata": {},
   "outputs": [
    {
     "name": "stdout",
     "output_type": "stream",
     "text": [
      "ROC: 0.9187849245466825\n",
      "F1: 0.8857142857142858\n",
      "              precision    recall  f1-score   support\n",
      "\n",
      "           0       1.00      1.00      1.00     14926\n",
      "           1       0.94      0.84      0.89        74\n",
      "\n",
      "    accuracy                           1.00     15000\n",
      "   macro avg       0.97      0.92      0.94     15000\n",
      "weighted avg       1.00      1.00      1.00     15000\n",
      "\n"
     ]
    }
   ],
   "source": [
    "from sklearn.metrics import (\n",
    "    roc_auc_score,\n",
    "    f1_score,\n",
    "    accuracy_score,\n",
    "    classification_report,\n",
    ")\n",
    "\n",
    "predictions = base_model.predict(X_test)\n",
    "print(\"ROC: \" + str(roc_auc_score(y_test, predictions)))\n",
    "print(\"F1: \" + str(f1_score(y_test, predictions)))\n",
    "print(classification_report(y_test, predictions))\n"
   ]
  },
  {
   "cell_type": "code",
   "execution_count": 13,
   "metadata": {},
   "outputs": [
    {
     "data": {
      "text/html": [
       "\n",
       "    <style>\n",
       "    table.eli5-weights tr:hover {\n",
       "        filter: brightness(85%);\n",
       "    }\n",
       "</style>\n",
       "\n",
       "\n",
       "\n",
       "    \n",
       "\n",
       "    \n",
       "\n",
       "    \n",
       "\n",
       "    \n",
       "\n",
       "    \n",
       "\n",
       "    \n",
       "\n",
       "\n",
       "    \n",
       "\n",
       "    \n",
       "\n",
       "    \n",
       "\n",
       "    \n",
       "\n",
       "    \n",
       "\n",
       "    \n",
       "\n",
       "\n",
       "    \n",
       "\n",
       "    \n",
       "\n",
       "    \n",
       "\n",
       "    \n",
       "\n",
       "    \n",
       "        <table class=\"eli5-weights eli5-feature-importances\" style=\"border-collapse: collapse; border: none; margin-top: 0em; table-layout: auto;\">\n",
       "    <thead>\n",
       "    <tr style=\"border: none;\">\n",
       "        <th style=\"padding: 0 1em 0 0.5em; text-align: right; border: none;\">Weight</th>\n",
       "        <th style=\"padding: 0 0.5em 0 0.5em; text-align: left; border: none;\">Feature</th>\n",
       "    </tr>\n",
       "    </thead>\n",
       "    <tbody>\n",
       "    \n",
       "        <tr style=\"background-color: hsl(120, 100.00%, 80.00%); border: none;\">\n",
       "            <td style=\"padding: 0 1em 0 0.5em; text-align: right; border: none;\">\n",
       "                0.2630\n",
       "                \n",
       "            </td>\n",
       "            <td style=\"padding: 0 0.5em 0 0.5em; text-align: left; border: none;\">\n",
       "                locale\n",
       "            </td>\n",
       "        </tr>\n",
       "    \n",
       "        <tr style=\"background-color: hsl(120, 100.00%, 87.22%); border: none;\">\n",
       "            <td style=\"padding: 0 1em 0 0.5em; text-align: right; border: none;\">\n",
       "                0.1388\n",
       "                \n",
       "            </td>\n",
       "            <td style=\"padding: 0 0.5em 0 0.5em; text-align: left; border: none;\">\n",
       "                hour_fixed\n",
       "            </td>\n",
       "        </tr>\n",
       "    \n",
       "        <tr style=\"background-color: hsl(120, 100.00%, 91.20%); border: none;\">\n",
       "            <td style=\"padding: 0 1em 0 0.5em; text-align: right; border: none;\">\n",
       "                0.0814\n",
       "                \n",
       "            </td>\n",
       "            <td style=\"padding: 0 0.5em 0 0.5em; text-align: left; border: none;\">\n",
       "                country\n",
       "            </td>\n",
       "        </tr>\n",
       "    \n",
       "        <tr style=\"background-color: hsl(120, 100.00%, 91.46%); border: none;\">\n",
       "            <td style=\"padding: 0 1em 0 0.5em; text-align: right; border: none;\">\n",
       "                0.0780\n",
       "                \n",
       "            </td>\n",
       "            <td style=\"padding: 0 0.5em 0 0.5em; text-align: left; border: none;\">\n",
       "                site_0\n",
       "            </td>\n",
       "        </tr>\n",
       "    \n",
       "        <tr style=\"background-color: hsl(120, 100.00%, 92.31%); border: none;\">\n",
       "            <td style=\"padding: 0 1em 0 0.5em; text-align: right; border: none;\">\n",
       "                0.0672\n",
       "                \n",
       "            </td>\n",
       "            <td style=\"padding: 0 0.5em 0 0.5em; text-align: left; border: none;\">\n",
       "                gender\n",
       "            </td>\n",
       "        </tr>\n",
       "    \n",
       "        <tr style=\"background-color: hsl(120, 100.00%, 93.50%); border: none;\">\n",
       "            <td style=\"padding: 0 1em 0 0.5em; text-align: right; border: none;\">\n",
       "                0.0528\n",
       "                \n",
       "            </td>\n",
       "            <td style=\"padding: 0 0.5em 0 0.5em; text-align: left; border: none;\">\n",
       "                site_2\n",
       "            </td>\n",
       "        </tr>\n",
       "    \n",
       "        <tr style=\"background-color: hsl(120, 100.00%, 93.84%); border: none;\">\n",
       "            <td style=\"padding: 0 1em 0 0.5em; text-align: right; border: none;\">\n",
       "                0.0489\n",
       "                \n",
       "            </td>\n",
       "            <td style=\"padding: 0 0.5em 0 0.5em; text-align: left; border: none;\">\n",
       "                site_1\n",
       "            </td>\n",
       "        </tr>\n",
       "    \n",
       "        <tr style=\"background-color: hsl(120, 100.00%, 93.87%); border: none;\">\n",
       "            <td style=\"padding: 0 1em 0 0.5em; text-align: right; border: none;\">\n",
       "                0.0485\n",
       "                \n",
       "            </td>\n",
       "            <td style=\"padding: 0 0.5em 0 0.5em; text-align: left; border: none;\">\n",
       "                year\n",
       "            </td>\n",
       "        </tr>\n",
       "    \n",
       "        <tr style=\"background-color: hsl(120, 100.00%, 94.23%); border: none;\">\n",
       "            <td style=\"padding: 0 1em 0 0.5em; text-align: right; border: none;\">\n",
       "                0.0445\n",
       "                \n",
       "            </td>\n",
       "            <td style=\"padding: 0 0.5em 0 0.5em; text-align: left; border: none;\">\n",
       "                city\n",
       "            </td>\n",
       "        </tr>\n",
       "    \n",
       "        <tr style=\"background-color: hsl(120, 100.00%, 95.62%); border: none;\">\n",
       "            <td style=\"padding: 0 1em 0 0.5em; text-align: right; border: none;\">\n",
       "                0.0301\n",
       "                \n",
       "            </td>\n",
       "            <td style=\"padding: 0 0.5em 0 0.5em; text-align: left; border: none;\">\n",
       "                site_7\n",
       "            </td>\n",
       "        </tr>\n",
       "    \n",
       "        <tr style=\"background-color: hsl(120, 100.00%, 95.71%); border: none;\">\n",
       "            <td style=\"padding: 0 1em 0 0.5em; text-align: right; border: none;\">\n",
       "                0.0291\n",
       "                \n",
       "            </td>\n",
       "            <td style=\"padding: 0 0.5em 0 0.5em; text-align: left; border: none;\">\n",
       "                site_3\n",
       "            </td>\n",
       "        </tr>\n",
       "    \n",
       "        <tr style=\"background-color: hsl(120, 100.00%, 96.57%); border: none;\">\n",
       "            <td style=\"padding: 0 1em 0 0.5em; text-align: right; border: none;\">\n",
       "                0.0212\n",
       "                \n",
       "            </td>\n",
       "            <td style=\"padding: 0 0.5em 0 0.5em; text-align: left; border: none;\">\n",
       "                hour\n",
       "            </td>\n",
       "        </tr>\n",
       "    \n",
       "        <tr style=\"background-color: hsl(120, 100.00%, 97.46%); border: none;\">\n",
       "            <td style=\"padding: 0 1em 0 0.5em; text-align: right; border: none;\">\n",
       "                0.0138\n",
       "                \n",
       "            </td>\n",
       "            <td style=\"padding: 0 0.5em 0 0.5em; text-align: left; border: none;\">\n",
       "                site_11\n",
       "            </td>\n",
       "        </tr>\n",
       "    \n",
       "        <tr style=\"background-color: hsl(120, 100.00%, 97.53%); border: none;\">\n",
       "            <td style=\"padding: 0 1em 0 0.5em; text-align: right; border: none;\">\n",
       "                0.0132\n",
       "                \n",
       "            </td>\n",
       "            <td style=\"padding: 0 0.5em 0 0.5em; text-align: left; border: none;\">\n",
       "                month\n",
       "            </td>\n",
       "        </tr>\n",
       "    \n",
       "        <tr style=\"background-color: hsl(120, 100.00%, 97.73%); border: none;\">\n",
       "            <td style=\"padding: 0 1em 0 0.5em; text-align: right; border: none;\">\n",
       "                0.0117\n",
       "                \n",
       "            </td>\n",
       "            <td style=\"padding: 0 0.5em 0 0.5em; text-align: left; border: none;\">\n",
       "                os\n",
       "            </td>\n",
       "        </tr>\n",
       "    \n",
       "        <tr style=\"background-color: hsl(120, 100.00%, 97.80%); border: none;\">\n",
       "            <td style=\"padding: 0 1em 0 0.5em; text-align: right; border: none;\">\n",
       "                0.0112\n",
       "                \n",
       "            </td>\n",
       "            <td style=\"padding: 0 0.5em 0 0.5em; text-align: left; border: none;\">\n",
       "                session_len\n",
       "            </td>\n",
       "        </tr>\n",
       "    \n",
       "        <tr style=\"background-color: hsl(120, 100.00%, 97.83%); border: none;\">\n",
       "            <td style=\"padding: 0 1em 0 0.5em; text-align: right; border: none;\">\n",
       "                0.0110\n",
       "                \n",
       "            </td>\n",
       "            <td style=\"padding: 0 0.5em 0 0.5em; text-align: left; border: none;\">\n",
       "                site_6\n",
       "            </td>\n",
       "        </tr>\n",
       "    \n",
       "        <tr style=\"background-color: hsl(120, 100.00%, 98.27%); border: none;\">\n",
       "            <td style=\"padding: 0 1em 0 0.5em; text-align: right; border: none;\">\n",
       "                0.0080\n",
       "                \n",
       "            </td>\n",
       "            <td style=\"padding: 0 0.5em 0 0.5em; text-align: left; border: none;\">\n",
       "                sites_num\n",
       "            </td>\n",
       "        </tr>\n",
       "    \n",
       "        <tr style=\"background-color: hsl(120, 100.00%, 98.39%); border: none;\">\n",
       "            <td style=\"padding: 0 1em 0 0.5em; text-align: right; border: none;\">\n",
       "                0.0072\n",
       "                \n",
       "            </td>\n",
       "            <td style=\"padding: 0 0.5em 0 0.5em; text-align: left; border: none;\">\n",
       "                max_len_site\n",
       "            </td>\n",
       "        </tr>\n",
       "    \n",
       "        <tr style=\"background-color: hsl(120, 100.00%, 98.43%); border: none;\">\n",
       "            <td style=\"padding: 0 1em 0 0.5em; text-align: right; border: none;\">\n",
       "                0.0069\n",
       "                \n",
       "            </td>\n",
       "            <td style=\"padding: 0 0.5em 0 0.5em; text-align: left; border: none;\">\n",
       "                day\n",
       "            </td>\n",
       "        </tr>\n",
       "    \n",
       "    \n",
       "        \n",
       "            <tr style=\"background-color: hsl(120, 100.00%, 98.43%); border: none;\">\n",
       "                <td colspan=\"2\" style=\"padding: 0 0.5em 0 0.5em; text-align: center; border: none; white-space: nowrap;\">\n",
       "                    <i>&hellip; 8 more &hellip;</i>\n",
       "                </td>\n",
       "            </tr>\n",
       "        \n",
       "    \n",
       "    </tbody>\n",
       "</table>\n",
       "    \n",
       "\n",
       "    \n",
       "\n",
       "\n",
       "    \n",
       "\n",
       "    \n",
       "\n",
       "    \n",
       "\n",
       "    \n",
       "\n",
       "    \n",
       "\n",
       "    \n",
       "\n",
       "\n",
       "\n"
      ],
      "text/plain": [
       "<IPython.core.display.HTML object>"
      ]
     },
     "execution_count": 13,
     "metadata": {},
     "output_type": "execute_result"
    }
   ],
   "source": [
    "from eli5 import (\n",
    "    show_weights,\n",
    "    show_prediction,\n",
    "    explain_weights_xgboost,\n",
    "    explain_prediction,\n",
    "    format_as_dataframes,\n",
    ")\n",
    "\n",
    "show_weights(base_model)\n"
   ]
  },
  {
   "cell_type": "code",
   "execution_count": 14,
   "metadata": {},
   "outputs": [],
   "source": [
    "def categorize_column(series, num_bins):\n",
    "    bins = pd.cut(series, num_bins, retbins=True)[1]\n",
    "    return pd.Series(np.digitize(series, bins, right=True))\n"
   ]
  },
  {
   "cell_type": "code",
   "execution_count": 15,
   "metadata": {},
   "outputs": [],
   "source": [
    "to_drop = list(scores[-7:].index)\n"
   ]
  },
  {
   "cell_type": "code",
   "execution_count": 16,
   "metadata": {},
   "outputs": [],
   "source": [
    "def func(X, to_drop):\n",
    "    x_c = X.copy()\n",
    "    x_c.drop(to_drop, axis=1, inplace=True)\n",
    "\n",
    "    X_train, X_test, y_train, y_test = train_test_split(\n",
    "        x_c, y, test_size=0.35, random_state=43, stratify=y\n",
    "    )\n",
    "    base_model = xgb.XGBClassifier()\n",
    "    base_model.fit(X_train, y_train)\n",
    "    predictions = base_model.predict(X_test)\n",
    "    print(\"ROC: \" + str(roc_auc_score(predictions, y_test)))\n",
    "    print(\"F1: \" + str(f1_score(predictions, y_test)))\n",
    "    # display(show_weights(base_model, targets=y))\n"
   ]
  },
  {
   "cell_type": "code",
   "execution_count": 17,
   "metadata": {},
   "outputs": [
    {
     "name": "stderr",
     "output_type": "stream",
     "text": [
      "/Library/Frameworks/Python.framework/Versions/3.10/lib/python3.10/site-packages/xgboost/sklearn.py:892: UserWarning: The use of label encoder in XGBClassifier is deprecated and will be removed in a future release. To remove this warning, do the following: 1) Pass option use_label_encoder=False when constructing XGBClassifier object; and 2) Encode your labels (y) as integers starting with 0, i.e. 0, 1, 2, ..., [num_class - 1].\n",
      "  warnings.warn(label_encoder_deprecation_msg, UserWarning)\n"
     ]
    },
    {
     "name": "stdout",
     "output_type": "stream",
     "text": [
      "[10:11:34] WARNING: /Users/travis/build/dmlc/xgboost/src/learner.cc:1061: Starting in XGBoost 1.3.0, the default evaluation metric used with the objective 'binary:logistic' was changed from 'error' to 'logloss'. Explicitly set eval_metric if you'd like to restore the old behavior.\n"
     ]
    },
    {
     "name": "stderr",
     "output_type": "stream",
     "text": [
      "/Library/Frameworks/Python.framework/Versions/3.10/lib/python3.10/site-packages/xgboost/sklearn.py:892: UserWarning: The use of label encoder in XGBClassifier is deprecated and will be removed in a future release. To remove this warning, do the following: 1) Pass option use_label_encoder=False when constructing XGBClassifier object; and 2) Encode your labels (y) as integers starting with 0, i.e. 0, 1, 2, ..., [num_class - 1].\n",
      "  warnings.warn(label_encoder_deprecation_msg, UserWarning)\n"
     ]
    },
    {
     "name": "stdout",
     "output_type": "stream",
     "text": [
      "[10:11:36] WARNING: /Users/travis/build/dmlc/xgboost/src/learner.cc:1061: Starting in XGBoost 1.3.0, the default evaluation metric used with the objective 'binary:logistic' was changed from 'error' to 'logloss'. Explicitly set eval_metric if you'd like to restore the old behavior.\n"
     ]
    },
    {
     "name": "stderr",
     "output_type": "stream",
     "text": [
      "/Library/Frameworks/Python.framework/Versions/3.10/lib/python3.10/site-packages/xgboost/sklearn.py:892: UserWarning: The use of label encoder in XGBClassifier is deprecated and will be removed in a future release. To remove this warning, do the following: 1) Pass option use_label_encoder=False when constructing XGBClassifier object; and 2) Encode your labels (y) as integers starting with 0, i.e. 0, 1, 2, ..., [num_class - 1].\n",
      "  warnings.warn(label_encoder_deprecation_msg, UserWarning)\n"
     ]
    },
    {
     "name": "stdout",
     "output_type": "stream",
     "text": [
      "[10:11:38] WARNING: /Users/travis/build/dmlc/xgboost/src/learner.cc:1061: Starting in XGBoost 1.3.0, the default evaluation metric used with the objective 'binary:logistic' was changed from 'error' to 'logloss'. Explicitly set eval_metric if you'd like to restore the old behavior.\n"
     ]
    },
    {
     "name": "stderr",
     "output_type": "stream",
     "text": [
      "/Library/Frameworks/Python.framework/Versions/3.10/lib/python3.10/site-packages/xgboost/sklearn.py:892: UserWarning: The use of label encoder in XGBClassifier is deprecated and will be removed in a future release. To remove this warning, do the following: 1) Pass option use_label_encoder=False when constructing XGBClassifier object; and 2) Encode your labels (y) as integers starting with 0, i.e. 0, 1, 2, ..., [num_class - 1].\n",
      "  warnings.warn(label_encoder_deprecation_msg, UserWarning)\n"
     ]
    },
    {
     "name": "stdout",
     "output_type": "stream",
     "text": [
      "[10:11:40] WARNING: /Users/travis/build/dmlc/xgboost/src/learner.cc:1061: Starting in XGBoost 1.3.0, the default evaluation metric used with the objective 'binary:logistic' was changed from 'error' to 'logloss'. Explicitly set eval_metric if you'd like to restore the old behavior.\n"
     ]
    },
    {
     "name": "stderr",
     "output_type": "stream",
     "text": [
      "/Library/Frameworks/Python.framework/Versions/3.10/lib/python3.10/site-packages/xgboost/sklearn.py:892: UserWarning: The use of label encoder in XGBClassifier is deprecated and will be removed in a future release. To remove this warning, do the following: 1) Pass option use_label_encoder=False when constructing XGBClassifier object; and 2) Encode your labels (y) as integers starting with 0, i.e. 0, 1, 2, ..., [num_class - 1].\n",
      "  warnings.warn(label_encoder_deprecation_msg, UserWarning)\n"
     ]
    },
    {
     "name": "stdout",
     "output_type": "stream",
     "text": [
      "[10:11:42] WARNING: /Users/travis/build/dmlc/xgboost/src/learner.cc:1061: Starting in XGBoost 1.3.0, the default evaluation metric used with the objective 'binary:logistic' was changed from 'error' to 'logloss'. Explicitly set eval_metric if you'd like to restore the old behavior.\n"
     ]
    },
    {
     "name": "stderr",
     "output_type": "stream",
     "text": [
      "/Library/Frameworks/Python.framework/Versions/3.10/lib/python3.10/site-packages/xgboost/sklearn.py:892: UserWarning: The use of label encoder in XGBClassifier is deprecated and will be removed in a future release. To remove this warning, do the following: 1) Pass option use_label_encoder=False when constructing XGBClassifier object; and 2) Encode your labels (y) as integers starting with 0, i.e. 0, 1, 2, ..., [num_class - 1].\n",
      "  warnings.warn(label_encoder_deprecation_msg, UserWarning)\n"
     ]
    },
    {
     "name": "stdout",
     "output_type": "stream",
     "text": [
      "[10:11:44] WARNING: /Users/travis/build/dmlc/xgboost/src/learner.cc:1061: Starting in XGBoost 1.3.0, the default evaluation metric used with the objective 'binary:logistic' was changed from 'error' to 'logloss'. Explicitly set eval_metric if you'd like to restore the old behavior.\n"
     ]
    },
    {
     "name": "stderr",
     "output_type": "stream",
     "text": [
      "/Library/Frameworks/Python.framework/Versions/3.10/lib/python3.10/site-packages/xgboost/sklearn.py:892: UserWarning: The use of label encoder in XGBClassifier is deprecated and will be removed in a future release. To remove this warning, do the following: 1) Pass option use_label_encoder=False when constructing XGBClassifier object; and 2) Encode your labels (y) as integers starting with 0, i.e. 0, 1, 2, ..., [num_class - 1].\n",
      "  warnings.warn(label_encoder_deprecation_msg, UserWarning)\n"
     ]
    },
    {
     "name": "stdout",
     "output_type": "stream",
     "text": [
      "[10:11:46] WARNING: /Users/travis/build/dmlc/xgboost/src/learner.cc:1061: Starting in XGBoost 1.3.0, the default evaluation metric used with the objective 'binary:logistic' was changed from 'error' to 'logloss'. Explicitly set eval_metric if you'd like to restore the old behavior.\n"
     ]
    },
    {
     "name": "stderr",
     "output_type": "stream",
     "text": [
      "/Library/Frameworks/Python.framework/Versions/3.10/lib/python3.10/site-packages/xgboost/sklearn.py:892: UserWarning: The use of label encoder in XGBClassifier is deprecated and will be removed in a future release. To remove this warning, do the following: 1) Pass option use_label_encoder=False when constructing XGBClassifier object; and 2) Encode your labels (y) as integers starting with 0, i.e. 0, 1, 2, ..., [num_class - 1].\n",
      "  warnings.warn(label_encoder_deprecation_msg, UserWarning)\n"
     ]
    },
    {
     "name": "stdout",
     "output_type": "stream",
     "text": [
      "[10:11:48] WARNING: /Users/travis/build/dmlc/xgboost/src/learner.cc:1061: Starting in XGBoost 1.3.0, the default evaluation metric used with the objective 'binary:logistic' was changed from 'error' to 'logloss'. Explicitly set eval_metric if you'd like to restore the old behavior.\n"
     ]
    },
    {
     "name": "stderr",
     "output_type": "stream",
     "text": [
      "/Library/Frameworks/Python.framework/Versions/3.10/lib/python3.10/site-packages/xgboost/sklearn.py:892: UserWarning: The use of label encoder in XGBClassifier is deprecated and will be removed in a future release. To remove this warning, do the following: 1) Pass option use_label_encoder=False when constructing XGBClassifier object; and 2) Encode your labels (y) as integers starting with 0, i.e. 0, 1, 2, ..., [num_class - 1].\n",
      "  warnings.warn(label_encoder_deprecation_msg, UserWarning)\n"
     ]
    },
    {
     "name": "stdout",
     "output_type": "stream",
     "text": [
      "[10:11:50] WARNING: /Users/travis/build/dmlc/xgboost/src/learner.cc:1061: Starting in XGBoost 1.3.0, the default evaluation metric used with the objective 'binary:logistic' was changed from 'error' to 'logloss'. Explicitly set eval_metric if you'd like to restore the old behavior.\n"
     ]
    },
    {
     "name": "stderr",
     "output_type": "stream",
     "text": [
      "/Library/Frameworks/Python.framework/Versions/3.10/lib/python3.10/site-packages/xgboost/sklearn.py:892: UserWarning: The use of label encoder in XGBClassifier is deprecated and will be removed in a future release. To remove this warning, do the following: 1) Pass option use_label_encoder=False when constructing XGBClassifier object; and 2) Encode your labels (y) as integers starting with 0, i.e. 0, 1, 2, ..., [num_class - 1].\n",
      "  warnings.warn(label_encoder_deprecation_msg, UserWarning)\n"
     ]
    },
    {
     "name": "stdout",
     "output_type": "stream",
     "text": [
      "[10:11:52] WARNING: /Users/travis/build/dmlc/xgboost/src/learner.cc:1061: Starting in XGBoost 1.3.0, the default evaluation metric used with the objective 'binary:logistic' was changed from 'error' to 'logloss'. Explicitly set eval_metric if you'd like to restore the old behavior.\n",
      "AUC scores on the training set:  [0.99944271 0.99945069 0.99982967 0.99984528 0.99993613] Mean of AUC scores:  0.9997008959893975\n"
     ]
    }
   ],
   "source": [
    "from sklearn.model_selection import cross_validate, cross_val_score\n",
    "\n",
    "print(\n",
    "    \"AUC scores on the training set: \",\n",
    "    cross_val_score(base_model, X, y, cv=5, scoring=\"roc_auc\"),\n",
    "    \"Mean of AUC scores: \",\n",
    "    np.mean(cross_val_score(base_model, X, y, cv=5, scoring=\"roc_auc\")),\n",
    ")\n"
   ]
  },
  {
   "cell_type": "code",
   "execution_count": 18,
   "metadata": {},
   "outputs": [],
   "source": [
    "from sklearn.tree import DecisionTreeClassifier\n"
   ]
  },
  {
   "cell_type": "code",
   "execution_count": 19,
   "metadata": {},
   "outputs": [],
   "source": [
    "dtree = DecisionTreeClassifier(\n",
    "    max_depth=10, random_state=0, max_features=None, min_samples_leaf=15\n",
    ")\n"
   ]
  },
  {
   "cell_type": "code",
   "execution_count": 20,
   "metadata": {},
   "outputs": [
    {
     "name": "stdout",
     "output_type": "stream",
     "text": [
      "ROC: 0.8512173569791149\n",
      "F1: 0.7999999999999999\n"
     ]
    }
   ],
   "source": [
    "dtree.fit(X, y)\n",
    "predictions = dtree.predict(X_test)\n",
    "print(\"ROC: \" + str(roc_auc_score(y_test, predictions)))\n",
    "print(\"F1: \" + str(f1_score(y_test, predictions)))\n"
   ]
  },
  {
   "cell_type": "code",
   "execution_count": 21,
   "metadata": {},
   "outputs": [],
   "source": [
    "import optuna\n",
    "import xgboost as xgb\n",
    "from sklearn.model_selection import train_test_split, StratifiedKFold\n",
    "\n",
    "\n",
    "def objective(trial):\n",
    "    train_x, test_x, train_y, test_y = train_test_split(\n",
    "        X, y, test_size=0.25, stratify=y\n",
    "    )\n",
    "    dtrain = xgb.DMatrix(train_x, label=train_y)\n",
    "    dtest = xgb.DMatrix(test_x, label=test_y)\n",
    "\n",
    "    param = {\n",
    "        \"verbosity\": 0,\n",
    "        \"objective\": \"binary:logistic\",\n",
    "        \"eval_metric\": \"auc\",\n",
    "        \"n_estimators\": trial.suggest_int(\"n_estimators\", 100,1000,50),\n",
    "        \"booster\": trial.suggest_categorical(\"booster\", [\"gbtree\", \"gblinear\", \"dart\"]),\n",
    "        \"lambda\": trial.suggest_loguniform(\"lambda\", 1e-8, 1.0),\n",
    "        \"alpha\": trial.suggest_loguniform(\"alpha\", 1e-8, 1.0),\n",
    "        \"learning_rate\": trial.suggest_uniform(\"learning_rate\", 1e-3, 1e-1),\n",
    "        \"subsample_range\": trial.suggest_uniform(\"subsample_range\", 1e-3, 99e-2),\n",
    "        \"colsample_bytree\": trial.suggest_uniform(\"colsample_bytree\", 1e-3, 99e-2),\n",
    "        \"scale_pos_weight\": trial.suggest_int('scale_pos_weight', 1, 100),\n",
    "        \"min_child_weight\": trial.suggest_int('min_child_weight', 1, 20),\n",
    "\n",
    "\n",
    "\n",
    "\n",
    "    }\n",
    "    if param[\"booster\"] == \"gbtree\" or param[\"booster\"] == \"dart\":\n",
    "        param[\"max_depth\"] = trial.suggest_int(\"max_depth\", 1, 9)\n",
    "        param[\"eta\"] = trial.suggest_loguniform(\"eta\", 1e-8, 1.0)\n",
    "        param[\"gamma\"] = trial.suggest_loguniform(\"gamma\", 1e-8, 1.0)\n",
    "        param[\"grow_policy\"] = trial.suggest_categorical(\n",
    "            \"grow_policy\", [\"depthwise\", \"lossguide\"]\n",
    "        )\n",
    "    if param[\"booster\"] == \"dart\":\n",
    "        param[\"sample_type\"] = trial.suggest_categorical(\n",
    "            \"sample_type\", [\"uniform\", \"weighted\"]\n",
    "        )\n",
    "        param[\"normalize_type\"] = trial.suggest_categorical(\n",
    "            \"normalize_type\", [\"tree\", \"forest\"]\n",
    "        )\n",
    "        param[\"rate_drop\"] = trial.suggest_loguniform(\"rate_drop\", 1e-8, 1.0)\n",
    "        param[\"skip_drop\"] = trial.suggest_loguniform(\"skip_drop\", 1e-8, 1.0)\n",
    "\n",
    "    # Callback for pruning\n",
    "    pruning_callback = optuna.integration.XGBoostPruningCallback(\n",
    "        trial, \"validation-auc\"\n",
    "    )\n",
    "\n",
    "    \n",
    "    bst = xgb.train(\n",
    "        param, dtrain, \n",
    "    )\n",
    "    preds = bst.predict(dtest)\n",
    "    pred_labels = np.rint(preds)\n",
    "    auc = roc_auc_score(test_y, pred_labels)\n",
    "    return auc\n"
   ]
  },
  {
   "cell_type": "code",
   "execution_count": 22,
   "metadata": {},
   "outputs": [
    {
     "name": "stderr",
     "output_type": "stream",
     "text": [
      "\u001b[32m[I 2022-01-30 10:11:54,709]\u001b[0m A new study created in memory with name: no-name-1efd227f-48f5-40ec-9780-c8dac89ba4d9\u001b[0m\n",
      "\u001b[32m[I 2022-01-30 10:11:54,808]\u001b[0m Trial 0 finished with value: 0.49996650140694093 and parameters: {'n_estimators': 400, 'booster': 'gblinear', 'lambda': 0.00012825268232730556, 'alpha': 0.009362741271236825, 'learning_rate': 0.03667821154216948, 'subsample_range': 0.5186048756770885, 'colsample_bytree': 0.4277916040559594, 'scale_pos_weight': 33, 'min_child_weight': 16}. Best is trial 0 with value: 0.49996650140694093.\u001b[0m\n",
      "\u001b[32m[I 2022-01-30 10:11:54,919]\u001b[0m Trial 1 finished with value: 0.8897380228949302 and parameters: {'n_estimators': 750, 'booster': 'gbtree', 'lambda': 0.05014804680852664, 'alpha': 0.0003518572668646824, 'learning_rate': 0.006446250160670874, 'subsample_range': 0.9243421174109409, 'colsample_bytree': 0.4248875139928426, 'scale_pos_weight': 53, 'min_child_weight': 1, 'max_depth': 1, 'eta': 1.8288625109059393e-05, 'gamma': 0.00017322613863662422, 'grow_policy': 'depthwise'}. Best is trial 1 with value: 0.8897380228949302.\u001b[0m\n",
      "\u001b[32m[I 2022-01-30 10:11:55,102]\u001b[0m Trial 2 finished with value: 0.9769629270165247 and parameters: {'n_estimators': 250, 'booster': 'dart', 'lambda': 1.0013629729170218e-05, 'alpha': 4.042383110089851e-05, 'learning_rate': 0.019120335990979835, 'subsample_range': 0.9050176772826581, 'colsample_bytree': 0.4855188519923616, 'scale_pos_weight': 75, 'min_child_weight': 6, 'max_depth': 4, 'eta': 1.2329741610053696e-06, 'gamma': 3.0665795286048556e-05, 'grow_policy': 'depthwise', 'sample_type': 'weighted', 'normalize_type': 'tree', 'rate_drop': 3.305095183860678e-08, 'skip_drop': 6.228037069367858e-07}. Best is trial 2 with value: 0.9769629270165247.\u001b[0m\n",
      "\u001b[32m[I 2022-01-30 10:11:55,192]\u001b[0m Trial 3 finished with value: 0.8147160932061144 and parameters: {'n_estimators': 350, 'booster': 'gblinear', 'lambda': 0.00032610569643859666, 'alpha': 3.9092000219328236e-05, 'learning_rate': 0.033914911764072804, 'subsample_range': 0.1285053773379649, 'colsample_bytree': 0.27000701224161244, 'scale_pos_weight': 93, 'min_child_weight': 17}. Best is trial 2 with value: 0.9769629270165247.\u001b[0m\n",
      "\u001b[32m[I 2022-01-30 10:11:55,282]\u001b[0m Trial 4 finished with value: 0.5 and parameters: {'n_estimators': 350, 'booster': 'gblinear', 'lambda': 7.300756214204258e-05, 'alpha': 0.009634057897277507, 'learning_rate': 0.0031327302070570735, 'subsample_range': 0.8037676037171771, 'colsample_bytree': 0.06462955920533181, 'scale_pos_weight': 60, 'min_child_weight': 15}. Best is trial 2 with value: 0.9769629270165247.\u001b[0m\n",
      "\u001b[32m[I 2022-01-30 10:11:55,469]\u001b[0m Trial 5 finished with value: 0.7386206478836272 and parameters: {'n_estimators': 350, 'booster': 'dart', 'lambda': 6.930316983012164e-06, 'alpha': 4.026115969584071e-05, 'learning_rate': 0.03632665257426328, 'subsample_range': 0.7135185861255036, 'colsample_bytree': 0.11962020105757937, 'scale_pos_weight': 51, 'min_child_weight': 2, 'max_depth': 7, 'eta': 2.2950680243503032e-08, 'gamma': 9.248071556621245e-06, 'grow_policy': 'depthwise', 'sample_type': 'uniform', 'normalize_type': 'tree', 'rate_drop': 1.2092685111009224e-05, 'skip_drop': 2.8210762763625547e-07}. Best is trial 2 with value: 0.9769629270165247.\u001b[0m\n",
      "\u001b[32m[I 2022-01-30 10:11:55,566]\u001b[0m Trial 6 finished with value: 0.8542711515677668 and parameters: {'n_estimators': 150, 'booster': 'gbtree', 'lambda': 2.7626981186782833e-05, 'alpha': 0.43287694652897457, 'learning_rate': 0.0917290667679641, 'subsample_range': 0.8822599783664654, 'colsample_bytree': 0.30003709205009804, 'scale_pos_weight': 36, 'min_child_weight': 18, 'max_depth': 1, 'eta': 3.055676603236417e-07, 'gamma': 1.0467361120153099e-08, 'grow_policy': 'depthwise'}. Best is trial 2 with value: 0.9769629270165247.\u001b[0m\n",
      "\u001b[32m[I 2022-01-30 10:11:55,762]\u001b[0m Trial 7 finished with value: 0.9851959903493808 and parameters: {'n_estimators': 400, 'booster': 'gbtree', 'lambda': 0.007855576845663867, 'alpha': 1.5040007130446673e-06, 'learning_rate': 0.07093448052898385, 'subsample_range': 0.5520905730180299, 'colsample_bytree': 0.34223516448973035, 'scale_pos_weight': 32, 'min_child_weight': 17, 'max_depth': 8, 'eta': 9.940557888536384e-06, 'gamma': 0.06805045292699165, 'grow_policy': 'depthwise'}. Best is trial 7 with value: 0.9851959903493808.\u001b[0m\n",
      "\u001b[32m[I 2022-01-30 10:11:56,073]\u001b[0m Trial 8 finished with value: 0.9653452527966799 and parameters: {'n_estimators': 950, 'booster': 'gbtree', 'lambda': 1.1083456327542943e-06, 'alpha': 3.817457047916017e-05, 'learning_rate': 0.016548515889126893, 'subsample_range': 0.44090100443385627, 'colsample_bytree': 0.8002015054113811, 'scale_pos_weight': 46, 'min_child_weight': 9, 'max_depth': 9, 'eta': 2.430345913948849e-07, 'gamma': 0.0685788552232772, 'grow_policy': 'lossguide'}. Best is trial 7 with value: 0.9851959903493808.\u001b[0m\n",
      "\u001b[32m[I 2022-01-30 10:11:56,318]\u001b[0m Trial 9 finished with value: 0.9188184231397416 and parameters: {'n_estimators': 350, 'booster': 'dart', 'lambda': 3.9112869770224587e-07, 'alpha': 3.3840145180713924e-08, 'learning_rate': 0.04065088553047899, 'subsample_range': 0.0666937361122129, 'colsample_bytree': 0.5592753927719707, 'scale_pos_weight': 8, 'min_child_weight': 20, 'max_depth': 7, 'eta': 0.04832851730765307, 'gamma': 0.000648977379177246, 'grow_policy': 'lossguide', 'sample_type': 'weighted', 'normalize_type': 'forest', 'rate_drop': 4.0539256617907174e-05, 'skip_drop': 6.881419367733969e-06}. Best is trial 7 with value: 0.9851959903493808.\u001b[0m\n",
      "\u001b[32m[I 2022-01-30 10:11:56,622]\u001b[0m Trial 10 finished with value: 0.8374693533141878 and parameters: {'n_estimators': 600, 'booster': 'gbtree', 'lambda': 0.6586538100010267, 'alpha': 7.502625680760173e-08, 'learning_rate': 0.07399950493978599, 'subsample_range': 0.33063397001021233, 'colsample_bytree': 0.9756574074400657, 'scale_pos_weight': 4, 'min_child_weight': 12, 'max_depth': 9, 'eta': 0.004186538344416879, 'gamma': 0.25518016941317684, 'grow_policy': 'depthwise'}. Best is trial 7 with value: 0.9851959903493808.\u001b[0m\n",
      "\u001b[32m[I 2022-01-30 10:11:56,875]\u001b[0m Trial 11 finished with value: 0.9823983569352583 and parameters: {'n_estimators': 100, 'booster': 'dart', 'lambda': 1.6594758741132405e-08, 'alpha': 1.012377214970564e-06, 'learning_rate': 0.06722704557620865, 'subsample_range': 0.6286138140372701, 'colsample_bytree': 0.640066596378048, 'scale_pos_weight': 79, 'min_child_weight': 6, 'max_depth': 4, 'eta': 3.59054650246629e-05, 'gamma': 2.3946243003698175e-06, 'grow_policy': 'depthwise', 'sample_type': 'weighted', 'normalize_type': 'tree', 'rate_drop': 1.1317343389797033e-08, 'skip_drop': 0.1921178467553917}. Best is trial 7 with value: 0.9851959903493808.\u001b[0m\n",
      "\u001b[32m[I 2022-01-30 10:11:57,149]\u001b[0m Trial 12 finished with value: 0.9888449685113225 and parameters: {'n_estimators': 100, 'booster': 'dart', 'lambda': 2.277922244561774e-08, 'alpha': 6.652486091894025e-07, 'learning_rate': 0.062080100497625246, 'subsample_range': 0.6056788774285241, 'colsample_bytree': 0.7173215253750567, 'scale_pos_weight': 96, 'min_child_weight': 6, 'max_depth': 4, 'eta': 0.0003385114754705942, 'gamma': 3.477431805586437e-07, 'grow_policy': 'depthwise', 'sample_type': 'weighted', 'normalize_type': 'tree', 'rate_drop': 0.15067306195303842, 'skip_drop': 0.48977340897808175}. Best is trial 12 with value: 0.9888449685113225.\u001b[0m\n",
      "\u001b[32m[I 2022-01-30 10:11:57,408]\u001b[0m Trial 13 finished with value: 0.9451084811194687 and parameters: {'n_estimators': 600, 'booster': 'gbtree', 'lambda': 0.006899072757690989, 'alpha': 7.875055640903072e-07, 'learning_rate': 0.06368902061103647, 'subsample_range': 0.2730990023458296, 'colsample_bytree': 0.7486439773362248, 'scale_pos_weight': 23, 'min_child_weight': 11, 'max_depth': 6, 'eta': 0.0012318358328857965, 'gamma': 2.7450679562057403e-08, 'grow_policy': 'depthwise'}. Best is trial 12 with value: 0.9888449685113225.\u001b[0m\n",
      "\u001b[32m[I 2022-01-30 10:11:57,637]\u001b[0m Trial 14 finished with value: 0.9882419938362589 and parameters: {'n_estimators': 500, 'booster': 'dart', 'lambda': 0.0028353954086359602, 'alpha': 1.447250174081675e-06, 'learning_rate': 0.08840549147675236, 'subsample_range': 0.5541811860762759, 'colsample_bytree': 0.8980118610512393, 'scale_pos_weight': 99, 'min_child_weight': 6, 'max_depth': 3, 'eta': 0.0005016384371170814, 'gamma': 0.0034338482423157315, 'grow_policy': 'lossguide', 'sample_type': 'uniform', 'normalize_type': 'forest', 'rate_drop': 0.30147446215097706, 'skip_drop': 0.892077750500254}. Best is trial 12 with value: 0.9888449685113225.\u001b[0m\n",
      "\u001b[32m[I 2022-01-30 10:11:57,853]\u001b[0m Trial 15 finished with value: 0.9883097742346084 and parameters: {'n_estimators': 800, 'booster': 'dart', 'lambda': 0.00108701921509045, 'alpha': 1.5154741579598844e-08, 'learning_rate': 0.09889636504228883, 'subsample_range': 0.7040910331478117, 'colsample_bytree': 0.9126082863765437, 'scale_pos_weight': 93, 'min_child_weight': 5, 'max_depth': 3, 'eta': 0.47332411033348476, 'gamma': 0.0031735552624822428, 'grow_policy': 'lossguide', 'sample_type': 'uniform', 'normalize_type': 'forest', 'rate_drop': 0.7016969411033106, 'skip_drop': 0.3715705165071533}. Best is trial 12 with value: 0.9888449685113225.\u001b[0m\n",
      "\u001b[32m[I 2022-01-30 10:11:58,065]\u001b[0m Trial 16 finished with value: 0.9875393582099551 and parameters: {'n_estimators': 850, 'booster': 'dart', 'lambda': 1.3822351103861523e-08, 'alpha': 1.0933251295475373e-08, 'learning_rate': 0.0989956106828858, 'subsample_range': 0.7211513157846859, 'colsample_bytree': 0.712138235639223, 'scale_pos_weight': 82, 'min_child_weight': 4, 'max_depth': 3, 'eta': 0.29159404332218297, 'gamma': 6.829968763621368e-07, 'grow_policy': 'lossguide', 'sample_type': 'uniform', 'normalize_type': 'forest', 'rate_drop': 0.7749576223134849, 'skip_drop': 0.0023898355491582942}. Best is trial 12 with value: 0.9888449685113225.\u001b[0m\n",
      "\u001b[32m[I 2022-01-30 10:11:58,302]\u001b[0m Trial 17 finished with value: 0.9703075515453746 and parameters: {'n_estimators': 750, 'booster': 'dart', 'lambda': 1.7238522663419675e-07, 'alpha': 2.0865484380515196e-07, 'learning_rate': 0.05437536958743801, 'subsample_range': 0.40556990820287997, 'colsample_bytree': 0.8531254422142092, 'scale_pos_weight': 89, 'min_child_weight': 9, 'max_depth': 5, 'eta': 0.8273472797649484, 'gamma': 0.005244220219750313, 'grow_policy': 'lossguide', 'sample_type': 'weighted', 'normalize_type': 'forest', 'rate_drop': 0.014865824056335575, 'skip_drop': 0.005339718643395514}. Best is trial 12 with value: 0.9888449685113225.\u001b[0m\n",
      "\u001b[32m[I 2022-01-30 10:11:58,511]\u001b[0m Trial 18 finished with value: 0.9784618476586052 and parameters: {'n_estimators': 1000, 'booster': 'dart', 'lambda': 0.000799862631734828, 'alpha': 1.0483838679158011e-08, 'learning_rate': 0.08290124770018462, 'subsample_range': 0.6780887874082961, 'colsample_bytree': 0.9794191383899247, 'scale_pos_weight': 67, 'min_child_weight': 4, 'max_depth': 2, 'eta': 0.018011206870360025, 'gamma': 3.4246547186279375e-07, 'grow_policy': 'lossguide', 'sample_type': 'uniform', 'normalize_type': 'tree', 'rate_drop': 0.0067613436935841775, 'skip_drop': 0.017710249552337035}. Best is trial 12 with value: 0.9888449685113225.\u001b[0m\n",
      "\u001b[32m[I 2022-01-30 10:11:58,751]\u001b[0m Trial 19 finished with value: 0.9840646287450522 and parameters: {'n_estimators': 700, 'booster': 'dart', 'lambda': 0.15771379762220344, 'alpha': 1.450627633778736e-07, 'learning_rate': 0.05382350173763477, 'subsample_range': 0.7902271879584519, 'colsample_bytree': 0.6331039966692116, 'scale_pos_weight': 98, 'min_child_weight': 9, 'max_depth': 5, 'eta': 0.049764449774852865, 'gamma': 0.002606313776806959, 'grow_policy': 'lossguide', 'sample_type': 'uniform', 'normalize_type': 'forest', 'rate_drop': 0.007948682966073328, 'skip_drop': 0.00028606659989660957}. Best is trial 12 with value: 0.9888449685113225.\u001b[0m\n",
      "\u001b[32m[I 2022-01-30 10:11:58,962]\u001b[0m Trial 20 finished with value: 0.9801875979079924 and parameters: {'n_estimators': 500, 'booster': 'dart', 'lambda': 1.9607880658560112e-06, 'alpha': 3.555990915654247e-06, 'learning_rate': 0.08128841977098115, 'subsample_range': 0.6111484331014992, 'colsample_bytree': 0.8702076943354108, 'scale_pos_weight': 69, 'min_child_weight': 13, 'max_depth': 3, 'eta': 0.0002479924848798694, 'gamma': 6.50467619083921e-08, 'grow_policy': 'lossguide', 'sample_type': 'weighted', 'normalize_type': 'tree', 'rate_drop': 0.05111376247722708, 'skip_drop': 0.07025370178250112}. Best is trial 12 with value: 0.9888449685113225.\u001b[0m\n",
      "\u001b[32m[I 2022-01-30 10:11:59,191]\u001b[0m Trial 21 finished with value: 0.9837531823663407 and parameters: {'n_estimators': 850, 'booster': 'dart', 'lambda': 0.0017651488012034502, 'alpha': 5.5736589202798e-06, 'learning_rate': 0.0996757585337822, 'subsample_range': 0.5537148969951664, 'colsample_bytree': 0.8946986847442489, 'scale_pos_weight': 100, 'min_child_weight': 6, 'max_depth': 3, 'eta': 0.00041939490495881054, 'gamma': 0.007175634683386464, 'grow_policy': 'lossguide', 'sample_type': 'uniform', 'normalize_type': 'forest', 'rate_drop': 0.6608490551118983, 'skip_drop': 0.8751949671555521}. Best is trial 12 with value: 0.9888449685113225.\u001b[0m\n",
      "\u001b[32m[I 2022-01-30 10:11:59,428]\u001b[0m Trial 22 finished with value: 0.9911234675420378 and parameters: {'n_estimators': 200, 'booster': 'dart', 'lambda': 0.0060201146086452766, 'alpha': 2.4788371403413643e-07, 'learning_rate': 0.08685982657006869, 'subsample_range': 0.4638415244119185, 'colsample_bytree': 0.7033120523220073, 'scale_pos_weight': 87, 'min_child_weight': 4, 'max_depth': 4, 'eta': 0.00401270181161894, 'gamma': 0.00020186036841784262, 'grow_policy': 'lossguide', 'sample_type': 'uniform', 'normalize_type': 'forest', 'rate_drop': 0.15648955284886212, 'skip_drop': 0.8803664357636218}. Best is trial 22 with value: 0.9911234675420378.\u001b[0m\n",
      "\u001b[32m[I 2022-01-30 10:11:59,668]\u001b[0m Trial 23 finished with value: 0.989884102632813 and parameters: {'n_estimators': 200, 'booster': 'dart', 'lambda': 0.029455903985042928, 'alpha': 2.738045933270538e-07, 'learning_rate': 0.07928515242400899, 'subsample_range': 0.27835880401513535, 'colsample_bytree': 0.6792125384193622, 'scale_pos_weight': 87, 'min_child_weight': 3, 'max_depth': 4, 'eta': 0.006312671354065832, 'gamma': 0.00017477447224910312, 'grow_policy': 'lossguide', 'sample_type': 'uniform', 'normalize_type': 'forest', 'rate_drop': 0.001280191353945539, 'skip_drop': 0.054625819955031844}. Best is trial 22 with value: 0.9911234675420378.\u001b[0m\n",
      "\u001b[32m[I 2022-01-30 10:11:59,901]\u001b[0m Trial 24 finished with value: 0.9898499263030952 and parameters: {'n_estimators': 200, 'booster': 'dart', 'lambda': 0.049592334817669344, 'alpha': 1.735752334227583e-07, 'learning_rate': 0.061153353969291335, 'subsample_range': 0.20789469551349232, 'colsample_bytree': 0.6217038898911817, 'scale_pos_weight': 86, 'min_child_weight': 3, 'max_depth': 4, 'eta': 0.004318515033685644, 'gamma': 0.00013862479973322247, 'grow_policy': 'lossguide', 'sample_type': 'uniform', 'normalize_type': 'forest', 'rate_drop': 0.0005241126696378715, 'skip_drop': 0.027165809406841292}. Best is trial 22 with value: 0.9911234675420378.\u001b[0m\n",
      "\u001b[32m[I 2022-01-30 10:12:00,027]\u001b[0m Trial 25 finished with value: 0.8817179680839446 and parameters: {'n_estimators': 200, 'booster': 'gblinear', 'lambda': 0.02376698405427321, 'alpha': 1.710569615423031e-07, 'learning_rate': 0.08707339540141436, 'subsample_range': 0.22210145663980854, 'colsample_bytree': 0.6145836570036338, 'scale_pos_weight': 86, 'min_child_weight': 2}. Best is trial 22 with value: 0.9911234675420378.\u001b[0m\n",
      "\u001b[32m[I 2022-01-30 10:12:00,255]\u001b[0m Trial 26 finished with value: 0.9582770496612115 and parameters: {'n_estimators': 250, 'booster': 'dart', 'lambda': 0.7607763745040054, 'alpha': 7.457808908951156e-06, 'learning_rate': 0.07832863890199454, 'subsample_range': 0.20825364224614545, 'colsample_bytree': 0.5350221174961634, 'scale_pos_weight': 73, 'min_child_weight': 3, 'max_depth': 6, 'eta': 0.005500911678748874, 'gamma': 0.00011405150888272632, 'grow_policy': 'lossguide', 'sample_type': 'uniform', 'normalize_type': 'forest', 'rate_drop': 0.0004188684862378977, 'skip_drop': 0.028507499678810864}. Best is trial 22 with value: 0.9911234675420378.\u001b[0m\n",
      "\u001b[32m[I 2022-01-30 10:12:00,486]\u001b[0m Trial 27 finished with value: 0.9914243601768726 and parameters: {'n_estimators': 250, 'booster': 'dart', 'lambda': 0.14193132031506953, 'alpha': 0.0006223907937202104, 'learning_rate': 0.04524904906984369, 'subsample_range': 0.4192020049443498, 'colsample_bytree': 0.7616538114558085, 'scale_pos_weight': 62, 'min_child_weight': 1, 'max_depth': 5, 'eta': 0.004138046955973202, 'gamma': 2.263714737763922e-05, 'grow_policy': 'lossguide', 'sample_type': 'uniform', 'normalize_type': 'forest', 'rate_drop': 0.0004951807460680225, 'skip_drop': 1.0346566379821343e-08}. Best is trial 27 with value: 0.9914243601768726.\u001b[0m\n",
      "\u001b[32m[I 2022-01-30 10:12:00,735]\u001b[0m Trial 28 finished with value: 0.9888884261455614 and parameters: {'n_estimators': 250, 'booster': 'dart', 'lambda': 0.13957293117517114, 'alpha': 0.0008592423671224679, 'learning_rate': 0.048342838904227234, 'subsample_range': 0.3761766902255048, 'colsample_bytree': 0.7132299873841991, 'scale_pos_weight': 60, 'min_child_weight': 1, 'max_depth': 6, 'eta': 0.06260821377118066, 'gamma': 1.4692885097533359e-05, 'grow_policy': 'lossguide', 'sample_type': 'uniform', 'normalize_type': 'forest', 'rate_drop': 1.5479017806672501e-06, 'skip_drop': 7.201015831277802e-05}. Best is trial 27 with value: 0.9914243601768726.\u001b[0m\n",
      "\u001b[32m[I 2022-01-30 10:12:00,853]\u001b[0m Trial 29 finished with value: 0.6688546359405729 and parameters: {'n_estimators': 450, 'booster': 'gblinear', 'lambda': 0.013667604377006724, 'alpha': 0.017538725454954572, 'learning_rate': 0.04188421031722958, 'subsample_range': 0.4868727531666622, 'colsample_bytree': 0.7934822787438363, 'scale_pos_weight': 63, 'min_child_weight': 8}. Best is trial 27 with value: 0.9914243601768726.\u001b[0m\n",
      "\u001b[32m[I 2022-01-30 10:12:01,081]\u001b[0m Trial 30 finished with value: 0.9906210223085683 and parameters: {'n_estimators': 150, 'booster': 'dart', 'lambda': 0.21058530402948736, 'alpha': 0.00302433535152669, 'learning_rate': 0.025751431825007595, 'subsample_range': 0.31616727929936433, 'colsample_bytree': 0.44404283956722657, 'scale_pos_weight': 80, 'min_child_weight': 1, 'max_depth': 5, 'eta': 0.0017207929953374007, 'gamma': 0.0006906416791372405, 'grow_policy': 'lossguide', 'sample_type': 'uniform', 'normalize_type': 'forest', 'rate_drop': 0.0002909939124612716, 'skip_drop': 2.8911601973860613e-08}. Best is trial 27 with value: 0.9914243601768726.\u001b[0m\n",
      "\u001b[32m[I 2022-01-30 10:12:01,397]\u001b[0m Trial 31 finished with value: 0.969579656032825 and parameters: {'n_estimators': 150, 'booster': 'dart', 'lambda': 0.17715432739287146, 'alpha': 0.0020728824201450414, 'learning_rate': 0.021612356767885397, 'subsample_range': 0.32378083329602225, 'colsample_bytree': 0.4038825336039931, 'scale_pos_weight': 79, 'min_child_weight': 1, 'max_depth': 5, 'eta': 0.0018393884618832293, 'gamma': 0.0006253685014651959, 'grow_policy': 'lossguide', 'sample_type': 'uniform', 'normalize_type': 'forest', 'rate_drop': 0.0010768572916957536, 'skip_drop': 1.307414215466424e-08}. Best is trial 27 with value: 0.9914243601768726.\u001b[0m\n",
      "\u001b[32m[I 2022-01-30 10:12:01,779]\u001b[0m Trial 32 finished with value: 0.9901185770750989 and parameters: {'n_estimators': 300, 'booster': 'dart', 'lambda': 0.057197791791165783, 'alpha': 0.18024071232906969, 'learning_rate': 0.030297071581031124, 'subsample_range': 0.44119598753979417, 'colsample_bytree': 0.47049505337483644, 'scale_pos_weight': 74, 'min_child_weight': 3, 'max_depth': 5, 'eta': 0.011941893456400742, 'gamma': 4.041262114183779e-05, 'grow_policy': 'lossguide', 'sample_type': 'uniform', 'normalize_type': 'forest', 'rate_drop': 0.00012488846418293477, 'skip_drop': 2.3623662684739597e-08}. Best is trial 27 with value: 0.9914243601768726.\u001b[0m\n",
      "\u001b[32m[I 2022-01-30 10:12:02,018]\u001b[0m Trial 33 finished with value: 0.9647310977350044 and parameters: {'n_estimators': 300, 'booster': 'dart', 'lambda': 0.3260754978443364, 'alpha': 0.08746391007026694, 'learning_rate': 0.025681483408948633, 'subsample_range': 0.466066063395153, 'colsample_bytree': 0.4866648042800969, 'scale_pos_weight': 71, 'min_child_weight': 1, 'max_depth': 6, 'eta': 0.019595071415837953, 'gamma': 3.046190251584049e-05, 'grow_policy': 'lossguide', 'sample_type': 'uniform', 'normalize_type': 'forest', 'rate_drop': 3.780473979545454e-06, 'skip_drop': 1.3105961261327974e-08}. Best is trial 27 with value: 0.9914243601768726.\u001b[0m\n",
      "\u001b[32m[I 2022-01-30 10:12:02,231]\u001b[0m Trial 34 finished with value: 0.952506306949529 and parameters: {'n_estimators': 300, 'booster': 'dart', 'lambda': 0.08659127959070281, 'alpha': 0.0003465361383316873, 'learning_rate': 0.02982874518862009, 'subsample_range': 0.3838219729651309, 'colsample_bytree': 0.20947276771038156, 'scale_pos_weight': 55, 'min_child_weight': 4, 'max_depth': 5, 'eta': 8.324562950088041e-05, 'gamma': 0.0006961446726718692, 'grow_policy': 'lossguide', 'sample_type': 'uniform', 'normalize_type': 'forest', 'rate_drop': 9.4296926900185e-05, 'skip_drop': 8.11957485274481e-08}. Best is trial 27 with value: 0.9914243601768726.\u001b[0m\n",
      "\u001b[32m[I 2022-01-30 10:12:02,353]\u001b[0m Trial 35 finished with value: 0.5 and parameters: {'n_estimators': 150, 'booster': 'gblinear', 'lambda': 0.054678276182112746, 'alpha': 0.8492073800247741, 'learning_rate': 0.010546859251935305, 'subsample_range': 0.5068512351547867, 'colsample_bytree': 0.4364456193006244, 'scale_pos_weight': 74, 'min_child_weight': 2}. Best is trial 27 with value: 0.9914243601768726.\u001b[0m\n",
      "\u001b[32m[I 2022-01-30 10:12:02,638]\u001b[0m Trial 36 finished with value: 0.9788316840587663 and parameters: {'n_estimators': 300, 'booster': 'dart', 'lambda': 0.004181279286288611, 'alpha': 0.03917316140025921, 'learning_rate': 0.046285409958442526, 'subsample_range': 0.13266983740621643, 'colsample_bytree': 0.5512858675563264, 'scale_pos_weight': 45, 'min_child_weight': 1, 'max_depth': 5, 'eta': 0.0013041029465108373, 'gamma': 4.090885622993009e-06, 'grow_policy': 'lossguide', 'sample_type': 'uniform', 'normalize_type': 'forest', 'rate_drop': 5.192282789415364e-07, 'skip_drop': 6.370428108131356e-08}. Best is trial 27 with value: 0.9914243601768726.\u001b[0m\n",
      "\u001b[32m[I 2022-01-30 10:12:02,954]\u001b[0m Trial 37 finished with value: 0.6405854467625873 and parameters: {'n_estimators': 100, 'booster': 'gblinear', 'lambda': 0.0002466133203452686, 'alpha': 0.004121163025265337, 'learning_rate': 0.031124186222267355, 'subsample_range': 0.43172807704031974, 'colsample_bytree': 0.42150777110277327, 'scale_pos_weight': 66, 'min_child_weight': 7}. Best is trial 27 with value: 0.9914243601768726.\u001b[0m\n",
      "\u001b[32m[I 2022-01-30 10:12:03,294]\u001b[0m Trial 38 finished with value: 0.9654010247129637 and parameters: {'n_estimators': 250, 'booster': 'dart', 'lambda': 0.39673307444947614, 'alpha': 0.00015088398949950847, 'learning_rate': 0.014158091598925622, 'subsample_range': 0.33568413343597725, 'colsample_bytree': 0.3608554901234955, 'scale_pos_weight': 56, 'min_child_weight': 3, 'max_depth': 5, 'eta': 0.015970524771896148, 'gamma': 6.750262987933824e-05, 'grow_policy': 'lossguide', 'sample_type': 'uniform', 'normalize_type': 'forest', 'rate_drop': 0.00019721696768799213, 'skip_drop': 1.1911183948152886e-06}. Best is trial 27 with value: 0.9914243601768726.\u001b[0m\n",
      "\u001b[32m[I 2022-01-30 10:12:03,672]\u001b[0m Trial 39 finished with value: 0.9848100940559122 and parameters: {'n_estimators': 400, 'booster': 'dart', 'lambda': 0.026784405378922863, 'alpha': 0.06454980441526031, 'learning_rate': 0.02380372563950053, 'subsample_range': 0.28268320756419074, 'colsample_bytree': 0.27446550391131, 'scale_pos_weight': 78, 'min_child_weight': 5, 'max_depth': 7, 'eta': 0.11392007928831815, 'gamma': 0.0003027816763978503, 'grow_policy': 'lossguide', 'sample_type': 'uniform', 'normalize_type': 'forest', 'rate_drop': 3.304230237000715e-05, 'skip_drop': 6.576273078955598e-08}. Best is trial 27 with value: 0.9914243601768726.\u001b[0m\n",
      "\u001b[32m[I 2022-01-30 10:12:03,950]\u001b[0m Trial 40 finished with value: 0.9720920505122568 and parameters: {'n_estimators': 200, 'booster': 'gbtree', 'lambda': 5.667985204191485e-05, 'alpha': 0.1501054400338378, 'learning_rate': 0.036476561006030396, 'subsample_range': 0.008438642153982046, 'colsample_bytree': 0.4612006969791062, 'scale_pos_weight': 82, 'min_child_weight': 2, 'max_depth': 4, 'eta': 1.0554853670336075e-05, 'gamma': 2.0336089029412203e-05, 'grow_policy': 'lossguide'}. Best is trial 27 with value: 0.9914243601768726.\u001b[0m\n",
      "\u001b[32m[I 2022-01-30 10:12:04,236]\u001b[0m Trial 41 finished with value: 0.9890124614766179 and parameters: {'n_estimators': 200, 'booster': 'dart', 'lambda': 0.01596258748061458, 'alpha': 0.0007084114432740709, 'learning_rate': 0.041866072164608664, 'subsample_range': 0.29384062608046485, 'colsample_bytree': 0.6656029800146577, 'scale_pos_weight': 90, 'min_child_weight': 3, 'max_depth': 4, 'eta': 0.006656621191378088, 'gamma': 4.837528433003798e-05, 'grow_policy': 'lossguide', 'sample_type': 'uniform', 'normalize_type': 'forest', 'rate_drop': 0.002221455723691545, 'skip_drop': 1.8703091567186782e-08}. Best is trial 27 with value: 0.9914243601768726.\u001b[0m\n",
      "\u001b[32m[I 2022-01-30 10:12:04,491]\u001b[0m Trial 42 finished with value: 0.9700821349287113 and parameters: {'n_estimators': 150, 'booster': 'dart', 'lambda': 0.3079359603012928, 'alpha': 0.005534056953329177, 'learning_rate': 0.026753820729443024, 'subsample_range': 0.3633149056586319, 'colsample_bytree': 0.5266031443391255, 'scale_pos_weight': 85, 'min_child_weight': 4, 'max_depth': 6, 'eta': 0.002126192253137624, 'gamma': 6.057085336631286e-06, 'grow_policy': 'lossguide', 'sample_type': 'uniform', 'normalize_type': 'forest', 'rate_drop': 0.0016085574997720808, 'skip_drop': 2.1526453300018883e-06}. Best is trial 27 with value: 0.9914243601768726.\u001b[0m\n",
      "\u001b[32m[I 2022-01-30 10:12:04,717]\u001b[0m Trial 43 finished with value: 0.9881749966501406 and parameters: {'n_estimators': 300, 'booster': 'dart', 'lambda': 0.05973883576595529, 'alpha': 0.000141452141724708, 'learning_rate': 0.003457771856541614, 'subsample_range': 0.13754322747435554, 'colsample_bytree': 0.7893555401253152, 'scale_pos_weight': 76, 'min_child_weight': 2, 'max_depth': 4, 'eta': 0.009878153030061341, 'gamma': 0.00038033165484484976, 'grow_policy': 'lossguide', 'sample_type': 'uniform', 'normalize_type': 'forest', 'rate_drop': 0.0001657800286008204, 'skip_drop': 1.716299951187745e-05}. Best is trial 27 with value: 0.9914243601768726.\u001b[0m\n",
      "\u001b[32m[I 2022-01-30 10:12:04,927]\u001b[0m Trial 44 finished with value: 0.8999786333298326 and parameters: {'n_estimators': 350, 'booster': 'dart', 'lambda': 0.008960136687207939, 'alpha': 1.7374747699225898e-05, 'learning_rate': 0.032882653699102184, 'subsample_range': 0.4153139477473641, 'colsample_bytree': 0.16859864866219465, 'scale_pos_weight': 91, 'min_child_weight': 5, 'max_depth': 4, 'eta': 0.00013426544835780997, 'gamma': 0.001356182759883332, 'grow_policy': 'lossguide', 'sample_type': 'uniform', 'normalize_type': 'forest', 'rate_drop': 0.028842404642761492, 'skip_drop': 2.0198432980856232e-07}. Best is trial 27 with value: 0.9914243601768726.\u001b[0m\n",
      "\u001b[32m[I 2022-01-30 10:12:05,122]\u001b[0m Trial 45 finished with value: 0.9611479696231137 and parameters: {'n_estimators': 150, 'booster': 'dart', 'lambda': 0.03672938958270586, 'alpha': 0.019733772980590154, 'learning_rate': 0.09287854099296951, 'subsample_range': 0.2430567076430017, 'colsample_bytree': 0.3310493223906028, 'scale_pos_weight': 63, 'min_child_weight': 1, 'max_depth': 2, 'eta': 0.0011410929219740206, 'gamma': 0.029611955517861742, 'grow_policy': 'lossguide', 'sample_type': 'uniform', 'normalize_type': 'forest', 'rate_drop': 3.892011464800582e-05, 'skip_drop': 3.975000840194219e-08}. Best is trial 27 with value: 0.9914243601768726.\u001b[0m\n",
      "\u001b[32m[I 2022-01-30 10:12:05,374]\u001b[0m Trial 46 finished with value: 0.9686851530614093 and parameters: {'n_estimators': 250, 'booster': 'dart', 'lambda': 0.0004685878305967046, 'alpha': 0.3026355109274663, 'learning_rate': 0.07596575152459947, 'subsample_range': 0.4647263222939791, 'colsample_bytree': 0.582850414632812, 'scale_pos_weight': 49, 'min_child_weight': 3, 'max_depth': 5, 'eta': 1.1997182701311374e-08, 'gamma': 0.0001845215043226693, 'grow_policy': 'lossguide', 'sample_type': 'uniform', 'normalize_type': 'forest', 'rate_drop': 0.0024070781435835183, 'skip_drop': 0.0007552649236933613}. Best is trial 27 with value: 0.9914243601768726.\u001b[0m\n",
      "\u001b[32m[I 2022-01-30 10:12:05,583]\u001b[0m Trial 47 finished with value: 0.9942051316406512 and parameters: {'n_estimators': 100, 'booster': 'gbtree', 'lambda': 0.7804475861395755, 'alpha': 0.0011821470476631821, 'learning_rate': 0.05543045429600696, 'subsample_range': 0.9512783872496503, 'colsample_bytree': 0.38341673368163187, 'scale_pos_weight': 95, 'min_child_weight': 14, 'max_depth': 6, 'eta': 0.18036821111624918, 'gamma': 2.0870065784132267e-06, 'grow_policy': 'lossguide'}. Best is trial 47 with value: 0.9942051316406512.\u001b[0m\n",
      "\u001b[32m[I 2022-01-30 10:12:05,814]\u001b[0m Trial 48 finished with value: 0.9907389478108529 and parameters: {'n_estimators': 100, 'booster': 'gbtree', 'lambda': 0.7706955224296962, 'alpha': 0.003069790613830139, 'learning_rate': 0.05777510777285907, 'subsample_range': 0.8663759938760849, 'colsample_bytree': 0.38117110126952186, 'scale_pos_weight': 82, 'min_child_weight': 15, 'max_depth': 8, 'eta': 0.18568953983654568, 'gamma': 1.6663841070730188e-06, 'grow_policy': 'depthwise'}. Best is trial 47 with value: 0.9942051316406512.\u001b[0m\n",
      "\u001b[32m[I 2022-01-30 10:12:06,041]\u001b[0m Trial 49 finished with value: 0.9708625616102503 and parameters: {'n_estimators': 100, 'booster': 'gbtree', 'lambda': 0.6182424928880723, 'alpha': 0.0012071868154480757, 'learning_rate': 0.05746807371326698, 'subsample_range': 0.9770366786015829, 'colsample_bytree': 0.3769469647140568, 'scale_pos_weight': 96, 'min_child_weight': 15, 'max_depth': 8, 'eta': 0.18103304081583899, 'gamma': 1.7949766733454465e-06, 'grow_policy': 'depthwise'}. Best is trial 47 with value: 0.9942051316406512.\u001b[0m\n",
      "\u001b[32m[I 2022-01-30 10:12:06,253]\u001b[0m Trial 50 finished with value: 0.9768488507266478 and parameters: {'n_estimators': 100, 'booster': 'gbtree', 'lambda': 0.9435798513736757, 'alpha': 0.00028488966177841254, 'learning_rate': 0.04552969725288744, 'subsample_range': 0.9133340370295981, 'colsample_bytree': 0.22605002280966616, 'scale_pos_weight': 40, 'min_child_weight': 13, 'max_depth': 8, 'eta': 2.7714432036111664e-06, 'gamma': 1.4712552790398396e-06, 'grow_policy': 'depthwise'}. Best is trial 47 with value: 0.9942051316406512.\u001b[0m\n",
      "\u001b[32m[I 2022-01-30 10:12:06,574]\u001b[0m Trial 51 finished with value: 0.9949417124480772 and parameters: {'n_estimators': 150, 'booster': 'gbtree', 'lambda': 0.22287278315158857, 'alpha': 0.0023159616642439763, 'learning_rate': 0.07102579050617609, 'subsample_range': 0.8267943011052434, 'colsample_bytree': 0.3032788956910697, 'scale_pos_weight': 82, 'min_child_weight': 16, 'max_depth': 7, 'eta': 0.09282534012329333, 'gamma': 1.1260959411954673e-05, 'grow_policy': 'depthwise'}. Best is trial 51 with value: 0.9949417124480772.\u001b[0m\n",
      "\u001b[32m[I 2022-01-30 10:12:07,075]\u001b[0m Trial 52 finished with value: 0.9869790063411931 and parameters: {'n_estimators': 150, 'booster': 'gbtree', 'lambda': 0.21310434548806587, 'alpha': 0.003495827298307997, 'learning_rate': 0.0717438291246664, 'subsample_range': 0.861969400179322, 'colsample_bytree': 0.3159082749265726, 'scale_pos_weight': 94, 'min_child_weight': 16, 'max_depth': 7, 'eta': 0.09456119600115286, 'gamma': 1.0838058291099454e-05, 'grow_policy': 'depthwise'}. Best is trial 51 with value: 0.9949417124480772.\u001b[0m\n",
      "\u001b[32m[I 2022-01-30 10:12:07,326]\u001b[0m Trial 53 finished with value: 0.9684841615030548 and parameters: {'n_estimators': 100, 'booster': 'gbtree', 'lambda': 0.1362731705654566, 'alpha': 6.806950006787211e-05, 'learning_rate': 0.06814189509233085, 'subsample_range': 0.8288573513813973, 'colsample_bytree': 0.37868764150436124, 'scale_pos_weight': 84, 'min_child_weight': 19, 'max_depth': 7, 'eta': 0.0328212699285233, 'gamma': 6.912461494252227e-07, 'grow_policy': 'depthwise'}. Best is trial 51 with value: 0.9949417124480772.\u001b[0m\n",
      "\u001b[32m[I 2022-01-30 10:12:07,513]\u001b[0m Trial 54 finished with value: 0.9356764564717239 and parameters: {'n_estimators': 150, 'booster': 'gbtree', 'lambda': 0.3622790781443979, 'alpha': 0.0018980212773348985, 'learning_rate': 0.05850329804860296, 'subsample_range': 0.9774617209454122, 'colsample_bytree': 0.10578441319073295, 'scale_pos_weight': 81, 'min_child_weight': 14, 'max_depth': 9, 'eta': 0.8566162040262424, 'gamma': 1.4186892092915646e-07, 'grow_policy': 'depthwise'}. Best is trial 51 with value: 0.9949417124480772.\u001b[0m\n",
      "\u001b[32m[I 2022-01-30 10:12:07,724]\u001b[0m Trial 55 finished with value: 0.9821651679818637 and parameters: {'n_estimators': 100, 'booster': 'gbtree', 'lambda': 0.10045696630136387, 'alpha': 0.00047610039486718346, 'learning_rate': 0.05232681099298098, 'subsample_range': 0.9428928171159623, 'colsample_bytree': 0.2706811663941671, 'scale_pos_weight': 92, 'min_child_weight': 17, 'max_depth': 8, 'eta': 0.1566884745734977, 'gamma': 3.677754007187891e-06, 'grow_policy': 'depthwise'}. Best is trial 51 with value: 0.9949417124480772.\u001b[0m\n",
      "\u001b[32m[I 2022-01-30 10:12:07,928]\u001b[0m Trial 56 finished with value: 0.931527970419837 and parameters: {'n_estimators': 200, 'booster': 'gbtree', 'lambda': 0.5033760268130453, 'alpha': 0.008555610810854057, 'learning_rate': 0.06376005288517765, 'subsample_range': 0.7445755334988376, 'colsample_bytree': 0.22529409915756965, 'scale_pos_weight': 21, 'min_child_weight': 15, 'max_depth': 8, 'eta': 0.395447689577572, 'gamma': 9.355420435725885e-07, 'grow_policy': 'depthwise'}. Best is trial 51 with value: 0.9949417124480772.\u001b[0m\n",
      "\u001b[32m[I 2022-01-30 10:12:08,127]\u001b[0m Trial 57 finished with value: 0.9883524486566159 and parameters: {'n_estimators': 150, 'booster': 'gbtree', 'lambda': 0.7751053000121548, 'alpha': 0.009398602408229907, 'learning_rate': 0.06711740146939195, 'subsample_range': 0.853901686317268, 'colsample_bytree': 0.30124190145350793, 'scale_pos_weight': 89, 'min_child_weight': 11, 'max_depth': 7, 'eta': 0.026505303094599194, 'gamma': 1.0765887604453439e-05, 'grow_policy': 'depthwise'}. Best is trial 51 with value: 0.9949417124480772.\u001b[0m\n",
      "\u001b[32m[I 2022-01-30 10:12:08,404]\u001b[0m Trial 58 finished with value: 0.9722260448844932 and parameters: {'n_estimators': 250, 'booster': 'gbtree', 'lambda': 0.005127471592492035, 'alpha': 0.0017796817350134398, 'learning_rate': 0.05743052700903945, 'subsample_range': 0.8037112830845701, 'colsample_bytree': 0.7523198577477745, 'scale_pos_weight': 96, 'min_child_weight': 18, 'max_depth': 6, 'eta': 8.856417008980217e-08, 'gamma': 3.628120398437811e-07, 'grow_policy': 'depthwise'}. Best is trial 51 with value: 0.9949417124480772.\u001b[0m\n",
      "\u001b[32m[I 2022-01-30 10:12:08,636]\u001b[0m Trial 59 finished with value: 0.9706851096037751 and parameters: {'n_estimators': 650, 'booster': 'gbtree', 'lambda': 0.23642258160859117, 'alpha': 0.01586181811975598, 'learning_rate': 0.0509607915090557, 'subsample_range': 0.7780786593681958, 'colsample_bytree': 0.8365076147873295, 'scale_pos_weight': 77, 'min_child_weight': 16, 'max_depth': 6, 'eta': 0.3051054675112562, 'gamma': 5.958027643105478e-06, 'grow_policy': 'depthwise'}. Best is trial 51 with value: 0.9949417124480772.\u001b[0m\n",
      "\u001b[32m[I 2022-01-30 10:12:08,882]\u001b[0m Trial 60 finished with value: 0.9561909053283056 and parameters: {'n_estimators': 350, 'booster': 'gbtree', 'lambda': 0.08499431573714443, 'alpha': 0.00020605089005833803, 'learning_rate': 0.08677190549564952, 'subsample_range': 0.8897959091263427, 'colsample_bytree': 0.5204336531294818, 'scale_pos_weight': 80, 'min_child_weight': 14, 'max_depth': 7, 'eta': 0.0006615093023619086, 'gamma': 0.013383955036169414, 'grow_policy': 'depthwise'}. Best is trial 51 with value: 0.9949417124480772.\u001b[0m\n",
      "\u001b[32m[I 2022-01-30 10:12:09,086]\u001b[0m Trial 61 finished with value: 0.9725853032704366 and parameters: {'n_estimators': 200, 'booster': 'gbtree', 'lambda': 0.2273009379573318, 'alpha': 6.965754837660084e-05, 'learning_rate': 0.038620051024513255, 'subsample_range': 0.5826019314708859, 'colsample_bytree': 0.46289415732940103, 'scale_pos_weight': 71, 'min_child_weight': 14, 'max_depth': 5, 'eta': 0.06409191141829243, 'gamma': 5.7449399961500393e-05, 'grow_policy': 'lossguide'}. Best is trial 51 with value: 0.9949417124480772.\u001b[0m\n",
      "\u001b[32m[I 2022-01-30 10:12:09,294]\u001b[0m Trial 62 finished with value: 0.9935687010115897 and parameters: {'n_estimators': 150, 'booster': 'gbtree', 'lambda': 0.013067509419115306, 'alpha': 0.0006221988993844829, 'learning_rate': 0.018158278415697594, 'subsample_range': 0.5212147544543058, 'colsample_bytree': 0.39793796017983973, 'scale_pos_weight': 67, 'min_child_weight': 17, 'max_depth': 5, 'eta': 0.003546708912381604, 'gamma': 3.681570190338266e-05, 'grow_policy': 'lossguide'}. Best is trial 51 with value: 0.9949417124480772.\u001b[0m\n",
      "\u001b[32m[I 2022-01-30 10:12:09,518]\u001b[0m Trial 63 finished with value: 0.9490401231197306 and parameters: {'n_estimators': 100, 'booster': 'gbtree', 'lambda': 1.7127751075803965e-05, 'alpha': 0.0031301067050913895, 'learning_rate': 0.014973898970053131, 'subsample_range': 0.6558888192269686, 'colsample_bytree': 0.4076336471931626, 'scale_pos_weight': 59, 'min_child_weight': 17, 'max_depth': 6, 'eta': 0.002766529712370499, 'gamma': 2.0827726166757316e-05, 'grow_policy': 'lossguide'}. Best is trial 51 with value: 0.9949417124480772.\u001b[0m\n",
      "\u001b[32m[I 2022-01-30 10:12:09,761]\u001b[0m Trial 64 finished with value: 0.983822640044564 and parameters: {'n_estimators': 200, 'booster': 'gbtree', 'lambda': 0.0017061899164913898, 'alpha': 0.0008952715472423994, 'learning_rate': 0.02083145202508833, 'subsample_range': 0.9452639471726418, 'colsample_bytree': 0.3531007257127479, 'scale_pos_weight': 68, 'min_child_weight': 18, 'max_depth': 8, 'eta': 0.03372091254193068, 'gamma': 2.3540358834807688e-06, 'grow_policy': 'lossguide'}. Best is trial 51 with value: 0.9949417124480772.\u001b[0m\n",
      "\u001b[32m[I 2022-01-30 10:12:10,025]\u001b[0m Trial 65 finished with value: 0.9719663090969659 and parameters: {'n_estimators': 150, 'booster': 'gbtree', 'lambda': 0.020675022803074906, 'alpha': 2.7526541702993433e-05, 'learning_rate': 0.0655153140060474, 'subsample_range': 0.8422278525032223, 'colsample_bytree': 0.43985063781827033, 'scale_pos_weight': 83, 'min_child_weight': 16, 'max_depth': 9, 'eta': 4.8309534325828084e-05, 'gamma': 7.222957575964571e-06, 'grow_policy': 'depthwise'}. Best is trial 51 with value: 0.9949417124480772.\u001b[0m\n",
      "\u001b[32m[I 2022-01-30 10:12:10,236]\u001b[0m Trial 66 finished with value: 0.9700250967837729 and parameters: {'n_estimators': 250, 'booster': 'gbtree', 'lambda': 0.9457179582023255, 'alpha': 0.0005854552519174928, 'learning_rate': 0.00812618159542503, 'subsample_range': 0.7554410579000701, 'colsample_bytree': 0.38966626610131405, 'scale_pos_weight': 65, 'min_child_weight': 12, 'max_depth': 6, 'eta': 0.0006875671223107335, 'gamma': 0.0011837371783540791, 'grow_policy': 'lossguide'}. Best is trial 51 with value: 0.9949417124480772.\u001b[0m\n",
      "\u001b[32m[I 2022-01-30 10:12:10,468]\u001b[0m Trial 67 finished with value: 0.5337441301089962 and parameters: {'n_estimators': 100, 'booster': 'gblinear', 'lambda': 0.008681372289107068, 'alpha': 0.001588342568063379, 'learning_rate': 0.01854680805436503, 'subsample_range': 0.5327348177460214, 'colsample_bytree': 0.4983730031872461, 'scale_pos_weight': 87, 'min_child_weight': 13}. Best is trial 51 with value: 0.9949417124480772.\u001b[0m\n",
      "\u001b[32m[I 2022-01-30 10:12:10,695]\u001b[0m Trial 68 finished with value: 0.9915254237288136 and parameters: {'n_estimators': 150, 'booster': 'gbtree', 'lambda': 0.11544169488945173, 'alpha': 0.0073380999461242396, 'learning_rate': 0.05432729068630916, 'subsample_range': 0.179312298949183, 'colsample_bytree': 0.25344361242132235, 'scale_pos_weight': 100, 'min_child_weight': 15, 'max_depth': 5, 'eta': 0.003173299595339573, 'gamma': 6.937452995083559e-05, 'grow_policy': 'lossguide'}. Best is trial 51 with value: 0.9949417124480772.\u001b[0m\n",
      "\u001b[32m[I 2022-01-30 10:12:10,874]\u001b[0m Trial 69 finished with value: 0.9884429853946135 and parameters: {'n_estimators': 200, 'booster': 'gbtree', 'lambda': 0.10623286862769898, 'alpha': 4.655519666954746e-08, 'learning_rate': 0.06060450723077891, 'subsample_range': 0.6491061378749982, 'colsample_bytree': 0.20265487893088147, 'scale_pos_weight': 97, 'min_child_weight': 15, 'max_depth': 5, 'eta': 0.2063152118315496, 'gamma': 8.819988099361552e-05, 'grow_policy': 'lossguide'}. Best is trial 51 with value: 0.9949417124480772.\u001b[0m\n",
      "\u001b[32m[I 2022-01-30 10:12:11,073]\u001b[0m Trial 70 finished with value: 0.9804060124569709 and parameters: {'n_estimators': 550, 'booster': 'gbtree', 'lambda': 0.436576548814639, 'alpha': 0.005996882479920066, 'learning_rate': 0.05553503968736318, 'subsample_range': 0.08228885884570647, 'colsample_bytree': 0.1605312160555967, 'scale_pos_weight': 98, 'min_child_weight': 19, 'max_depth': 7, 'eta': 0.5285565759520736, 'gamma': 3.450741917491455e-05, 'grow_policy': 'depthwise'}. Best is trial 51 with value: 0.9949417124480772.\u001b[0m\n",
      "\u001b[32m[I 2022-01-30 10:12:11,322]\u001b[0m Trial 71 finished with value: 0.9912574529376298 and parameters: {'n_estimators': 150, 'booster': 'gbtree', 'lambda': 0.17765644567682407, 'alpha': 0.0029033386844430843, 'learning_rate': 0.0491318032559572, 'subsample_range': 0.16631934218157848, 'colsample_bytree': 0.28323267872504887, 'scale_pos_weight': 94, 'min_child_weight': 17, 'max_depth': 5, 'eta': 0.00020722727268299523, 'gamma': 0.0002519248427190729, 'grow_policy': 'lossguide'}. Best is trial 51 with value: 0.9949417124480772.\u001b[0m\n",
      "\u001b[32m[I 2022-01-30 10:12:11,525]\u001b[0m Trial 72 finished with value: 0.9911563714323998 and parameters: {'n_estimators': 100, 'booster': 'gbtree', 'lambda': 0.04699249561298322, 'alpha': 0.024789253254924003, 'learning_rate': 0.04826642259603707, 'subsample_range': 0.1611133919940085, 'colsample_bytree': 0.2816710414524603, 'scale_pos_weight': 100, 'min_child_weight': 17, 'max_depth': 5, 'eta': 0.00021598654727993571, 'gamma': 0.0003179112251049224, 'grow_policy': 'lossguide'}. Best is trial 51 with value: 0.9949417124480772.\u001b[0m\n",
      "\u001b[32m[I 2022-01-30 10:12:11,779]\u001b[0m Trial 73 finished with value: 0.9852120502426879 and parameters: {'n_estimators': 200, 'booster': 'gbtree', 'lambda': 0.0357870179917216, 'alpha': 0.025923226634288678, 'learning_rate': 0.048343478285711276, 'subsample_range': 0.1869749712065908, 'colsample_bytree': 0.261879756135216, 'scale_pos_weight': 100, 'min_child_weight': 17, 'max_depth': 5, 'eta': 0.00021496325067264422, 'gamma': 0.0003621355917011729, 'grow_policy': 'lossguide'}. Best is trial 51 with value: 0.9949417124480772.\u001b[0m\n",
      "\u001b[32m[I 2022-01-30 10:12:12,019]\u001b[0m Trial 74 finished with value: 0.971757064581666 and parameters: {'n_estimators': 150, 'booster': 'gbtree', 'lambda': 0.01267246596076026, 'alpha': 0.04170263935754601, 'learning_rate': 0.045182403759595174, 'subsample_range': 0.17296704170517974, 'colsample_bytree': 0.3198766172830825, 'scale_pos_weight': 93, 'min_child_weight': 18, 'max_depth': 5, 'eta': 0.003406182040133625, 'gamma': 0.0001746659326729778, 'grow_policy': 'lossguide'}. Best is trial 51 with value: 0.9949417124480772.\u001b[0m\n",
      "\u001b[32m[I 2022-01-30 10:12:12,304]\u001b[0m Trial 75 finished with value: 0.9913579419843237 and parameters: {'n_estimators': 150, 'booster': 'gbtree', 'lambda': 0.07498469451251709, 'alpha': 0.001085879218008153, 'learning_rate': 0.07090698363162318, 'subsample_range': 0.09380036597288535, 'colsample_bytree': 0.2481570181618351, 'scale_pos_weight': 95, 'min_child_weight': 16, 'max_depth': 6, 'eta': 0.00011061070385583477, 'gamma': 0.44253339896763355, 'grow_policy': 'lossguide'}. Best is trial 51 with value: 0.9949417124480772.\u001b[0m\n",
      "\u001b[32m[I 2022-01-30 10:12:12,610]\u001b[0m Trial 76 finished with value: 0.9921948278172317 and parameters: {'n_estimators': 150, 'booster': 'gbtree', 'lambda': 0.06735815455524266, 'alpha': 0.0003636375752158529, 'learning_rate': 0.07113308196353012, 'subsample_range': 0.08983844431050675, 'colsample_bytree': 0.25113720196628836, 'scale_pos_weight': 95, 'min_child_weight': 19, 'max_depth': 6, 'eta': 8.960131169594871e-05, 'gamma': 0.2965966631946173, 'grow_policy': 'lossguide'}. Best is trial 51 with value: 0.9949417124480772.\u001b[0m\n",
      "\u001b[32m[I 2022-01-30 10:12:12,870]\u001b[0m Trial 77 finished with value: 0.9923293361023648 and parameters: {'n_estimators': 150, 'booster': 'gbtree', 'lambda': 0.150395951207502, 'alpha': 0.0003365038413854177, 'learning_rate': 0.07045198978550392, 'subsample_range': 0.09635664190129095, 'colsample_bytree': 0.23854943201434192, 'scale_pos_weight': 94, 'min_child_weight': 20, 'max_depth': 6, 'eta': 5.4192653078052004e-05, 'gamma': 0.3443240550072749, 'grow_policy': 'lossguide'}. Best is trial 51 with value: 0.9949417124480772.\u001b[0m\n",
      "\u001b[32m[I 2022-01-30 10:12:13,154]\u001b[0m Trial 78 finished with value: 0.9865100260383658 and parameters: {'n_estimators': 150, 'booster': 'gbtree', 'lambda': 0.06892039214812411, 'alpha': 0.0003937002702893124, 'learning_rate': 0.07023797382190729, 'subsample_range': 0.0889030356330463, 'colsample_bytree': 0.16673316764946933, 'scale_pos_weight': 89, 'min_child_weight': 20, 'max_depth': 6, 'eta': 2.8800347011975235e-05, 'gamma': 0.9185519158196277, 'grow_policy': 'lossguide'}. Best is trial 51 with value: 0.9949417124480772.\u001b[0m\n",
      "\u001b[32m[I 2022-01-30 10:12:13,367]\u001b[0m Trial 79 finished with value: 0.9608899399198206 and parameters: {'n_estimators': 250, 'booster': 'gbtree', 'lambda': 0.13535494157756145, 'alpha': 0.0002363649767534727, 'learning_rate': 0.07493762203741211, 'subsample_range': 0.029965705757827032, 'colsample_bytree': 0.09245739493964841, 'scale_pos_weight': 96, 'min_child_weight': 20, 'max_depth': 6, 'eta': 4.43995181511157e-06, 'gamma': 0.18093953132018195, 'grow_policy': 'lossguide'}. Best is trial 51 with value: 0.9949417124480772.\u001b[0m\n",
      "\u001b[32m[I 2022-01-30 10:12:13,598]\u001b[0m Trial 80 finished with value: 0.99323373752261 and parameters: {'n_estimators': 200, 'booster': 'gbtree', 'lambda': 0.028798852550345675, 'alpha': 0.00011386327170783694, 'learning_rate': 0.07859504872216308, 'subsample_range': 0.10649040175703813, 'colsample_bytree': 0.25151079616316674, 'scale_pos_weight': 92, 'min_child_weight': 19, 'max_depth': 6, 'eta': 1.6846411409031484e-05, 'gamma': 0.5263164156489419, 'grow_policy': 'lossguide'}. Best is trial 51 with value: 0.9949417124480772.\u001b[0m\n",
      "\u001b[32m[I 2022-01-30 10:12:13,828]\u001b[0m Trial 81 finished with value: 0.9928652776847324 and parameters: {'n_estimators': 200, 'booster': 'gbtree', 'lambda': 0.022497431702138384, 'alpha': 0.00010893520354442486, 'learning_rate': 0.0827436673854701, 'subsample_range': 0.057492107732365696, 'colsample_bytree': 0.24347647451391063, 'scale_pos_weight': 91, 'min_child_weight': 19, 'max_depth': 6, 'eta': 1.595327152071548e-05, 'gamma': 0.7175621217776978, 'grow_policy': 'lossguide'}. Best is trial 51 with value: 0.9949417124480772.\u001b[0m\n",
      "\u001b[32m[I 2022-01-30 10:12:14,065]\u001b[0m Trial 82 finished with value: 0.9900515843773029 and parameters: {'n_estimators': 200, 'booster': 'gbtree', 'lambda': 0.019898272908501775, 'alpha': 8.500566269598189e-05, 'learning_rate': 0.08184541542818956, 'subsample_range': 0.05511677839188767, 'colsample_bytree': 0.19228422915776455, 'scale_pos_weight': 91, 'min_child_weight': 19, 'max_depth': 6, 'eta': 1.2207852510063314e-05, 'gamma': 0.1654677556341449, 'grow_policy': 'lossguide'}. Best is trial 51 with value: 0.9949417124480772.\u001b[0m\n",
      "\u001b[32m[I 2022-01-30 10:12:14,299]\u001b[0m Trial 83 finished with value: 0.9917264018222014 and parameters: {'n_estimators': 250, 'booster': 'gbtree', 'lambda': 0.003538474709819881, 'alpha': 4.064237985148209e-05, 'learning_rate': 0.0785697202794455, 'subsample_range': 0.10508046086282097, 'colsample_bytree': 0.24164097056068637, 'scale_pos_weight': 88, 'min_child_weight': 19, 'max_depth': 6, 'eta': 2.3135726656116827e-05, 'gamma': 0.8244549638819764, 'grow_policy': 'lossguide'}. Best is trial 51 with value: 0.9949417124480772.\u001b[0m\n",
      "\u001b[32m[I 2022-01-30 10:12:14,534]\u001b[0m Trial 84 finished with value: 0.991993836258877 and parameters: {'n_estimators': 250, 'booster': 'gbtree', 'lambda': 0.002388913344319115, 'alpha': 0.0001375109077400038, 'learning_rate': 0.07861309149992199, 'subsample_range': 0.03803181898628999, 'colsample_bytree': 0.24108032748332567, 'scale_pos_weight': 87, 'min_child_weight': 19, 'max_depth': 6, 'eta': 1.7602509625902888e-05, 'gamma': 0.08677123182780425, 'grow_policy': 'lossguide'}. Best is trial 51 with value: 0.9949417124480772.\u001b[0m\n",
      "\u001b[32m[I 2022-01-30 10:12:14,755]\u001b[0m Trial 85 finished with value: 0.9801715380146852 and parameters: {'n_estimators': 350, 'booster': 'gbtree', 'lambda': 0.0009488498128985845, 'alpha': 0.00012055355591999277, 'learning_rate': 0.07811289180904177, 'subsample_range': 0.11632032362628049, 'colsample_bytree': 0.14599668399420457, 'scale_pos_weight': 88, 'min_child_weight': 19, 'max_depth': 6, 'eta': 2.175393311816131e-05, 'gamma': 0.06563924431758274, 'grow_policy': 'lossguide'}. Best is trial 51 with value: 0.9949417124480772.\u001b[0m\n",
      "\u001b[32m[I 2022-01-30 10:12:15,051]\u001b[0m Trial 86 finished with value: 0.7316708437684403 and parameters: {'n_estimators': 300, 'booster': 'gbtree', 'lambda': 0.0029621247785496844, 'alpha': 7.23073948300169e-06, 'learning_rate': 0.08404007846892769, 'subsample_range': 0.05094049344830212, 'colsample_bytree': 0.03880220560265815, 'scale_pos_weight': 85, 'min_child_weight': 20, 'max_depth': 7, 'eta': 4.126046489733893e-06, 'gamma': 0.913406950695082, 'grow_policy': 'lossguide'}. Best is trial 51 with value: 0.9949417124480772.\u001b[0m\n",
      "\u001b[32m[I 2022-01-30 10:12:15,334]\u001b[0m Trial 87 finished with value: 0.9943391170362431 and parameters: {'n_estimators': 250, 'booster': 'gbtree', 'lambda': 0.0029794476797924524, 'alpha': 4.028458426832367e-05, 'learning_rate': 0.07684598831868383, 'subsample_range': 0.003485986808823366, 'colsample_bytree': 0.23789507023538442, 'scale_pos_weight': 91, 'min_child_weight': 18, 'max_depth': 7, 'eta': 7.052255875897933e-05, 'gamma': 0.41769247306893365, 'grow_policy': 'lossguide'}. Best is trial 51 with value: 0.9949417124480772.\u001b[0m\n",
      "\u001b[32m[I 2022-01-30 10:12:15,601]\u001b[0m Trial 88 finished with value: 0.9806912298872636 and parameters: {'n_estimators': 200, 'booster': 'gbtree', 'lambda': 0.00011300331482678082, 'alpha': 1.9864314707132253e-05, 'learning_rate': 0.07333624346438013, 'subsample_range': 0.007048529511144734, 'colsample_bytree': 0.2986589977798471, 'scale_pos_weight': 91, 'min_child_weight': 18, 'max_depth': 7, 'eta': 5.731826223790627e-05, 'gamma': 0.3973741056050695, 'grow_policy': 'lossguide'}. Best is trial 51 with value: 0.9949417124480772.\u001b[0m\n",
      "\u001b[32m[I 2022-01-30 10:12:15,842]\u001b[0m Trial 89 finished with value: 0.9750064281083978 and parameters: {'n_estimators': 450, 'booster': 'gbtree', 'lambda': 0.0019306085327714046, 'alpha': 4.146588727336885e-05, 'learning_rate': 0.09183858390119559, 'subsample_range': 0.039200887283612436, 'colsample_bytree': 0.3422127438720433, 'scale_pos_weight': 85, 'min_child_weight': 18, 'max_depth': 6, 'eta': 1.261585636642461e-06, 'gamma': 0.1063826333500469, 'grow_policy': 'lossguide'}. Best is trial 51 with value: 0.9949417124480772.\u001b[0m\n",
      "\u001b[32m[I 2022-01-30 10:12:15,975]\u001b[0m Trial 90 finished with value: 0.90002165791326 and parameters: {'n_estimators': 950, 'booster': 'gblinear', 'lambda': 0.01057940672308225, 'alpha': 0.00016424842839315933, 'learning_rate': 0.08413609152925391, 'subsample_range': 0.025354528346900926, 'colsample_bytree': 0.1868503627020155, 'scale_pos_weight': 93, 'min_child_weight': 20}. Best is trial 51 with value: 0.9949417124480772.\u001b[0m\n",
      "\u001b[32m[I 2022-01-30 10:12:16,223]\u001b[0m Trial 91 finished with value: 0.9723265406636704 and parameters: {'n_estimators': 250, 'booster': 'gbtree', 'lambda': 0.0004907202813626479, 'alpha': 5.2072096692909124e-05, 'learning_rate': 0.07689996395239188, 'subsample_range': 0.1141950905861369, 'colsample_bytree': 0.2404353197486601, 'scale_pos_weight': 88, 'min_child_weight': 19, 'max_depth': 6, 'eta': 1.4718904395391458e-05, 'gamma': 0.49447293961826605, 'grow_policy': 'lossguide'}. Best is trial 51 with value: 0.9949417124480772.\u001b[0m\n",
      "\u001b[32m[I 2022-01-30 10:12:16,463]\u001b[0m Trial 92 finished with value: 0.9870125049342522 and parameters: {'n_estimators': 250, 'booster': 'gbtree', 'lambda': 0.004503047387524271, 'alpha': 1.1967921342246991e-05, 'learning_rate': 0.09541878154009098, 'subsample_range': 0.07190021312287194, 'colsample_bytree': 0.13907878727790735, 'scale_pos_weight': 91, 'min_child_weight': 19, 'max_depth': 7, 'eta': 5.6587612733907265e-06, 'gamma': 0.2517562017637384, 'grow_policy': 'lossguide'}. Best is trial 51 with value: 0.9949417124480772.\u001b[0m\n",
      "\u001b[32m[I 2022-01-30 10:12:16,703]\u001b[0m Trial 93 finished with value: 0.9920273348519363 and parameters: {'n_estimators': 300, 'booster': 'gbtree', 'lambda': 0.00267228461089532, 'alpha': 0.00010829482699707888, 'learning_rate': 0.08925398582859702, 'subsample_range': 0.10138208161766549, 'colsample_bytree': 0.22742144256281902, 'scale_pos_weight': 94, 'min_child_weight': 19, 'max_depth': 6, 'eta': 7.110834924805952e-05, 'gamma': 0.052623828677020604, 'grow_policy': 'lossguide'}. Best is trial 51 with value: 0.9949417124480772.\u001b[0m\n",
      "\u001b[32m[I 2022-01-30 10:12:16,950]\u001b[0m Trial 94 finished with value: 0.9934347156159978 and parameters: {'n_estimators': 300, 'booster': 'gbtree', 'lambda': 0.007172436795829778, 'alpha': 0.00011082659310166922, 'learning_rate': 0.08826808745760481, 'subsample_range': 0.06132727183865202, 'colsample_bytree': 0.21588210071622135, 'scale_pos_weight': 98, 'min_child_weight': 18, 'max_depth': 7, 'eta': 6.758198513797241e-05, 'gamma': 0.057619424360674465, 'grow_policy': 'lossguide'}. Best is trial 51 with value: 0.9949417124480772.\u001b[0m\n",
      "\u001b[32m[I 2022-01-30 10:12:17,186]\u001b[0m Trial 95 finished with value: 0.9943387377730135 and parameters: {'n_estimators': 300, 'booster': 'gbtree', 'lambda': 0.03280749294996995, 'alpha': 0.0002961626081069345, 'learning_rate': 0.08969643427826803, 'subsample_range': 0.1344444643099669, 'colsample_bytree': 0.21589887987532866, 'scale_pos_weight': 98, 'min_child_weight': 18, 'max_depth': 7, 'eta': 7.552071528281861e-05, 'gamma': 0.2858687088105125, 'grow_policy': 'lossguide'}. Best is trial 51 with value: 0.9949417124480772.\u001b[0m\n",
      "\u001b[32m[I 2022-01-30 10:12:17,427]\u001b[0m Trial 96 finished with value: 0.9959131716467908 and parameters: {'n_estimators': 350, 'booster': 'gbtree', 'lambda': 0.02774538548767111, 'alpha': 0.00035296884056524116, 'learning_rate': 0.09629554828312953, 'subsample_range': 0.1403805745067666, 'colsample_bytree': 0.29879566560823206, 'scale_pos_weight': 97, 'min_child_weight': 18, 'max_depth': 7, 'eta': 4.4508290890063916e-05, 'gamma': 0.2809201495007264, 'grow_policy': 'lossguide'}. Best is trial 96 with value: 0.9959131716467908.\u001b[0m\n",
      "\u001b[32m[I 2022-01-30 10:12:17,676]\u001b[0m Trial 97 finished with value: 0.9881932252946073 and parameters: {'n_estimators': 350, 'booster': 'gbtree', 'lambda': 0.031137883734696024, 'alpha': 0.00023330008760528753, 'learning_rate': 0.09530568735197378, 'subsample_range': 0.13683560295583425, 'colsample_bytree': 0.30357338213071683, 'scale_pos_weight': 97, 'min_child_weight': 18, 'max_depth': 7, 'eta': 4.2373904677852084e-05, 'gamma': 0.03649759298333194, 'grow_policy': 'lossguide'}. Best is trial 96 with value: 0.9959131716467908.\u001b[0m\n",
      "\u001b[32m[I 2022-01-30 10:12:17,950]\u001b[0m Trial 98 finished with value: 0.9952435184564882 and parameters: {'n_estimators': 300, 'booster': 'gbtree', 'lambda': 0.016068220600659593, 'alpha': 0.0005248884597054709, 'learning_rate': 0.08950290078292718, 'subsample_range': 0.23694864179391206, 'colsample_bytree': 0.3318977834963405, 'scale_pos_weight': 91, 'min_child_weight': 18, 'max_depth': 7, 'eta': 3.370057082026835e-05, 'gamma': 0.12816170566794774, 'grow_policy': 'lossguide'}. Best is trial 96 with value: 0.9959131716467908.\u001b[0m\n",
      "\u001b[32m[I 2022-01-30 10:12:18,229]\u001b[0m Trial 99 finished with value: 0.9958464527366517 and parameters: {'n_estimators': 300, 'booster': 'gbtree', 'lambda': 0.00727548951195733, 'alpha': 0.0006511183134318693, 'learning_rate': 0.09014907479093633, 'subsample_range': 0.24752837223939722, 'colsample_bytree': 0.3342324177126456, 'scale_pos_weight': 98, 'min_child_weight': 16, 'max_depth': 7, 'eta': 7.881126767251496e-06, 'gamma': 0.13448188368906344, 'grow_policy': 'lossguide'}. Best is trial 96 with value: 0.9959131716467908.\u001b[0m\n",
      "\u001b[32m[I 2022-01-30 10:12:18,506]\u001b[0m Trial 100 finished with value: 0.9759108901209933 and parameters: {'n_estimators': 400, 'booster': 'gbtree', 'lambda': 0.006508214475966213, 'alpha': 0.0006981415459185335, 'learning_rate': 0.09694028293434147, 'subsample_range': 0.22054294158760143, 'colsample_bytree': 0.35534449456055966, 'scale_pos_weight': 98, 'min_child_weight': 16, 'max_depth': 7, 'eta': 3.054254933623746e-05, 'gamma': 0.16486670995231242, 'grow_policy': 'lossguide'}. Best is trial 96 with value: 0.9959131716467908.\u001b[0m\n",
      "\u001b[32m[I 2022-01-30 10:12:18,781]\u001b[0m Trial 101 finished with value: 0.9955114892476721 and parameters: {'n_estimators': 350, 'booster': 'gbtree', 'lambda': 0.014370743303297382, 'alpha': 0.0005275886164729286, 'learning_rate': 0.08885916849894926, 'subsample_range': 0.24084651328465873, 'colsample_bytree': 0.33121073176379234, 'scale_pos_weight': 92, 'min_child_weight': 18, 'max_depth': 7, 'eta': 7.0313345704531226e-06, 'gamma': 0.5516079514598871, 'grow_policy': 'lossguide'}. Best is trial 96 with value: 0.9959131716467908.\u001b[0m\n",
      "\u001b[32m[I 2022-01-30 10:12:19,060]\u001b[0m Trial 102 finished with value: 0.9881179585052021 and parameters: {'n_estimators': 450, 'booster': 'gbtree', 'lambda': 0.014007672387125513, 'alpha': 0.0012948364827212859, 'learning_rate': 0.08842712856607429, 'subsample_range': 0.19503540409808312, 'colsample_bytree': 0.3260276344393721, 'scale_pos_weight': 99, 'min_child_weight': 17, 'max_depth': 7, 'eta': 1.0152758261785716e-05, 'gamma': 0.14618633437238435, 'grow_policy': 'lossguide'}. Best is trial 96 with value: 0.9959131716467908.\u001b[0m\n",
      "\u001b[32m[I 2022-01-30 10:12:19,352]\u001b[0m Trial 103 finished with value: 0.9847445596474137 and parameters: {'n_estimators': 400, 'booster': 'gbtree', 'lambda': 0.007056660292243968, 'alpha': 0.0005715830335783139, 'learning_rate': 0.09357875386155079, 'subsample_range': 0.24249784837204846, 'colsample_bytree': 0.3383036071565894, 'scale_pos_weight': 97, 'min_child_weight': 17, 'max_depth': 8, 'eta': 8.323933988568682e-06, 'gamma': 0.015916454503618296, 'grow_policy': 'lossguide'}. Best is trial 96 with value: 0.9959131716467908.\u001b[0m\n",
      "\u001b[32m[I 2022-01-30 10:12:19,627]\u001b[0m Trial 104 finished with value: 0.9822818079952572 and parameters: {'n_estimators': 300, 'booster': 'gbtree', 'lambda': 0.016860601709225764, 'alpha': 0.00093717507643441, 'learning_rate': 0.09037209306372418, 'subsample_range': 0.24417953904732367, 'colsample_bytree': 0.39498379689422475, 'scale_pos_weight': 92, 'min_child_weight': 18, 'max_depth': 7, 'eta': 0.0001412300143642327, 'gamma': 0.1029812509255024, 'grow_policy': 'lossguide'}. Best is trial 96 with value: 0.9959131716467908.\u001b[0m\n",
      "\u001b[32m[I 2022-01-30 10:12:19,969]\u001b[0m Trial 105 finished with value: 0.9950087096341953 and parameters: {'n_estimators': 300, 'booster': 'gbtree', 'lambda': 0.0013956509208402756, 'alpha': 0.0002090795013366348, 'learning_rate': 0.08580905159632066, 'subsample_range': 0.26488976214011206, 'colsample_bytree': 0.28604507602615903, 'scale_pos_weight': 98, 'min_child_weight': 18, 'max_depth': 7, 'eta': 2.4567502240723546e-06, 'gamma': 0.5420273168236245, 'grow_policy': 'lossguide'}. Best is trial 96 with value: 0.9959131716467908.\u001b[0m\n",
      "\u001b[32m[I 2022-01-30 10:12:20,297]\u001b[0m Trial 106 finished with value: 0.9830857203688085 and parameters: {'n_estimators': 300, 'booster': 'gbtree', 'lambda': 0.0013225856259386816, 'alpha': 0.0004556501581471476, 'learning_rate': 0.08625451717872593, 'subsample_range': 0.261094657430982, 'colsample_bytree': 0.36699041554925027, 'scale_pos_weight': 98, 'min_child_weight': 16, 'max_depth': 7, 'eta': 4.4226182787040725e-07, 'gamma': 0.24649774410714323, 'grow_policy': 'lossguide'}. Best is trial 96 with value: 0.9959131716467908.\u001b[0m\n",
      "\u001b[32m[I 2022-01-30 10:12:20,426]\u001b[0m Trial 107 finished with value: 0.9066149762250526 and parameters: {'n_estimators': 400, 'booster': 'gblinear', 'lambda': 0.008396750708642282, 'alpha': 0.00019656528086079436, 'learning_rate': 0.09779263144022493, 'subsample_range': 0.1499051429913169, 'colsample_bytree': 0.2945765993009388, 'scale_pos_weight': 100, 'min_child_weight': 17}. Best is trial 96 with value: 0.9959131716467908.\u001b[0m\n",
      "\u001b[32m[I 2022-01-30 10:12:20,795]\u001b[0m Trial 108 finished with value: 0.9915428601844043 and parameters: {'n_estimators': 350, 'booster': 'gbtree', 'lambda': 0.00023013605788877595, 'alpha': 0.001424319265480754, 'learning_rate': 0.09097784110533563, 'subsample_range': 0.2947744821657455, 'colsample_bytree': 0.4125978069196027, 'scale_pos_weight': 96, 'min_child_weight': 18, 'max_depth': 7, 'eta': 1.8729340594763676e-06, 'gamma': 0.02640072928689842, 'grow_policy': 'lossguide'}. Best is trial 96 with value: 0.9959131716467908.\u001b[0m\n",
      "\u001b[32m[I 2022-01-30 10:12:21,161]\u001b[0m Trial 109 finished with value: 0.9826502678331349 and parameters: {'n_estimators': 350, 'booster': 'gbtree', 'lambda': 0.042971721489753034, 'alpha': 5.827509027863037e-05, 'learning_rate': 0.09370135922247314, 'subsample_range': 0.20686515030432626, 'colsample_bytree': 0.31101230091193455, 'scale_pos_weight': 90, 'min_child_weight': 18, 'max_depth': 8, 'eta': 7.195827356645197e-06, 'gamma': 0.052900171063376786, 'grow_policy': 'lossguide'}. Best is trial 96 with value: 0.9959131716467908.\u001b[0m\n",
      "\u001b[32m[I 2022-01-30 10:12:21,502]\u001b[0m Trial 110 finished with value: 0.9647422781216163 and parameters: {'n_estimators': 300, 'booster': 'gbtree', 'lambda': 6.87311642738744e-08, 'alpha': 0.0006785163934957055, 'learning_rate': 0.08535338307175233, 'subsample_range': 0.3096753622652639, 'colsample_bytree': 0.26942012456886705, 'scale_pos_weight': 24, 'min_child_weight': 16, 'max_depth': 7, 'eta': 2.2806978522946564e-06, 'gamma': 0.5200220435468389, 'grow_policy': 'lossguide'}. Best is trial 96 with value: 0.9959131716467908.\u001b[0m\n",
      "\u001b[32m[I 2022-01-30 10:12:21,924]\u001b[0m Trial 111 finished with value: 0.9947742194827817 and parameters: {'n_estimators': 300, 'booster': 'gbtree', 'lambda': 0.0050048060473488545, 'alpha': 0.0020261835569070825, 'learning_rate': 0.08027941507783135, 'subsample_range': 0.6960912665192699, 'colsample_bytree': 0.28482691626267403, 'scale_pos_weight': 93, 'min_child_weight': 17, 'max_depth': 7, 'eta': 0.0003324546520785913, 'gamma': 0.5748407864661762, 'grow_policy': 'lossguide'}. Best is trial 96 with value: 0.9959131716467908.\u001b[0m\n",
      "\u001b[32m[I 2022-01-30 10:12:22,209]\u001b[0m Trial 112 finished with value: 0.994406109734039 and parameters: {'n_estimators': 350, 'booster': 'gbtree', 'lambda': 0.005210336551850725, 'alpha': 0.0002857100918401211, 'learning_rate': 0.0880952539437946, 'subsample_range': 0.6950902160090636, 'colsample_bytree': 0.21758416642311376, 'scale_pos_weight': 95, 'min_child_weight': 17, 'max_depth': 7, 'eta': 8.292207861723824e-07, 'gamma': 0.22067381019978446, 'grow_policy': 'lossguide'}. Best is trial 96 with value: 0.9959131716467908.\u001b[0m\n",
      "\u001b[32m[I 2022-01-30 10:12:22,468]\u001b[0m Trial 113 finished with value: 0.9939706571983653 and parameters: {'n_estimators': 350, 'booster': 'gbtree', 'lambda': 0.004717746070537184, 'alpha': 0.00027562768036014097, 'learning_rate': 0.08135136419082885, 'subsample_range': 0.3489174504659909, 'colsample_bytree': 0.2878101693958083, 'scale_pos_weight': 94, 'min_child_weight': 17, 'max_depth': 7, 'eta': 5.957522277918768e-07, 'gamma': 0.2183664292326757, 'grow_policy': 'lossguide'}. Best is trial 96 with value: 0.9959131716467908.\u001b[0m\n",
      "\u001b[32m[I 2022-01-30 10:12:22,750]\u001b[0m Trial 114 finished with value: 0.9886286778302809 and parameters: {'n_estimators': 350, 'booster': 'gbtree', 'lambda': 0.0007077497777164813, 'alpha': 0.00197969301064066, 'learning_rate': 0.08484504195339976, 'subsample_range': 0.3438424959646097, 'colsample_bytree': 0.28509552338977306, 'scale_pos_weight': 95, 'min_child_weight': 17, 'max_depth': 7, 'eta': 5.823290769878445e-07, 'gamma': 0.25732422945551797, 'grow_policy': 'lossguide'}. Best is trial 96 with value: 0.9959131716467908.\u001b[0m\n",
      "\u001b[32m[I 2022-01-30 10:12:23,005]\u001b[0m Trial 115 finished with value: 0.9781788354078318 and parameters: {'n_estimators': 400, 'booster': 'gbtree', 'lambda': 0.004800044742149016, 'alpha': 0.0002846453774101929, 'learning_rate': 0.08048686514006187, 'subsample_range': 0.2709423328735307, 'colsample_bytree': 0.185543159646496, 'scale_pos_weight': 93, 'min_child_weight': 16, 'max_depth': 7, 'eta': 9.977366488852745e-07, 'gamma': 0.1315103184245912, 'grow_policy': 'lossguide'}. Best is trial 96 with value: 0.9959131716467908.\u001b[0m\n",
      "\u001b[32m[I 2022-01-30 10:12:23,307]\u001b[0m Trial 116 finished with value: 0.9900273783095704 and parameters: {'n_estimators': 450, 'booster': 'gbtree', 'lambda': 0.001403009912095675, 'alpha': 0.004323819226586622, 'learning_rate': 0.08146218030252517, 'subsample_range': 0.594909800840403, 'colsample_bytree': 0.3295451420167913, 'scale_pos_weight': 89, 'min_child_weight': 17, 'max_depth': 8, 'eta': 1.8937339990074267e-07, 'gamma': 0.5646020008052172, 'grow_policy': 'lossguide'}. Best is trial 96 with value: 0.9959131716467908.\u001b[0m\n",
      "\u001b[32m[I 2022-01-30 10:12:23,624]\u001b[0m Trial 117 finished with value: 0.9842085821584683 and parameters: {'n_estimators': 400, 'booster': 'gbtree', 'lambda': 0.00358525246009314, 'alpha': 0.002493399411838271, 'learning_rate': 0.09470822593602093, 'subsample_range': 0.6925002880866573, 'colsample_bytree': 0.3499001942008081, 'scale_pos_weight': 95, 'min_child_weight': 18, 'max_depth': 8, 'eta': 1.8796327114995824e-07, 'gamma': 0.32181360576004475, 'grow_policy': 'lossguide'}. Best is trial 96 with value: 0.9959131716467908.\u001b[0m\n",
      "\u001b[32m[I 2022-01-30 10:12:23,887]\u001b[0m Trial 118 finished with value: 0.9772908520094598 and parameters: {'n_estimators': 300, 'booster': 'gbtree', 'lambda': 1.9080782758683994e-06, 'alpha': 0.00045981670364343105, 'learning_rate': 0.08992856915447814, 'subsample_range': 0.8215485853635751, 'colsample_bytree': 0.21184678360542802, 'scale_pos_weight': 100, 'min_child_weight': 16, 'max_depth': 7, 'eta': 9.284856971319006e-07, 'gamma': 0.2284088256894334, 'grow_policy': 'lossguide'}. Best is trial 96 with value: 0.9959131716467908.\u001b[0m\n",
      "\u001b[32m[I 2022-01-30 10:12:24,163]\u001b[0m Trial 119 finished with value: 0.9958126758676136 and parameters: {'n_estimators': 350, 'booster': 'gbtree', 'lambda': 0.010757036264795912, 'alpha': 0.0009123252521999776, 'learning_rate': 0.08768163466885923, 'subsample_range': 0.2518933767990438, 'colsample_bytree': 0.26749391658499916, 'scale_pos_weight': 93, 'min_child_weight': 10, 'max_depth': 7, 'eta': 3.4254575533318937e-07, 'gamma': 0.6323720574537264, 'grow_policy': 'lossguide'}. Best is trial 96 with value: 0.9959131716467908.\u001b[0m\n",
      "\u001b[32m[I 2022-01-30 10:12:24,427]\u001b[0m Trial 120 finished with value: 0.9896253951928613 and parameters: {'n_estimators': 500, 'booster': 'gbtree', 'lambda': 0.012966274849707752, 'alpha': 0.0013769659508742129, 'learning_rate': 0.0998874553294869, 'subsample_range': 0.7308589539590722, 'colsample_bytree': 0.2703754526438552, 'scale_pos_weight': 83, 'min_child_weight': 14, 'max_depth': 7, 'eta': 8.940555651360005e-08, 'gamma': 0.709049124432315, 'grow_policy': 'lossguide'}. Best is trial 96 with value: 0.9959131716467908.\u001b[0m\n",
      "\u001b[32m[I 2022-01-30 10:12:24,701]\u001b[0m Trial 121 finished with value: 0.9943056206873451 and parameters: {'n_estimators': 350, 'booster': 'gbtree', 'lambda': 0.0057793045267121625, 'alpha': 0.0002963025943347087, 'learning_rate': 0.091761427366563, 'subsample_range': 0.23800809409352142, 'colsample_bytree': 0.3143014484304213, 'scale_pos_weight': 93, 'min_child_weight': 10, 'max_depth': 7, 'eta': 3.6787514719907737e-07, 'gamma': 0.3888922970455265, 'grow_policy': 'lossguide'}. Best is trial 96 with value: 0.9959131716467908.\u001b[0m\n",
      "\u001b[32m[I 2022-01-30 10:12:24,976]\u001b[0m Trial 122 finished with value: 0.988419445842734 and parameters: {'n_estimators': 350, 'booster': 'gbtree', 'lambda': 0.009695091611129393, 'alpha': 0.0008465650400677727, 'learning_rate': 0.09277774348613067, 'subsample_range': 0.2281040182578562, 'colsample_bytree': 0.32521644545782774, 'scale_pos_weight': 97, 'min_child_weight': 10, 'max_depth': 7, 'eta': 1.1122963971782556e-07, 'gamma': 0.3407048359925906, 'grow_policy': 'lossguide'}. Best is trial 96 with value: 0.9959131716467908.\u001b[0m\n",
      "\u001b[32m[I 2022-01-30 10:12:25,243]\u001b[0m Trial 123 finished with value: 0.9750064281083978 and parameters: {'n_estimators': 350, 'booster': 'gbtree', 'lambda': 0.006564552235863552, 'alpha': 0.0009529042885800154, 'learning_rate': 0.0874272424404441, 'subsample_range': 0.2679407472251404, 'colsample_bytree': 0.3144076020877264, 'scale_pos_weight': 90, 'min_child_weight': 10, 'max_depth': 7, 'eta': 2.7717347688268996e-07, 'gamma': 0.59463362762452, 'grow_policy': 'lossguide'}. Best is trial 96 with value: 0.9959131716467908.\u001b[0m\n",
      "\u001b[32m[I 2022-01-30 10:12:25,546]\u001b[0m Trial 124 finished with value: 0.9834046159250501 and parameters: {'n_estimators': 300, 'booster': 'gbtree', 'lambda': 0.0022785890053682164, 'alpha': 0.00041721694943895143, 'learning_rate': 0.09729646674155235, 'subsample_range': 0.3920291057324249, 'colsample_bytree': 0.26571472214264535, 'scale_pos_weight': 86, 'min_child_weight': 9, 'max_depth': 8, 'eta': 4.439672645471596e-07, 'gamma': 0.1207685308393901, 'grow_policy': 'lossguide'}. Best is trial 96 with value: 0.9959131716467908.\u001b[0m\n",
      "\u001b[32m[I 2022-01-30 10:12:25,824]\u001b[0m Trial 125 finished with value: 0.9757339600668458 and parameters: {'n_estimators': 300, 'booster': 'gbtree', 'lambda': 0.01949892409799071, 'alpha': 0.00018292934528238414, 'learning_rate': 0.09099198743922948, 'subsample_range': 0.30689982733374377, 'colsample_bytree': 0.36515896624284255, 'scale_pos_weight': 93, 'min_child_weight': 11, 'max_depth': 7, 'eta': 2.6175303422071627e-06, 'gamma': 0.3850807169049424, 'grow_policy': 'lossguide'}. Best is trial 96 with value: 0.9959131716467908.\u001b[0m\n",
      "\u001b[32m[I 2022-01-30 10:12:26,106]\u001b[0m Trial 126 finished with value: 0.9881932252946073 and parameters: {'n_estimators': 400, 'booster': 'gbtree', 'lambda': 0.005416613971056564, 'alpha': 0.0021649911013296138, 'learning_rate': 0.08592989246418185, 'subsample_range': 0.2301702296109369, 'colsample_bytree': 0.3438762829127705, 'scale_pos_weight': 96, 'min_child_weight': 8, 'max_depth': 7, 'eta': 0.0003349220225228826, 'gamma': 0.9631226523732039, 'grow_policy': 'lossguide'}. Best is trial 96 with value: 0.9959131716467908.\u001b[0m\n",
      "\u001b[32m[I 2022-01-30 10:12:26,246]\u001b[0m Trial 127 finished with value: 0.9207035885143313 and parameters: {'n_estimators': 350, 'booster': 'gblinear', 'lambda': 0.02783169837452737, 'alpha': 0.0003633356423418847, 'learning_rate': 0.08312843214120726, 'subsample_range': 0.20670900819521226, 'colsample_bytree': 0.3023465846062958, 'scale_pos_weight': 98, 'min_child_weight': 12}. Best is trial 96 with value: 0.9959131716467908.\u001b[0m\n",
      "\u001b[32m[I 2022-01-30 10:12:26,536]\u001b[0m Trial 128 finished with value: 0.9842580925802374 and parameters: {'n_estimators': 300, 'booster': 'gbtree', 'lambda': 0.0031660896282550443, 'alpha': 0.004483289835433343, 'learning_rate': 0.08898503989267967, 'subsample_range': 0.7741094456036172, 'colsample_bytree': 0.3762325617641304, 'scale_pos_weight': 92, 'min_child_weight': 10, 'max_depth': 7, 'eta': 3.2603545631664084e-05, 'gamma': 0.08959248240165771, 'grow_policy': 'depthwise'}. Best is trial 96 with value: 0.9959131716467908.\u001b[0m\n",
      "\u001b[32m[I 2022-01-30 10:12:26,891]\u001b[0m Trial 129 finished with value: 0.911760179045453 and parameters: {'n_estimators': 350, 'booster': 'gbtree', 'lambda': 0.011033887863070652, 'alpha': 0.011941697153424777, 'learning_rate': 0.095914827611482, 'subsample_range': 0.2526637407086136, 'colsample_bytree': 0.9459195708430892, 'scale_pos_weight': 12, 'min_child_weight': 15, 'max_depth': 8, 'eta': 1.8372783568599653e-06, 'gamma': 0.18626595208020358, 'grow_policy': 'lossguide'}. Best is trial 96 with value: 0.9959131716467908.\u001b[0m\n",
      "\u001b[32m[I 2022-01-30 10:12:27,173]\u001b[0m Trial 130 finished with value: 0.9869873567342804 and parameters: {'n_estimators': 250, 'booster': 'gbtree', 'lambda': 4.421817657182727e-05, 'alpha': 0.000584830396993099, 'learning_rate': 0.09227757634032507, 'subsample_range': 0.8964309379659222, 'colsample_bytree': 0.2880501913885163, 'scale_pos_weight': 90, 'min_child_weight': 9, 'max_depth': 7, 'eta': 5.323523842628654e-08, 'gamma': 0.5694095280377769, 'grow_policy': 'lossguide'}. Best is trial 96 with value: 0.9959131716467908.\u001b[0m\n",
      "\u001b[32m[I 2022-01-30 10:12:27,431]\u001b[0m Trial 131 finished with value: 0.9960809271789375 and parameters: {'n_estimators': 350, 'booster': 'gbtree', 'lambda': 0.004552608345135264, 'alpha': 0.0002804924268106597, 'learning_rate': 0.08751048285551594, 'subsample_range': 0.2858933329106005, 'colsample_bytree': 0.28235851603424367, 'scale_pos_weight': 94, 'min_child_weight': 17, 'max_depth': 7, 'eta': 6.650888050342118e-07, 'gamma': 0.22943591304061603, 'grow_policy': 'lossguide'}. Best is trial 131 with value: 0.9960809271789375.\u001b[0m\n",
      "\u001b[32m[I 2022-01-30 10:12:27,674]\u001b[0m Trial 132 finished with value: 0.9610974321607163 and parameters: {'n_estimators': 300, 'booster': 'gbtree', 'lambda': 0.016698259543953098, 'alpha': 0.0002514292420917891, 'learning_rate': 0.08707253606179267, 'subsample_range': 0.2825849143439008, 'colsample_bytree': 0.26585597566265623, 'scale_pos_weight': 95, 'min_child_weight': 18, 'max_depth': 7, 'eta': 1.431560999132429e-06, 'gamma': 0.3740046866344791, 'grow_policy': 'lossguide'}. Best is trial 131 with value: 0.9960809271789375.\u001b[0m\n",
      "\u001b[32m[I 2022-01-30 10:12:27,925]\u001b[0m Trial 133 finished with value: 0.9956451829023182 and parameters: {'n_estimators': 400, 'booster': 'gbtree', 'lambda': 0.0016424764509842635, 'alpha': 0.0011503712774626259, 'learning_rate': 0.08972320643632915, 'subsample_range': 0.9896057099957605, 'colsample_bytree': 0.3064225561607458, 'scale_pos_weight': 93, 'min_child_weight': 17, 'max_depth': 7, 'eta': 3.7654872540211677e-06, 'gamma': 0.2858773686900531, 'grow_policy': 'lossguide'}. Best is trial 131 with value: 0.9960809271789375.\u001b[0m\n",
      "\u001b[32m[I 2022-01-30 10:12:28,197]\u001b[0m Trial 134 finished with value: 0.9718240617677841 and parameters: {'n_estimators': 400, 'booster': 'gbtree', 'lambda': 0.0006643775072458937, 'alpha': 0.00017204250654510465, 'learning_rate': 0.08949245306662387, 'subsample_range': 0.19472650379462697, 'colsample_bytree': 0.19808537232256873, 'scale_pos_weight': 87, 'min_child_weight': 8, 'max_depth': 7, 'eta': 4.237149293901023e-06, 'gamma': 0.20298598466230416, 'grow_policy': 'lossguide'}. Best is trial 131 with value: 0.9960809271789375.\u001b[0m\n",
      "\u001b[32m[I 2022-01-30 10:12:28,448]\u001b[0m Trial 135 finished with value: 0.981897179237391 and parameters: {'n_estimators': 350, 'booster': 'gbtree', 'lambda': 0.0017521391745640201, 'alpha': 0.0007857177299490791, 'learning_rate': 0.09293430646336302, 'subsample_range': 0.9228996029858672, 'colsample_bytree': 0.31224501657142056, 'scale_pos_weight': 92, 'min_child_weight': 17, 'max_depth': 7, 'eta': 7.441599799935071e-07, 'gamma': 0.410360990096842, 'grow_policy': 'lossguide'}. Best is trial 131 with value: 0.9960809271789375.\u001b[0m\n",
      "\u001b[32m[I 2022-01-30 10:12:28,698]\u001b[0m Trial 136 finished with value: 0.9933337799812407 and parameters: {'n_estimators': 450, 'booster': 'gbtree', 'lambda': 0.0011508693930163763, 'alpha': 8.5020757321279e-05, 'learning_rate': 0.08440157757610549, 'subsample_range': 0.1567478054981501, 'colsample_bytree': 0.2229002941540834, 'scale_pos_weight': 100, 'min_child_weight': 18, 'max_depth': 7, 'eta': 3.243239141066709e-06, 'gamma': 1.7176517497660398e-08, 'grow_policy': 'lossguide'}. Best is trial 131 with value: 0.9960809271789375.\u001b[0m\n",
      "\u001b[32m[I 2022-01-30 10:12:28,944]\u001b[0m Trial 137 finished with value: 0.9751310257866823 and parameters: {'n_estimators': 350, 'booster': 'gbtree', 'lambda': 0.0032404671889740156, 'alpha': 0.0004997485773970439, 'learning_rate': 0.09142806837866566, 'subsample_range': 0.326493425156127, 'colsample_bytree': 0.1772896928781772, 'scale_pos_weight': 97, 'min_child_weight': 17, 'max_depth': 8, 'eta': 6.493018478881416e-06, 'gamma': 0.6875681926265753, 'grow_policy': 'lossguide'}. Best is trial 131 with value: 0.9960809271789375.\u001b[0m\n",
      "\u001b[32m[I 2022-01-30 10:12:29,212]\u001b[0m Trial 138 finished with value: 0.9887544317733249 and parameters: {'n_estimators': 400, 'booster': 'gbtree', 'lambda': 0.004411992313519711, 'alpha': 0.0015907374091486165, 'learning_rate': 0.08750119507529935, 'subsample_range': 0.6582316749230596, 'colsample_bytree': 0.33366970339607305, 'scale_pos_weight': 89, 'min_child_weight': 9, 'max_depth': 7, 'eta': 4.1624859701473666e-07, 'gamma': 0.1320610273202901, 'grow_policy': 'depthwise'}. Best is trial 131 with value: 0.9960809271789375.\u001b[0m\n",
      "\u001b[32m[I 2022-01-30 10:12:29,464]\u001b[0m Trial 139 finished with value: 0.9949420513164065 and parameters: {'n_estimators': 300, 'booster': 'gbtree', 'lambda': 0.008721308687595412, 'alpha': 0.0003268458172850557, 'learning_rate': 0.08369826303627123, 'subsample_range': 0.6182349166949673, 'colsample_bytree': 0.2811635607668405, 'scale_pos_weight': 94, 'min_child_weight': 11, 'max_depth': 7, 'eta': 0.0001391584637733987, 'gamma': 0.07760812163959377, 'grow_policy': 'lossguide'}. Best is trial 131 with value: 0.9960809271789375.\u001b[0m\n",
      "\u001b[32m[I 2022-01-30 10:12:29,629]\u001b[0m Trial 140 finished with value: 0.9506626311978571 and parameters: {'n_estimators': 300, 'booster': 'gbtree', 'lambda': 0.010237552294700573, 'alpha': 0.0010244479269602735, 'learning_rate': 0.07619149745686578, 'subsample_range': 0.6354740075258262, 'colsample_bytree': 0.27815573600261967, 'scale_pos_weight': 98, 'min_child_weight': 16, 'max_depth': 1, 'eta': 9.062903891864377e-05, 'gamma': 0.036910014781857674, 'grow_policy': 'lossguide'}. Best is trial 131 with value: 0.9960809271789375.\u001b[0m\n",
      "\u001b[32m[I 2022-01-30 10:12:29,891]\u001b[0m Trial 141 finished with value: 0.9931667448248142 and parameters: {'n_estimators': 300, 'booster': 'gbtree', 'lambda': 0.007753700342055071, 'alpha': 0.0002695401714242948, 'learning_rate': 0.08318906026386515, 'subsample_range': 0.7210175603792945, 'colsample_bytree': 0.22212857651653384, 'scale_pos_weight': 93, 'min_child_weight': 11, 'max_depth': 7, 'eta': 0.00014842697389310432, 'gamma': 0.2601786777919759, 'grow_policy': 'lossguide'}. Best is trial 131 with value: 0.9960809271789375.\u001b[0m\n",
      "\u001b[32m[I 2022-01-30 10:12:30,245]\u001b[0m Trial 142 finished with value: 0.9822991623541001 and parameters: {'n_estimators': 350, 'booster': 'gbtree', 'lambda': 0.0020615526834985667, 'alpha': 0.0003378912615919104, 'learning_rate': 0.0801897174503936, 'subsample_range': 0.2926119233563595, 'colsample_bytree': 0.30158908079184543, 'scale_pos_weight': 94, 'min_child_weight': 10, 'max_depth': 7, 'eta': 0.000320861021641392, 'gamma': 0.30628740097981094, 'grow_policy': 'lossguide'}. Best is trial 131 with value: 0.9960809271789375.\u001b[0m\n",
      "\u001b[32m[I 2022-01-30 10:12:30,539]\u001b[0m Trial 143 finished with value: 0.9881597289457092 and parameters: {'n_estimators': 250, 'booster': 'gbtree', 'lambda': 0.005643659345765948, 'alpha': 0.00015648450034041797, 'learning_rate': 0.0865172264705599, 'subsample_range': 0.5711720144404395, 'colsample_bytree': 0.2584713386703589, 'scale_pos_weight': 91, 'min_child_weight': 18, 'max_depth': 7, 'eta': 1.3380407106638161e-06, 'gamma': 0.08317138515924292, 'grow_policy': 'lossguide'}. Best is trial 131 with value: 0.9960809271789375.\u001b[0m\n",
      "\u001b[32m[I 2022-01-30 10:12:30,805]\u001b[0m Trial 144 finished with value: 0.9885199416219114 and parameters: {'n_estimators': 300, 'booster': 'gbtree', 'lambda': 0.0382118743776768, 'alpha': 2.5503991337675895e-05, 'learning_rate': 0.08936910451313902, 'subsample_range': 0.25662484980109157, 'colsample_bytree': 0.28549538683965203, 'scale_pos_weight': 85, 'min_child_weight': 17, 'max_depth': 7, 'eta': 4.241300425755625e-05, 'gamma': 0.16006709899460425, 'grow_policy': 'lossguide'}. Best is trial 131 with value: 0.9960809271789375.\u001b[0m\n",
      "\u001b[32m[I 2022-01-30 10:12:31,080]\u001b[0m Trial 145 finished with value: 0.9947407208897227 and parameters: {'n_estimators': 350, 'booster': 'gbtree', 'lambda': 0.023045441122978884, 'alpha': 0.0005242527632832407, 'learning_rate': 0.09436557485668631, 'subsample_range': 0.6802318045019349, 'colsample_bytree': 0.3193997826922893, 'scale_pos_weight': 95, 'min_child_weight': 18, 'max_depth': 7, 'eta': 1.1431015377570326e-05, 'gamma': 0.9721140596700165, 'grow_policy': 'lossguide'}. Best is trial 131 with value: 0.9960809271789375.\u001b[0m\n",
      "\u001b[32m[I 2022-01-30 10:12:31,343]\u001b[0m Trial 146 finished with value: 0.9916259127755075 and parameters: {'n_estimators': 250, 'booster': 'gbtree', 'lambda': 0.02496070518606928, 'alpha': 0.0005628161223005948, 'learning_rate': 0.09481966071908943, 'subsample_range': 0.6975719877613059, 'colsample_bytree': 0.20779550887175974, 'scale_pos_weight': 96, 'min_child_weight': 18, 'max_depth': 7, 'eta': 9.418691883821766e-06, 'gamma': 0.8660146098225413, 'grow_policy': 'lossguide'}. Best is trial 131 with value: 0.9960809271789375.\u001b[0m\n",
      "\u001b[32m[I 2022-01-30 10:12:31,726]\u001b[0m Trial 147 finished with value: 0.9887961595747706 and parameters: {'n_estimators': 400, 'booster': 'gbtree', 'lambda': 0.016122349635375555, 'alpha': 0.0012232843178059595, 'learning_rate': 0.08483621224366807, 'subsample_range': 0.6863216331142161, 'colsample_bytree': 0.2553164116373786, 'scale_pos_weight': 99, 'min_child_weight': 18, 'max_depth': 8, 'eta': 2.6063341347026248e-05, 'gamma': 0.5628156836898063, 'grow_policy': 'lossguide'}. Best is trial 131 with value: 0.9960809271789375.\u001b[0m\n",
      "\u001b[32m[I 2022-01-30 10:12:32,032]\u001b[0m Trial 148 finished with value: 0.994137746214659 and parameters: {'n_estimators': 350, 'booster': 'gbtree', 'lambda': 0.04444266003612289, 'alpha': 0.00237312378583161, 'learning_rate': 0.08251625135062932, 'subsample_range': 0.7397327889107955, 'colsample_bytree': 0.23219820269295743, 'scale_pos_weight': 89, 'min_child_weight': 17, 'max_depth': 7, 'eta': 5.408528017827994e-06, 'gamma': 0.9314803871483165, 'grow_policy': 'lossguide'}. Best is trial 131 with value: 0.9960809271789375.\u001b[0m\n",
      "\u001b[32m[I 2022-01-30 10:12:32,437]\u001b[0m Trial 149 finished with value: 0.9966166421010317 and parameters: {'n_estimators': 300, 'booster': 'gbtree', 'lambda': 0.011233944059301847, 'alpha': 0.0008667027573551139, 'learning_rate': 0.09824384767564735, 'subsample_range': 0.7515047096515546, 'colsample_bytree': 0.3619792255436283, 'scale_pos_weight': 95, 'min_child_weight': 16, 'max_depth': 7, 'eta': 1.2938666532157513e-05, 'gamma': 0.1898819265861662, 'grow_policy': 'lossguide'}. Best is trial 149 with value: 0.9966166421010317.\u001b[0m\n",
      "\u001b[32m[I 2022-01-30 10:12:32,852]\u001b[0m Trial 150 finished with value: 0.9892569106692113 and parameters: {'n_estimators': 250, 'booster': 'gbtree', 'lambda': 0.010371919889949552, 'alpha': 0.0007712495628842407, 'learning_rate': 0.09946198960690567, 'subsample_range': 0.7596015922463206, 'colsample_bytree': 0.3540308669141159, 'scale_pos_weight': 95, 'min_child_weight': 15, 'max_depth': 7, 'eta': 1.2768744717913554e-05, 'gamma': 0.0698794810160865, 'grow_policy': 'depthwise'}. Best is trial 149 with value: 0.9966166421010317.\u001b[0m\n",
      "\u001b[32m[I 2022-01-30 10:12:33,374]\u001b[0m Trial 151 finished with value: 0.9953771941578453 and parameters: {'n_estimators': 300, 'booster': 'gbtree', 'lambda': 0.020225462813091944, 'alpha': 0.00044330196697779406, 'learning_rate': 0.09806801327551785, 'subsample_range': 0.7117089284941038, 'colsample_bytree': 0.33403598412186425, 'scale_pos_weight': 97, 'min_child_weight': 16, 'max_depth': 7, 'eta': 1.8980378834585312e-05, 'gamma': 0.20528523927106634, 'grow_policy': 'lossguide'}. Best is trial 149 with value: 0.9966166421010317.\u001b[0m\n",
      "\u001b[32m[I 2022-01-30 10:12:33,945]\u001b[0m Trial 152 finished with value: 0.9757339600668458 and parameters: {'n_estimators': 300, 'booster': 'gbtree', 'lambda': 0.015254257707636679, 'alpha': 0.00044829485228535293, 'learning_rate': 0.09820392591423417, 'subsample_range': 0.6695180702275534, 'colsample_bytree': 0.3345355705350438, 'scale_pos_weight': 92, 'min_child_weight': 16, 'max_depth': 7, 'eta': 1.6204775506634644e-05, 'gamma': 0.11004176133698289, 'grow_policy': 'lossguide'}. Best is trial 149 with value: 0.9966166421010317.\u001b[0m\n",
      "\u001b[32m[I 2022-01-30 10:12:34,557]\u001b[0m Trial 153 finished with value: 0.9742936170642331 and parameters: {'n_estimators': 300, 'booster': 'gbtree', 'lambda': 0.022695791900406003, 'alpha': 0.001058300195464468, 'learning_rate': 0.09561971755942876, 'subsample_range': 0.7078366361020596, 'colsample_bytree': 0.2970935081442936, 'scale_pos_weight': 95, 'min_child_weight': 16, 'max_depth': 7, 'eta': 3.584824281236132e-06, 'gamma': 0.17450014776735773, 'grow_policy': 'lossguide'}. Best is trial 149 with value: 0.9966166421010317.\u001b[0m\n",
      "\u001b[32m[I 2022-01-30 10:12:35,265]\u001b[0m Trial 154 finished with value: 0.9957459636899577 and parameters: {'n_estimators': 350, 'booster': 'gbtree', 'lambda': 0.010853667451568507, 'alpha': 0.000630190185738397, 'learning_rate': 0.09704879797632388, 'subsample_range': 0.6172718454154338, 'colsample_bytree': 0.3624509802752443, 'scale_pos_weight': 97, 'min_child_weight': 17, 'max_depth': 7, 'eta': 9.1136070341711e-06, 'gamma': 0.4673352113856088, 'grow_policy': 'lossguide'}. Best is trial 149 with value: 0.9966166421010317.\u001b[0m\n",
      "\u001b[32m[I 2022-01-30 10:12:35,585]\u001b[0m Trial 155 finished with value: 0.9768153521335888 and parameters: {'n_estimators': 350, 'booster': 'gbtree', 'lambda': 0.00820131578790193, 'alpha': 0.0016488487897180595, 'learning_rate': 0.09738725275275974, 'subsample_range': 0.6156759935106155, 'colsample_bytree': 0.4266847649798895, 'scale_pos_weight': 100, 'min_child_weight': 17, 'max_depth': 7, 'eta': 7.857504685920062e-06, 'gamma': 0.622223909459491, 'grow_policy': 'lossguide'}. Best is trial 149 with value: 0.9966166421010317.\u001b[0m\n",
      "\u001b[32m[I 2022-01-30 10:12:35,894]\u001b[0m Trial 156 finished with value: 0.9813947003415047 and parameters: {'n_estimators': 400, 'booster': 'gbtree', 'lambda': 0.014924029836807238, 'alpha': 0.0007020780330378546, 'learning_rate': 0.09647010991079416, 'subsample_range': 0.641194596430571, 'colsample_bytree': 0.3613637908982015, 'scale_pos_weight': 97, 'min_child_weight': 15, 'max_depth': 7, 'eta': 5.268053331848461e-06, 'gamma': 0.20603908911872904, 'grow_policy': 'lossguide'}. Best is trial 149 with value: 0.9966166421010317.\u001b[0m\n",
      "\u001b[32m[I 2022-01-30 10:12:36,049]\u001b[0m Trial 157 finished with value: 0.9131173537700829 and parameters: {'n_estimators': 350, 'booster': 'gblinear', 'lambda': 0.011633172061277416, 'alpha': 0.0005428466201177747, 'learning_rate': 0.09387563743532501, 'subsample_range': 0.6202614560307204, 'colsample_bytree': 0.38872481174105405, 'scale_pos_weight': 96, 'min_child_weight': 16}. Best is trial 149 with value: 0.9966166421010317.\u001b[0m\n",
      "\u001b[32m[I 2022-01-30 10:12:36,348]\u001b[0m Trial 158 finished with value: 0.9767053541848869 and parameters: {'n_estimators': 350, 'booster': 'gbtree', 'lambda': 7.098192975085622e-06, 'alpha': 0.002949071669163023, 'learning_rate': 0.09938889619641267, 'subsample_range': 0.6702843088857913, 'colsample_bytree': 0.3287581496159558, 'scale_pos_weight': 94, 'min_child_weight': 17, 'max_depth': 8, 'eta': 2.4725348692940856e-05, 'gamma': 0.46186165025002285, 'grow_policy': 'lossguide'}. Best is trial 149 with value: 0.9966166421010317.\u001b[0m\n",
      "\u001b[32m[I 2022-01-30 10:12:36,644]\u001b[0m Trial 159 finished with value: 0.9830187276710125 and parameters: {'n_estimators': 550, 'booster': 'gbtree', 'lambda': 0.021819820840023756, 'alpha': 0.00020330648225997037, 'learning_rate': 0.09394332331874995, 'subsample_range': 0.7123959052928756, 'colsample_bytree': 0.3437703655938772, 'scale_pos_weight': 98, 'min_child_weight': 16, 'max_depth': 7, 'eta': 1.1591032540676218e-05, 'gamma': 0.27640945186308225, 'grow_policy': 'lossguide'}. Best is trial 149 with value: 0.9966166421010317.\u001b[0m\n",
      "\u001b[32m[I 2022-01-30 10:12:38,424]\u001b[0m Trial 160 finished with value: 0.9714973602123944 and parameters: {'n_estimators': 400, 'booster': 'gbtree', 'lambda': 0.05788971189897912, 'alpha': 0.0004226372551088155, 'learning_rate': 0.09117563980434037, 'subsample_range': 0.7814770425333528, 'colsample_bytree': 0.3751723298668131, 'scale_pos_weight': 35, 'min_child_weight': 17, 'max_depth': 7, 'eta': 2.6307567907321334e-06, 'gamma': 0.12973764174304261, 'grow_policy': 'lossguide'}. Best is trial 149 with value: 0.9966166421010317.\u001b[0m\n",
      "\u001b[32m[I 2022-01-30 10:12:38,812]\u001b[0m Trial 161 finished with value: 0.9950757068203135 and parameters: {'n_estimators': 300, 'booster': 'gbtree', 'lambda': 0.002544924064341223, 'alpha': 0.0009191796240746046, 'learning_rate': 0.08726842284637268, 'subsample_range': 0.8121265967797813, 'colsample_bytree': 0.3091148555233918, 'scale_pos_weight': 91, 'min_child_weight': 18, 'max_depth': 7, 'eta': 3.83770023892557e-05, 'gamma': 0.42920108735701384, 'grow_policy': 'lossguide'}. Best is trial 149 with value: 0.9966166421010317.\u001b[0m\n",
      "\u001b[32m[I 2022-01-30 10:12:39,127]\u001b[0m Trial 162 finished with value: 0.9739586535752534 and parameters: {'n_estimators': 300, 'booster': 'gbtree', 'lambda': 0.0077772361798550335, 'alpha': 0.0012469967208550842, 'learning_rate': 0.08818335955382911, 'subsample_range': 0.8312693152626242, 'colsample_bytree': 0.30856108778473756, 'scale_pos_weight': 93, 'min_child_weight': 17, 'max_depth': 7, 'eta': 1.9953980866242426e-05, 'gamma': 0.6758969904833655, 'grow_policy': 'lossguide'}. Best is trial 149 with value: 0.9966166421010317.\u001b[0m\n",
      "\u001b[32m[I 2022-01-30 10:12:39,394]\u001b[0m Trial 163 finished with value: 0.9950760367119984 and parameters: {'n_estimators': 350, 'booster': 'gbtree', 'lambda': 0.004363238951030598, 'alpha': 0.0008233967502148252, 'learning_rate': 0.08647690629412004, 'subsample_range': 0.7950600832843403, 'colsample_bytree': 0.3207734232512592, 'scale_pos_weight': 90, 'min_child_weight': 18, 'max_depth': 7, 'eta': 3.8037681882797556e-05, 'gamma': 0.988773098868715, 'grow_policy': 'lossguide'}. Best is trial 149 with value: 0.9966166421010317.\u001b[0m\n",
      "\u001b[32m[I 2022-01-30 10:12:39,768]\u001b[0m Trial 164 finished with value: 0.9748965513443966 and parameters: {'n_estimators': 300, 'booster': 'gbtree', 'lambda': 0.003793226414486503, 'alpha': 0.0008180898288468429, 'learning_rate': 0.08568874937798718, 'subsample_range': 0.8116360081054066, 'colsample_bytree': 0.3190204284126971, 'scale_pos_weight': 88, 'min_child_weight': 19, 'max_depth': 7, 'eta': 4.358021165282675e-05, 'gamma': 0.9734994601629836, 'grow_policy': 'lossguide'}. Best is trial 149 with value: 0.9966166421010317.\u001b[0m\n",
      "\u001b[32m[I 2022-01-30 10:12:40,051]\u001b[0m Trial 165 finished with value: 0.9947742194827817 and parameters: {'n_estimators': 300, 'booster': 'gbtree', 'lambda': 0.00257732413663458, 'alpha': 0.0009640254685967346, 'learning_rate': 0.09260778285088214, 'subsample_range': 0.798068903750925, 'colsample_bytree': 0.2857623319587724, 'scale_pos_weight': 90, 'min_child_weight': 18, 'max_depth': 7, 'eta': 3.599148450109522e-05, 'gamma': 0.4710906968816961, 'grow_policy': 'lossguide'}. Best is trial 149 with value: 0.9966166421010317.\u001b[0m\n",
      "\u001b[32m[I 2022-01-30 10:12:40,323]\u001b[0m Trial 166 finished with value: 0.995477992898774 and parameters: {'n_estimators': 300, 'booster': 'gbtree', 'lambda': 0.002133786965799319, 'alpha': 0.0016749347313890512, 'learning_rate': 0.09047386990991693, 'subsample_range': 0.7823553256458563, 'colsample_bytree': 0.27997003689299305, 'scale_pos_weight': 90, 'min_child_weight': 18, 'max_depth': 7, 'eta': 3.29613624070447e-05, 'gamma': 0.43089923613436987, 'grow_policy': 'lossguide'}. Best is trial 149 with value: 0.9966166421010317.\u001b[0m\n",
      "\u001b[32m[I 2022-01-30 10:12:40,672]\u001b[0m Trial 167 finished with value: 0.9969853285991828 and parameters: {'n_estimators': 250, 'booster': 'gbtree', 'lambda': 0.0009745721327573024, 'alpha': 0.0016749872573526528, 'learning_rate': 0.09178156198940852, 'subsample_range': 0.8001922285527436, 'colsample_bytree': 0.35591681252120266, 'scale_pos_weight': 86, 'min_child_weight': 19, 'max_depth': 7, 'eta': 4.158137573492556e-05, 'gamma': 0.3574570458502379, 'grow_policy': 'lossguide'}. Best is trial 167 with value: 0.9969853285991828.\u001b[0m\n",
      "\u001b[32m[I 2022-01-30 10:12:40,969]\u001b[0m Trial 168 finished with value: 0.9906303529846341 and parameters: {'n_estimators': 250, 'booster': 'gbtree', 'lambda': 0.00117912314205021, 'alpha': 0.005534634203866827, 'learning_rate': 0.09748433616329755, 'subsample_range': 0.8671576497396613, 'colsample_bytree': 0.3556383169166777, 'scale_pos_weight': 83, 'min_child_weight': 19, 'max_depth': 7, 'eta': 2.4946598706406698e-05, 'gamma': 0.3888763796581379, 'grow_policy': 'depthwise'}. Best is trial 167 with value: 0.9969853285991828.\u001b[0m\n",
      "\u001b[32m[I 2022-01-30 10:12:41,299]\u001b[0m Trial 169 finished with value: 0.9911328318805205 and parameters: {'n_estimators': 300, 'booster': 'gbtree', 'lambda': 0.00045378080967201084, 'alpha': 0.0015893905106600015, 'learning_rate': 0.08905503752663645, 'subsample_range': 0.7597985668299534, 'colsample_bytree': 0.41327099906111, 'scale_pos_weight': 87, 'min_child_weight': 19, 'max_depth': 8, 'eta': 5.244792273851817e-05, 'gamma': 0.3050998030461739, 'grow_policy': 'lossguide'}. Best is trial 167 with value: 0.9969853285991828.\u001b[0m\n",
      "\u001b[32m[I 2022-01-30 10:12:41,605]\u001b[0m Trial 170 finished with value: 0.9705594624432512 and parameters: {'n_estimators': 350, 'booster': 'gbtree', 'lambda': 0.001568411231034897, 'alpha': 0.003920877920753843, 'learning_rate': 0.09072579327913646, 'subsample_range': 0.7964427150652049, 'colsample_bytree': 0.3378790294124125, 'scale_pos_weight': 86, 'min_child_weight': 18, 'max_depth': 7, 'eta': 1.9796090356764573e-05, 'gamma': 0.1742132213248387, 'grow_policy': 'lossguide'}. Best is trial 167 with value: 0.9969853285991828.\u001b[0m\n",
      "\u001b[32m[I 2022-01-30 10:12:41,900]\u001b[0m Trial 171 finished with value: 0.9820311736096273 and parameters: {'n_estimators': 300, 'booster': 'gbtree', 'lambda': 0.000840486877275086, 'alpha': 0.0009573772765331087, 'learning_rate': 0.093015282881043, 'subsample_range': 0.8040246672496174, 'colsample_bytree': 0.2783902940716619, 'scale_pos_weight': 90, 'min_child_weight': 18, 'max_depth': 7, 'eta': 3.137360600129548e-05, 'gamma': 0.48560592942669256, 'grow_policy': 'lossguide'}. Best is trial 167 with value: 0.9969853285991828.\u001b[0m\n",
      "\u001b[32m[I 2022-01-30 10:12:42,190]\u001b[0m Trial 172 finished with value: 0.9888214289594431 and parameters: {'n_estimators': 250, 'booster': 'gbtree', 'lambda': 0.002011374970354164, 'alpha': 0.0022603938647065445, 'learning_rate': 0.08631910847917691, 'subsample_range': 0.758061550745189, 'colsample_bytree': 0.3047557920056676, 'scale_pos_weight': 91, 'min_child_weight': 17, 'max_depth': 7, 'eta': 8.460311342881813e-06, 'gamma': 0.6554926694054641, 'grow_policy': 'lossguide'}. Best is trial 167 with value: 0.9969853285991828.\u001b[0m\n",
      "\u001b[32m[I 2022-01-30 10:12:42,499]\u001b[0m Trial 173 finished with value: 0.9823822970419511 and parameters: {'n_estimators': 300, 'booster': 'gbtree', 'lambda': 0.0029013165442105648, 'alpha': 0.0007192680033049113, 'learning_rate': 0.09234277729305714, 'subsample_range': 0.8505885340360297, 'colsample_bytree': 0.3651164351577813, 'scale_pos_weight': 89, 'min_child_weight': 19, 'max_depth': 7, 'eta': 3.283203840845372e-05, 'gamma': 0.30882159278506494, 'grow_policy': 'lossguide'}. Best is trial 167 with value: 0.9969853285991828.\u001b[0m\n",
      "\u001b[32m[I 2022-01-30 10:12:42,764]\u001b[0m Trial 174 finished with value: 0.9946405841763248 and parameters: {'n_estimators': 250, 'booster': 'gbtree', 'lambda': 0.004038015441256019, 'alpha': 0.002057461864415038, 'learning_rate': 0.08428235506637172, 'subsample_range': 0.7721857367956186, 'colsample_bytree': 0.2674723650729707, 'scale_pos_weight': 92, 'min_child_weight': 18, 'max_depth': 7, 'eta': 5.897446477095266e-05, 'gamma': 0.22649892047131248, 'grow_policy': 'lossguide'}. Best is trial 167 with value: 0.9969853285991828.\u001b[0m\n",
      "\u001b[32m[I 2022-01-30 10:12:43,071]\u001b[0m Trial 175 finished with value: 0.9772077994183564 and parameters: {'n_estimators': 300, 'booster': 'gbtree', 'lambda': 0.002549051071381582, 'alpha': 0.0012087190462255542, 'learning_rate': 0.09097972611603922, 'subsample_range': 0.7914122804120145, 'colsample_bytree': 0.30098673514552526, 'scale_pos_weight': 44, 'min_child_weight': 18, 'max_depth': 7, 'eta': 4.3476715350322674e-05, 'gamma': 0.4336542687101141, 'grow_policy': 'lossguide'}. Best is trial 167 with value: 0.9969853285991828.\u001b[0m\n",
      "\u001b[32m[I 2022-01-30 10:12:43,440]\u001b[0m Trial 176 finished with value: 0.996650365110203 and parameters: {'n_estimators': 350, 'booster': 'gbtree', 'lambda': 0.001066414793268192, 'alpha': 0.0003541786429070007, 'learning_rate': 0.0957588134914923, 'subsample_range': 0.8408449289491163, 'colsample_bytree': 0.33242043318007625, 'scale_pos_weight': 80, 'min_child_weight': 20, 'max_depth': 7, 'eta': 1.927870331302409e-05, 'gamma': 0.08919020203204858, 'grow_policy': 'lossguide'}. Best is trial 167 with value: 0.9969853285991828.\u001b[0m\n",
      "\u001b[32m[I 2022-01-30 10:12:43,774]\u001b[0m Trial 177 finished with value: 0.9829356356222227 and parameters: {'n_estimators': 350, 'booster': 'gbtree', 'lambda': 0.00018709158522020432, 'alpha': 0.00035951058662017264, 'learning_rate': 0.09674446496739726, 'subsample_range': 0.8334092069222566, 'colsample_bytree': 0.3955321883786176, 'scale_pos_weight': 86, 'min_child_weight': 20, 'max_depth': 7, 'eta': 1.3193420079795736e-05, 'gamma': 0.1101148366179552, 'grow_policy': 'lossguide'}. Best is trial 167 with value: 0.9969853285991828.\u001b[0m\n",
      "\u001b[32m[I 2022-01-30 10:12:44,073]\u001b[0m Trial 178 finished with value: 0.9901025171817915 and parameters: {'n_estimators': 350, 'booster': 'gbtree', 'lambda': 0.0005033736533306207, 'alpha': 0.0005734906552211785, 'learning_rate': 0.0953892392953576, 'subsample_range': 0.8821686832281349, 'colsample_bytree': 0.34718204082220794, 'scale_pos_weight': 78, 'min_child_weight': 20, 'max_depth': 7, 'eta': 0.00010645213654724185, 'gamma': 0.15747175614326456, 'grow_policy': 'lossguide'}. Best is trial 167 with value: 0.9969853285991828.\u001b[0m\n",
      "\u001b[32m[I 2022-01-30 10:12:44,264]\u001b[0m Trial 179 finished with value: 0.9702740551964767 and parameters: {'n_estimators': 400, 'booster': 'gbtree', 'lambda': 0.0009591918271483709, 'alpha': 0.0001878899364716589, 'learning_rate': 0.09875273921211401, 'subsample_range': 0.8217352067956842, 'colsample_bytree': 0.32811829827298333, 'scale_pos_weight': 83, 'min_child_weight': 19, 'max_depth': 2, 'eta': 1.6274967920353443e-05, 'gamma': 0.046272888648313866, 'grow_policy': 'lossguide'}. Best is trial 167 with value: 0.9969853285991828.\u001b[0m\n",
      "\u001b[32m[I 2022-01-30 10:12:44,399]\u001b[0m Trial 180 finished with value: 0.908143834239876 and parameters: {'n_estimators': 350, 'booster': 'gblinear', 'lambda': 0.0014655875137666214, 'alpha': 0.00038724625762691877, 'learning_rate': 0.09989227575693468, 'subsample_range': 0.9641202676580648, 'colsample_bytree': 0.3694960448714996, 'scale_pos_weight': 85, 'min_child_weight': 20}. Best is trial 167 with value: 0.9969853285991828.\u001b[0m\n",
      "\u001b[32m[I 2022-01-30 10:12:44,697]\u001b[0m Trial 181 finished with value: 0.9952431997856089 and parameters: {'n_estimators': 300, 'booster': 'gbtree', 'lambda': 0.005490822085243332, 'alpha': 0.001772067691704357, 'learning_rate': 0.08708056284181391, 'subsample_range': 0.7316178929892124, 'colsample_bytree': 0.29015195380698683, 'scale_pos_weight': 93, 'min_child_weight': 16, 'max_depth': 7, 'eta': 6.611534882075351e-06, 'gamma': 0.30351797545199566, 'grow_policy': 'lossguide'}. Best is trial 167 with value: 0.9969853285991828.\u001b[0m\n",
      "\u001b[32m[I 2022-01-30 10:12:44,978]\u001b[0m Trial 182 finished with value: 0.9883272106901991 and parameters: {'n_estimators': 300, 'booster': 'gbtree', 'lambda': 0.007900514728289416, 'alpha': 0.001511752303381781, 'learning_rate': 0.08769671149772106, 'subsample_range': 0.7363345752888301, 'colsample_bytree': 0.31650714448798517, 'scale_pos_weight': 88, 'min_child_weight': 16, 'max_depth': 7, 'eta': 6.287701576912047e-06, 'gamma': 0.08013690842279332, 'grow_policy': 'lossguide'}. Best is trial 167 with value: 0.9969853285991828.\u001b[0m\n",
      "\u001b[32m[I 2022-01-30 10:12:45,593]\u001b[0m Trial 183 finished with value: 0.9883942033879951 and parameters: {'n_estimators': 300, 'booster': 'gbtree', 'lambda': 0.005743047565071488, 'alpha': 0.0006802170602787657, 'learning_rate': 0.08924325249226783, 'subsample_range': 0.7770197747530547, 'colsample_bytree': 0.29073873733309974, 'scale_pos_weight': 97, 'min_child_weight': 15, 'max_depth': 7, 'eta': 8.866294199074637e-06, 'gamma': 0.31130251387102614, 'grow_policy': 'lossguide'}. Best is trial 167 with value: 0.9969853285991828.\u001b[0m\n",
      "\u001b[32m[I 2022-01-30 10:12:45,933]\u001b[0m Trial 184 finished with value: 0.9887291668769748 and parameters: {'n_estimators': 350, 'booster': 'gbtree', 'lambda': 0.0003436247574506654, 'alpha': 0.0035241439496625287, 'learning_rate': 0.09047473670237852, 'subsample_range': 0.48475263822059556, 'colsample_bytree': 0.33809923540102604, 'scale_pos_weight': 80, 'min_child_weight': 16, 'max_depth': 7, 'eta': 4.4772349308119806e-06, 'gamma': 0.12923256792789284, 'grow_policy': 'lossguide'}. Best is trial 167 with value: 0.9969853285991828.\u001b[0m\n",
      "\u001b[32m[I 2022-01-30 10:12:46,205]\u001b[0m Trial 185 finished with value: 0.994272124338447 and parameters: {'n_estimators': 650, 'booster': 'gbtree', 'lambda': 0.0006672680663163956, 'alpha': 0.0011534150749061194, 'learning_rate': 0.08633802810694945, 'subsample_range': 0.5507261869991885, 'colsample_bytree': 0.2614521323308018, 'scale_pos_weight': 92, 'min_child_weight': 19, 'max_depth': 7, 'eta': 2.014656075565564e-05, 'gamma': 0.22539408059494573, 'grow_policy': 'lossguide'}. Best is trial 167 with value: 0.9969853285991828.\u001b[0m\n",
      "\u001b[32m[I 2022-01-30 10:12:46,482]\u001b[0m Trial 186 finished with value: 0.9952435184564882 and parameters: {'n_estimators': 250, 'booster': 'gbtree', 'lambda': 0.011409657384107855, 'alpha': 0.0004214657340779687, 'learning_rate': 0.09360790626219351, 'subsample_range': 0.8444686615460422, 'colsample_bytree': 0.32082917251538223, 'scale_pos_weight': 75, 'min_child_weight': 17, 'max_depth': 7, 'eta': 1.454093355117795e-05, 'gamma': 0.06612528172463954, 'grow_policy': 'lossguide'}. Best is trial 167 with value: 0.9969853285991828.\u001b[0m\n",
      "\u001b[32m[I 2022-01-30 10:12:46,739]\u001b[0m Trial 187 finished with value: 0.9956454746432638 and parameters: {'n_estimators': 250, 'booster': 'gbtree', 'lambda': 0.013938624538430658, 'alpha': 0.0002505304549026268, 'learning_rate': 0.09560343234442478, 'subsample_range': 0.7483592207944518, 'colsample_bytree': 0.3163521464834289, 'scale_pos_weight': 72, 'min_child_weight': 17, 'max_depth': 7, 'eta': 1.4178234570146947e-05, 'gamma': 0.06390333098257214, 'grow_policy': 'lossguide'}. Best is trial 167 with value: 0.9969853285991828.\u001b[0m\n",
      "\u001b[32m[I 2022-01-30 10:12:47,009]\u001b[0m Trial 188 finished with value: 0.9768393395804787 and parameters: {'n_estimators': 250, 'booster': 'gbtree', 'lambda': 0.012604169031301163, 'alpha': 0.00025408197998568827, 'learning_rate': 0.09464420387957902, 'subsample_range': 0.7488118678749986, 'colsample_bytree': 0.35071921009231805, 'scale_pos_weight': 77, 'min_child_weight': 17, 'max_depth': 7, 'eta': 1.5239245410230704e-05, 'gamma': 0.006874633784149924, 'grow_policy': 'lossguide'}. Best is trial 167 with value: 0.9969853285991828.\u001b[0m\n",
      "\u001b[32m[I 2022-01-30 10:12:47,302]\u001b[0m Trial 189 finished with value: 0.9760783830862888 and parameters: {'n_estimators': 250, 'booster': 'gbtree', 'lambda': 0.017294792521033348, 'alpha': 0.0004764482715214035, 'learning_rate': 0.09625264429244032, 'subsample_range': 0.8753369752006152, 'colsample_bytree': 0.3799834967170898, 'scale_pos_weight': 72, 'min_child_weight': 17, 'max_depth': 7, 'eta': 1.0914539897812454e-05, 'gamma': 0.057739282884782944, 'grow_policy': 'lossguide'}. Best is trial 167 with value: 0.9969853285991828.\u001b[0m\n",
      "\u001b[32m[I 2022-01-30 10:12:47,586]\u001b[0m Trial 190 finished with value: 0.9908648431360477 and parameters: {'n_estimators': 250, 'booster': 'gbtree', 'lambda': 0.003598558535850854, 'alpha': 0.0007834147415620101, 'learning_rate': 0.09265902418401303, 'subsample_range': 0.8524131506295642, 'colsample_bytree': 0.3205472798219582, 'scale_pos_weight': 75, 'min_child_weight': 18, 'max_depth': 8, 'eta': 6.108110957861866e-06, 'gamma': 0.01514210880485205, 'grow_policy': 'lossguide'}. Best is trial 167 with value: 0.9969853285991828.\u001b[0m\n",
      "\u001b[32m[I 2022-01-30 10:12:48,056]\u001b[0m Trial 191 finished with value: 0.9959469417833456 and parameters: {'n_estimators': 300, 'booster': 'gbtree', 'lambda': 0.008739022080303187, 'alpha': 0.0003761895306233647, 'learning_rate': 0.09442820387792653, 'subsample_range': 0.7260275539261534, 'colsample_bytree': 0.29891423508889664, 'scale_pos_weight': 94, 'min_child_weight': 18, 'max_depth': 7, 'eta': 2.5001697059367662e-05, 'gamma': 0.024378597794977853, 'grow_policy': 'lossguide'}. Best is trial 167 with value: 0.9969853285991828.\u001b[0m\n",
      "\u001b[32m[I 2022-01-30 10:12:48,324]\u001b[0m Trial 192 finished with value: 0.9945732279244272 and parameters: {'n_estimators': 250, 'booster': 'gbtree', 'lambda': 0.011984715110954308, 'alpha': 0.00013997321647026714, 'learning_rate': 0.09455487953446419, 'subsample_range': 0.7305042343756589, 'colsample_bytree': 0.303575739869722, 'scale_pos_weight': 75, 'min_child_weight': 18, 'max_depth': 7, 'eta': 3.2094648903431336e-05, 'gamma': 0.035629162508582106, 'grow_policy': 'lossguide'}. Best is trial 167 with value: 0.9969853285991828.\u001b[0m\n",
      "\u001b[32m[I 2022-01-30 10:12:48,623]\u001b[0m Trial 193 finished with value: 0.9817296862720956 and parameters: {'n_estimators': 300, 'booster': 'gbtree', 'lambda': 0.006536112354188424, 'alpha': 0.00022458000914231908, 'learning_rate': 0.09591221303284159, 'subsample_range': 0.8114800083174405, 'colsample_bytree': 0.3284603218388147, 'scale_pos_weight': 96, 'min_child_weight': 17, 'max_depth': 7, 'eta': 2.2658435007123444e-05, 'gamma': 0.09333758860680526, 'grow_policy': 'lossguide'}. Best is trial 167 with value: 0.9969853285991828.\u001b[0m\n",
      "\u001b[32m[I 2022-01-30 10:12:48,914]\u001b[0m Trial 194 finished with value: 0.9962481575773818 and parameters: {'n_estimators': 350, 'booster': 'gbtree', 'lambda': 0.029421183057539643, 'alpha': 0.0004595792858661237, 'learning_rate': 0.09104939421509653, 'subsample_range': 0.7676058825360086, 'colsample_bytree': 0.3510780478179368, 'scale_pos_weight': 91, 'min_child_weight': 18, 'max_depth': 7, 'eta': 1.3083291435580689e-05, 'gamma': 0.023938035492394424, 'grow_policy': 'lossguide'}. Best is trial 167 with value: 0.9969853285991828.\u001b[0m\n",
      "\u001b[32m[I 2022-01-30 10:12:49,199]\u001b[0m Trial 195 finished with value: 0.9584545016676866 and parameters: {'n_estimators': 350, 'booster': 'gbtree', 'lambda': 0.03474033077994719, 'alpha': 0.0005395737521072208, 'learning_rate': 0.09776682917985241, 'subsample_range': 0.7611347577820765, 'colsample_bytree': 0.35484382832219497, 'scale_pos_weight': 51, 'min_child_weight': 19, 'max_depth': 7, 'eta': 1.4925969658989096e-05, 'gamma': 0.02042714351184223, 'grow_policy': 'lossguide'}. Best is trial 167 with value: 0.9969853285991828.\u001b[0m\n",
      "\u001b[32m[I 2022-01-30 10:12:49,470]\u001b[0m Trial 196 finished with value: 0.978389786007366 and parameters: {'n_estimators': 400, 'booster': 'gbtree', 'lambda': 0.019683657859612715, 'alpha': 0.0003815969528423361, 'learning_rate': 0.09121445486022466, 'subsample_range': 0.720938805782644, 'colsample_bytree': 0.3408978951729936, 'scale_pos_weight': 69, 'min_child_weight': 18, 'max_depth': 7, 'eta': 9.335554780618083e-06, 'gamma': 0.025184187654965242, 'grow_policy': 'lossguide'}. Best is trial 167 with value: 0.9969853285991828.\u001b[0m\n",
      "\u001b[32m[I 2022-01-30 10:12:49,760]\u001b[0m Trial 197 finished with value: 0.9703249880009654 and parameters: {'n_estimators': 350, 'booster': 'gbtree', 'lambda': 0.010307678962633585, 'alpha': 0.0007931342408252163, 'learning_rate': 0.0932472744241227, 'subsample_range': 0.7795253792473098, 'colsample_bytree': 0.3944749641905743, 'scale_pos_weight': 81, 'min_child_weight': 19, 'max_depth': 7, 'eta': 2.597900221729724e-05, 'gamma': 0.07023427462275708, 'grow_policy': 'lossguide'}. Best is trial 167 with value: 0.9969853285991828.\u001b[0m\n",
      "\u001b[32m[I 2022-01-30 10:12:50,044]\u001b[0m Trial 198 finished with value: 0.9878164711676704 and parameters: {'n_estimators': 350, 'booster': 'gbtree', 'lambda': 0.029205722604681895, 'alpha': 0.000599610905505514, 'learning_rate': 0.08969785634591536, 'subsample_range': 0.7386660490909366, 'colsample_bytree': 0.3153440637843339, 'scale_pos_weight': 90, 'min_child_weight': 17, 'max_depth': 7, 'eta': 4.806011493449782e-05, 'gamma': 0.0443215767424167, 'grow_policy': 'lossguide'}. Best is trial 167 with value: 0.9969853285991828.\u001b[0m\n",
      "\u001b[32m[I 2022-01-30 10:12:50,345]\u001b[0m Trial 199 finished with value: 0.9889889219247386 and parameters: {'n_estimators': 300, 'booster': 'gbtree', 'lambda': 0.017706076392303184, 'alpha': 0.0011694366480173193, 'learning_rate': 0.09768935729611931, 'subsample_range': 0.7892299065767756, 'colsample_bytree': 0.3580850283599628, 'scale_pos_weight': 92, 'min_child_weight': 16, 'max_depth': 7, 'eta': 1.884365455775879e-05, 'gamma': 0.13313213131757867, 'grow_policy': 'lossguide'}. Best is trial 167 with value: 0.9969853285991828.\u001b[0m\n"
     ]
    },
    {
     "name": "stdout",
     "output_type": "stream",
     "text": [
      "FrozenTrial(number=167, values=[0.9969853285991828], datetime_start=datetime.datetime(2022, 1, 30, 10, 12, 40, 324170), datetime_complete=datetime.datetime(2022, 1, 30, 10, 12, 40, 671495), params={'n_estimators': 250, 'booster': 'gbtree', 'lambda': 0.0009745721327573024, 'alpha': 0.0016749872573526528, 'learning_rate': 0.09178156198940852, 'subsample_range': 0.8001922285527436, 'colsample_bytree': 0.35591681252120266, 'scale_pos_weight': 86, 'min_child_weight': 19, 'max_depth': 7, 'eta': 4.158137573492556e-05, 'gamma': 0.3574570458502379, 'grow_policy': 'lossguide'}, distributions={'n_estimators': IntUniformDistribution(high=1000, low=100, step=50), 'booster': CategoricalDistribution(choices=('gbtree', 'gblinear', 'dart')), 'lambda': LogUniformDistribution(high=1.0, low=1e-08), 'alpha': LogUniformDistribution(high=1.0, low=1e-08), 'learning_rate': UniformDistribution(high=0.1, low=0.001), 'subsample_range': UniformDistribution(high=0.99, low=0.001), 'colsample_bytree': UniformDistribution(high=0.99, low=0.001), 'scale_pos_weight': IntUniformDistribution(high=100, low=1, step=1), 'min_child_weight': IntUniformDistribution(high=20, low=1, step=1), 'max_depth': IntUniformDistribution(high=9, low=1, step=1), 'eta': LogUniformDistribution(high=1.0, low=1e-08), 'gamma': LogUniformDistribution(high=1.0, low=1e-08), 'grow_policy': CategoricalDistribution(choices=('depthwise', 'lossguide'))}, user_attrs={}, system_attrs={}, intermediate_values={}, trial_id=167, state=TrialState.COMPLETE, value=None)\n"
     ]
    }
   ],
   "source": [
    "study = optuna.create_study(direction=\"maximize\")\n",
    "study.optimize(objective, n_trials=200)\n",
    "print(study.best_trial)\n"
   ]
  },
  {
   "cell_type": "code",
   "execution_count": 23,
   "metadata": {},
   "outputs": [
    {
     "data": {
      "text/plain": [
       "{'n_estimators': 250,\n",
       " 'booster': 'gbtree',\n",
       " 'lambda': 0.0009745721327573024,\n",
       " 'alpha': 0.0016749872573526528,\n",
       " 'learning_rate': 0.09178156198940852,\n",
       " 'subsample_range': 0.8001922285527436,\n",
       " 'colsample_bytree': 0.35591681252120266,\n",
       " 'scale_pos_weight': 86,\n",
       " 'min_child_weight': 19,\n",
       " 'max_depth': 7,\n",
       " 'eta': 4.158137573492556e-05,\n",
       " 'gamma': 0.3574570458502379,\n",
       " 'grow_policy': 'lossguide'}"
      ]
     },
     "execution_count": 23,
     "metadata": {},
     "output_type": "execute_result"
    }
   ],
   "source": [
    "params = study.best_params\n",
    "params\n"
   ]
  },
  {
   "cell_type": "code",
   "execution_count": 24,
   "metadata": {},
   "outputs": [],
   "source": [
    "from xgboost import plot_importance\n"
   ]
  },
  {
   "cell_type": "code",
   "execution_count": 25,
   "metadata": {},
   "outputs": [
    {
     "name": "stderr",
     "output_type": "stream",
     "text": [
      "/Library/Frameworks/Python.framework/Versions/3.10/lib/python3.10/site-packages/xgboost/sklearn.py:892: UserWarning: The use of label encoder in XGBClassifier is deprecated and will be removed in a future release. To remove this warning, do the following: 1) Pass option use_label_encoder=False when constructing XGBClassifier object; and 2) Encode your labels (y) as integers starting with 0, i.e. 0, 1, 2, ..., [num_class - 1].\n",
      "  warnings.warn(label_encoder_deprecation_msg, UserWarning)\n"
     ]
    }
   ],
   "source": [
    "xgb_optuna = xgb.XGBClassifier(**params)\n",
    "xgb_importance = xgb_optuna.fit(X_train, y_train)\n"
   ]
  },
  {
   "cell_type": "code",
   "execution_count": 48,
   "metadata": {},
   "outputs": [],
   "source": [
    "kf= StratifiedKFold(8)\n",
    "lst_accu_stratified = []\n",
    "\n",
    "xgb_optuna = xgb.XGBClassifier( use_label_encoder=False)\n",
    "\n",
    "for train_index, test_index in kf.split(X,y):\n",
    "    X_train, X_test = X.iloc[train_index], X.iloc[test_index]\n",
    "    y_train, y_test = y.iloc[train_index], y.iloc[test_index]\n",
    "    xgb_optuna.fit(X_train, y_train)\n",
    "    preds = xgb_optuna.predict(X_test)\n",
    "    pred_labels = np.rint(preds)\n",
    "    auc = roc_auc_score(y_test, pred_labels)\n",
    "    lst_accu_stratified.append(auc)\n",
    "  \n"
   ]
  },
  {
   "cell_type": "code",
   "execution_count": 49,
   "metadata": {},
   "outputs": [
    {
     "name": "stdout",
     "output_type": "stream",
     "text": [
      "List of possible accuracy: [0.8748660235798499, 0.9583333333333333, 0.9728389786007365, 0.878244384006142, 0.9593924622733412, 0.9729059757868549, 0.9054054054054055, 0.9458789487598277]\n",
      "\n",
      "Maximum Accuracy That can be obtained from this model is: 97.29059757868549 %\n",
      "\n",
      "Minimum Accuracy: 87.48660235798499 %\n",
      "\n",
      "Overall Accuracy: 93.34831889681864 %\n",
      "\n",
      "Standard Deviation is: 0.03844016268619708\n"
     ]
    }
   ],
   "source": [
    "print('List of possible accuracy:', lst_accu_stratified)\n",
    "print('\\nMaximum Accuracy That can be obtained from this model is:',\n",
    "      max(lst_accu_stratified)*100, '%')\n",
    "print('\\nMinimum Accuracy:',\n",
    "      min(lst_accu_stratified)*100, '%')\n",
    "print('\\nOverall Accuracy:',\n",
    "      np.mean(lst_accu_stratified)*100, '%')\n",
    "print('\\nStandard Deviation is:', np.std(lst_accu_stratified))"
   ]
  },
  {
   "cell_type": "code",
   "execution_count": 27,
   "metadata": {},
   "outputs": [],
   "source": [
    "import plotly\n",
    "import cufflinks\n"
   ]
  },
  {
   "cell_type": "code",
   "execution_count": 28,
   "metadata": {},
   "outputs": [
    {
     "data": {
      "application/vnd.plotly.v1+json": {
       "config": {
        "plotlyServerURL": "https://plot.ly"
       },
       "data": [
        {
         "mode": "markers",
         "name": "Objective Value",
         "type": "scatter",
         "x": [
          0,
          1,
          2,
          3,
          4,
          5,
          6,
          7,
          8,
          9,
          10,
          11,
          12,
          13,
          14,
          15,
          16,
          17,
          18,
          19,
          20,
          21,
          22,
          23,
          24,
          25,
          26,
          27,
          28,
          29,
          30,
          31,
          32,
          33,
          34,
          35,
          36,
          37,
          38,
          39,
          40,
          41,
          42,
          43,
          44,
          45,
          46,
          47,
          48,
          49,
          50,
          51,
          52,
          53,
          54,
          55,
          56,
          57,
          58,
          59,
          60,
          61,
          62,
          63,
          64,
          65,
          66,
          67,
          68,
          69,
          70,
          71,
          72,
          73,
          74,
          75,
          76,
          77,
          78,
          79,
          80,
          81,
          82,
          83,
          84,
          85,
          86,
          87,
          88,
          89,
          90,
          91,
          92,
          93,
          94,
          95,
          96,
          97,
          98,
          99,
          100,
          101,
          102,
          103,
          104,
          105,
          106,
          107,
          108,
          109,
          110,
          111,
          112,
          113,
          114,
          115,
          116,
          117,
          118,
          119,
          120,
          121,
          122,
          123,
          124,
          125,
          126,
          127,
          128,
          129,
          130,
          131,
          132,
          133,
          134,
          135,
          136,
          137,
          138,
          139,
          140,
          141,
          142,
          143,
          144,
          145,
          146,
          147,
          148,
          149,
          150,
          151,
          152,
          153,
          154,
          155,
          156,
          157,
          158,
          159,
          160,
          161,
          162,
          163,
          164,
          165,
          166,
          167,
          168,
          169,
          170,
          171,
          172,
          173,
          174,
          175,
          176,
          177,
          178,
          179,
          180,
          181,
          182,
          183,
          184,
          185,
          186,
          187,
          188,
          189,
          190,
          191,
          192,
          193,
          194,
          195,
          196,
          197,
          198,
          199
         ],
         "y": [
          0.49996650140694093,
          0.8897380228949302,
          0.9769629270165247,
          0.8147160932061144,
          0.5,
          0.7386206478836272,
          0.8542711515677668,
          0.9851959903493808,
          0.9653452527966799,
          0.9188184231397416,
          0.8374693533141878,
          0.9823983569352583,
          0.9888449685113225,
          0.9451084811194687,
          0.9882419938362589,
          0.9883097742346084,
          0.9875393582099551,
          0.9703075515453746,
          0.9784618476586052,
          0.9840646287450522,
          0.9801875979079924,
          0.9837531823663407,
          0.9911234675420378,
          0.989884102632813,
          0.9898499263030952,
          0.8817179680839446,
          0.9582770496612115,
          0.9914243601768726,
          0.9888884261455614,
          0.6688546359405729,
          0.9906210223085683,
          0.969579656032825,
          0.9901185770750989,
          0.9647310977350044,
          0.952506306949529,
          0.5,
          0.9788316840587663,
          0.6405854467625873,
          0.9654010247129637,
          0.9848100940559122,
          0.9720920505122568,
          0.9890124614766179,
          0.9700821349287113,
          0.9881749966501406,
          0.8999786333298326,
          0.9611479696231137,
          0.9686851530614093,
          0.9942051316406512,
          0.9907389478108529,
          0.9708625616102503,
          0.9768488507266478,
          0.9949417124480772,
          0.9869790063411931,
          0.9684841615030548,
          0.9356764564717239,
          0.9821651679818637,
          0.931527970419837,
          0.9883524486566159,
          0.9722260448844932,
          0.9706851096037751,
          0.9561909053283056,
          0.9725853032704366,
          0.9935687010115897,
          0.9490401231197306,
          0.983822640044564,
          0.9719663090969659,
          0.9700250967837729,
          0.5337441301089962,
          0.9915254237288136,
          0.9884429853946135,
          0.9804060124569709,
          0.9912574529376298,
          0.9911563714323998,
          0.9852120502426879,
          0.971757064581666,
          0.9913579419843237,
          0.9921948278172317,
          0.9923293361023648,
          0.9865100260383658,
          0.9608899399198206,
          0.99323373752261,
          0.9928652776847324,
          0.9900515843773029,
          0.9917264018222014,
          0.991993836258877,
          0.9801715380146852,
          0.7316708437684403,
          0.9943391170362431,
          0.9806912298872636,
          0.9750064281083978,
          0.90002165791326,
          0.9723265406636704,
          0.9870125049342522,
          0.9920273348519363,
          0.9934347156159978,
          0.9943387377730135,
          0.9959131716467908,
          0.9881932252946073,
          0.9952435184564882,
          0.9958464527366517,
          0.9759108901209933,
          0.9955114892476721,
          0.9881179585052021,
          0.9847445596474137,
          0.9822818079952572,
          0.9950087096341953,
          0.9830857203688085,
          0.9066149762250526,
          0.9915428601844043,
          0.9826502678331349,
          0.9647422781216163,
          0.9947742194827817,
          0.994406109734039,
          0.9939706571983653,
          0.9886286778302809,
          0.9781788354078318,
          0.9900273783095704,
          0.9842085821584683,
          0.9772908520094598,
          0.9958126758676136,
          0.9896253951928613,
          0.9943056206873451,
          0.988419445842734,
          0.9750064281083978,
          0.9834046159250501,
          0.9757339600668458,
          0.9881932252946073,
          0.9207035885143313,
          0.9842580925802374,
          0.911760179045453,
          0.9869873567342804,
          0.9960809271789375,
          0.9610974321607163,
          0.9956451829023182,
          0.9718240617677841,
          0.981897179237391,
          0.9933337799812407,
          0.9751310257866823,
          0.9887544317733249,
          0.9949420513164065,
          0.9506626311978571,
          0.9931667448248142,
          0.9822991623541001,
          0.9881597289457092,
          0.9885199416219114,
          0.9947407208897227,
          0.9916259127755075,
          0.9887961595747706,
          0.994137746214659,
          0.9966166421010317,
          0.9892569106692113,
          0.9953771941578453,
          0.9757339600668458,
          0.9742936170642331,
          0.9957459636899577,
          0.9768153521335888,
          0.9813947003415047,
          0.9131173537700829,
          0.9767053541848869,
          0.9830187276710125,
          0.9714973602123944,
          0.9950757068203135,
          0.9739586535752534,
          0.9950760367119984,
          0.9748965513443966,
          0.9947742194827817,
          0.995477992898774,
          0.9969853285991828,
          0.9906303529846341,
          0.9911328318805205,
          0.9705594624432512,
          0.9820311736096273,
          0.9888214289594431,
          0.9823822970419511,
          0.9946405841763248,
          0.9772077994183564,
          0.996650365110203,
          0.9829356356222227,
          0.9901025171817915,
          0.9702740551964767,
          0.908143834239876,
          0.9952431997856089,
          0.9883272106901991,
          0.9883942033879951,
          0.9887291668769748,
          0.994272124338447,
          0.9952435184564882,
          0.9956454746432638,
          0.9768393395804787,
          0.9760783830862888,
          0.9908648431360477,
          0.9959469417833456,
          0.9945732279244272,
          0.9817296862720956,
          0.9962481575773818,
          0.9584545016676866,
          0.978389786007366,
          0.9703249880009654,
          0.9878164711676704,
          0.9889889219247386
         ]
        },
        {
         "name": "Best Value",
         "type": "scatter",
         "x": [
          0,
          1,
          2,
          3,
          4,
          5,
          6,
          7,
          8,
          9,
          10,
          11,
          12,
          13,
          14,
          15,
          16,
          17,
          18,
          19,
          20,
          21,
          22,
          23,
          24,
          25,
          26,
          27,
          28,
          29,
          30,
          31,
          32,
          33,
          34,
          35,
          36,
          37,
          38,
          39,
          40,
          41,
          42,
          43,
          44,
          45,
          46,
          47,
          48,
          49,
          50,
          51,
          52,
          53,
          54,
          55,
          56,
          57,
          58,
          59,
          60,
          61,
          62,
          63,
          64,
          65,
          66,
          67,
          68,
          69,
          70,
          71,
          72,
          73,
          74,
          75,
          76,
          77,
          78,
          79,
          80,
          81,
          82,
          83,
          84,
          85,
          86,
          87,
          88,
          89,
          90,
          91,
          92,
          93,
          94,
          95,
          96,
          97,
          98,
          99,
          100,
          101,
          102,
          103,
          104,
          105,
          106,
          107,
          108,
          109,
          110,
          111,
          112,
          113,
          114,
          115,
          116,
          117,
          118,
          119,
          120,
          121,
          122,
          123,
          124,
          125,
          126,
          127,
          128,
          129,
          130,
          131,
          132,
          133,
          134,
          135,
          136,
          137,
          138,
          139,
          140,
          141,
          142,
          143,
          144,
          145,
          146,
          147,
          148,
          149,
          150,
          151,
          152,
          153,
          154,
          155,
          156,
          157,
          158,
          159,
          160,
          161,
          162,
          163,
          164,
          165,
          166,
          167,
          168,
          169,
          170,
          171,
          172,
          173,
          174,
          175,
          176,
          177,
          178,
          179,
          180,
          181,
          182,
          183,
          184,
          185,
          186,
          187,
          188,
          189,
          190,
          191,
          192,
          193,
          194,
          195,
          196,
          197,
          198,
          199
         ],
         "y": [
          0.49996650140694093,
          0.8897380228949302,
          0.9769629270165247,
          0.9769629270165247,
          0.9769629270165247,
          0.9769629270165247,
          0.9769629270165247,
          0.9851959903493808,
          0.9851959903493808,
          0.9851959903493808,
          0.9851959903493808,
          0.9851959903493808,
          0.9888449685113225,
          0.9888449685113225,
          0.9888449685113225,
          0.9888449685113225,
          0.9888449685113225,
          0.9888449685113225,
          0.9888449685113225,
          0.9888449685113225,
          0.9888449685113225,
          0.9888449685113225,
          0.9911234675420378,
          0.9911234675420378,
          0.9911234675420378,
          0.9911234675420378,
          0.9911234675420378,
          0.9914243601768726,
          0.9914243601768726,
          0.9914243601768726,
          0.9914243601768726,
          0.9914243601768726,
          0.9914243601768726,
          0.9914243601768726,
          0.9914243601768726,
          0.9914243601768726,
          0.9914243601768726,
          0.9914243601768726,
          0.9914243601768726,
          0.9914243601768726,
          0.9914243601768726,
          0.9914243601768726,
          0.9914243601768726,
          0.9914243601768726,
          0.9914243601768726,
          0.9914243601768726,
          0.9914243601768726,
          0.9942051316406512,
          0.9942051316406512,
          0.9942051316406512,
          0.9942051316406512,
          0.9949417124480772,
          0.9949417124480772,
          0.9949417124480772,
          0.9949417124480772,
          0.9949417124480772,
          0.9949417124480772,
          0.9949417124480772,
          0.9949417124480772,
          0.9949417124480772,
          0.9949417124480772,
          0.9949417124480772,
          0.9949417124480772,
          0.9949417124480772,
          0.9949417124480772,
          0.9949417124480772,
          0.9949417124480772,
          0.9949417124480772,
          0.9949417124480772,
          0.9949417124480772,
          0.9949417124480772,
          0.9949417124480772,
          0.9949417124480772,
          0.9949417124480772,
          0.9949417124480772,
          0.9949417124480772,
          0.9949417124480772,
          0.9949417124480772,
          0.9949417124480772,
          0.9949417124480772,
          0.9949417124480772,
          0.9949417124480772,
          0.9949417124480772,
          0.9949417124480772,
          0.9949417124480772,
          0.9949417124480772,
          0.9949417124480772,
          0.9949417124480772,
          0.9949417124480772,
          0.9949417124480772,
          0.9949417124480772,
          0.9949417124480772,
          0.9949417124480772,
          0.9949417124480772,
          0.9949417124480772,
          0.9949417124480772,
          0.9959131716467908,
          0.9959131716467908,
          0.9959131716467908,
          0.9959131716467908,
          0.9959131716467908,
          0.9959131716467908,
          0.9959131716467908,
          0.9959131716467908,
          0.9959131716467908,
          0.9959131716467908,
          0.9959131716467908,
          0.9959131716467908,
          0.9959131716467908,
          0.9959131716467908,
          0.9959131716467908,
          0.9959131716467908,
          0.9959131716467908,
          0.9959131716467908,
          0.9959131716467908,
          0.9959131716467908,
          0.9959131716467908,
          0.9959131716467908,
          0.9959131716467908,
          0.9959131716467908,
          0.9959131716467908,
          0.9959131716467908,
          0.9959131716467908,
          0.9959131716467908,
          0.9959131716467908,
          0.9959131716467908,
          0.9959131716467908,
          0.9959131716467908,
          0.9959131716467908,
          0.9959131716467908,
          0.9959131716467908,
          0.9960809271789375,
          0.9960809271789375,
          0.9960809271789375,
          0.9960809271789375,
          0.9960809271789375,
          0.9960809271789375,
          0.9960809271789375,
          0.9960809271789375,
          0.9960809271789375,
          0.9960809271789375,
          0.9960809271789375,
          0.9960809271789375,
          0.9960809271789375,
          0.9960809271789375,
          0.9960809271789375,
          0.9960809271789375,
          0.9960809271789375,
          0.9960809271789375,
          0.9966166421010317,
          0.9966166421010317,
          0.9966166421010317,
          0.9966166421010317,
          0.9966166421010317,
          0.9966166421010317,
          0.9966166421010317,
          0.9966166421010317,
          0.9966166421010317,
          0.9966166421010317,
          0.9966166421010317,
          0.9966166421010317,
          0.9966166421010317,
          0.9966166421010317,
          0.9966166421010317,
          0.9966166421010317,
          0.9966166421010317,
          0.9966166421010317,
          0.9969853285991828,
          0.9969853285991828,
          0.9969853285991828,
          0.9969853285991828,
          0.9969853285991828,
          0.9969853285991828,
          0.9969853285991828,
          0.9969853285991828,
          0.9969853285991828,
          0.9969853285991828,
          0.9969853285991828,
          0.9969853285991828,
          0.9969853285991828,
          0.9969853285991828,
          0.9969853285991828,
          0.9969853285991828,
          0.9969853285991828,
          0.9969853285991828,
          0.9969853285991828,
          0.9969853285991828,
          0.9969853285991828,
          0.9969853285991828,
          0.9969853285991828,
          0.9969853285991828,
          0.9969853285991828,
          0.9969853285991828,
          0.9969853285991828,
          0.9969853285991828,
          0.9969853285991828,
          0.9969853285991828,
          0.9969853285991828,
          0.9969853285991828,
          0.9969853285991828
         ]
        }
       ],
       "layout": {
        "template": {
         "data": {
          "bar": [
           {
            "error_x": {
             "color": "#2a3f5f"
            },
            "error_y": {
             "color": "#2a3f5f"
            },
            "marker": {
             "line": {
              "color": "#E5ECF6",
              "width": 0.5
             },
             "pattern": {
              "fillmode": "overlay",
              "size": 10,
              "solidity": 0.2
             }
            },
            "type": "bar"
           }
          ],
          "barpolar": [
           {
            "marker": {
             "line": {
              "color": "#E5ECF6",
              "width": 0.5
             },
             "pattern": {
              "fillmode": "overlay",
              "size": 10,
              "solidity": 0.2
             }
            },
            "type": "barpolar"
           }
          ],
          "carpet": [
           {
            "aaxis": {
             "endlinecolor": "#2a3f5f",
             "gridcolor": "white",
             "linecolor": "white",
             "minorgridcolor": "white",
             "startlinecolor": "#2a3f5f"
            },
            "baxis": {
             "endlinecolor": "#2a3f5f",
             "gridcolor": "white",
             "linecolor": "white",
             "minorgridcolor": "white",
             "startlinecolor": "#2a3f5f"
            },
            "type": "carpet"
           }
          ],
          "choropleth": [
           {
            "colorbar": {
             "outlinewidth": 0,
             "ticks": ""
            },
            "type": "choropleth"
           }
          ],
          "contour": [
           {
            "colorbar": {
             "outlinewidth": 0,
             "ticks": ""
            },
            "colorscale": [
             [
              0,
              "#0d0887"
             ],
             [
              0.1111111111111111,
              "#46039f"
             ],
             [
              0.2222222222222222,
              "#7201a8"
             ],
             [
              0.3333333333333333,
              "#9c179e"
             ],
             [
              0.4444444444444444,
              "#bd3786"
             ],
             [
              0.5555555555555556,
              "#d8576b"
             ],
             [
              0.6666666666666666,
              "#ed7953"
             ],
             [
              0.7777777777777778,
              "#fb9f3a"
             ],
             [
              0.8888888888888888,
              "#fdca26"
             ],
             [
              1,
              "#f0f921"
             ]
            ],
            "type": "contour"
           }
          ],
          "contourcarpet": [
           {
            "colorbar": {
             "outlinewidth": 0,
             "ticks": ""
            },
            "type": "contourcarpet"
           }
          ],
          "heatmap": [
           {
            "colorbar": {
             "outlinewidth": 0,
             "ticks": ""
            },
            "colorscale": [
             [
              0,
              "#0d0887"
             ],
             [
              0.1111111111111111,
              "#46039f"
             ],
             [
              0.2222222222222222,
              "#7201a8"
             ],
             [
              0.3333333333333333,
              "#9c179e"
             ],
             [
              0.4444444444444444,
              "#bd3786"
             ],
             [
              0.5555555555555556,
              "#d8576b"
             ],
             [
              0.6666666666666666,
              "#ed7953"
             ],
             [
              0.7777777777777778,
              "#fb9f3a"
             ],
             [
              0.8888888888888888,
              "#fdca26"
             ],
             [
              1,
              "#f0f921"
             ]
            ],
            "type": "heatmap"
           }
          ],
          "heatmapgl": [
           {
            "colorbar": {
             "outlinewidth": 0,
             "ticks": ""
            },
            "colorscale": [
             [
              0,
              "#0d0887"
             ],
             [
              0.1111111111111111,
              "#46039f"
             ],
             [
              0.2222222222222222,
              "#7201a8"
             ],
             [
              0.3333333333333333,
              "#9c179e"
             ],
             [
              0.4444444444444444,
              "#bd3786"
             ],
             [
              0.5555555555555556,
              "#d8576b"
             ],
             [
              0.6666666666666666,
              "#ed7953"
             ],
             [
              0.7777777777777778,
              "#fb9f3a"
             ],
             [
              0.8888888888888888,
              "#fdca26"
             ],
             [
              1,
              "#f0f921"
             ]
            ],
            "type": "heatmapgl"
           }
          ],
          "histogram": [
           {
            "marker": {
             "pattern": {
              "fillmode": "overlay",
              "size": 10,
              "solidity": 0.2
             }
            },
            "type": "histogram"
           }
          ],
          "histogram2d": [
           {
            "colorbar": {
             "outlinewidth": 0,
             "ticks": ""
            },
            "colorscale": [
             [
              0,
              "#0d0887"
             ],
             [
              0.1111111111111111,
              "#46039f"
             ],
             [
              0.2222222222222222,
              "#7201a8"
             ],
             [
              0.3333333333333333,
              "#9c179e"
             ],
             [
              0.4444444444444444,
              "#bd3786"
             ],
             [
              0.5555555555555556,
              "#d8576b"
             ],
             [
              0.6666666666666666,
              "#ed7953"
             ],
             [
              0.7777777777777778,
              "#fb9f3a"
             ],
             [
              0.8888888888888888,
              "#fdca26"
             ],
             [
              1,
              "#f0f921"
             ]
            ],
            "type": "histogram2d"
           }
          ],
          "histogram2dcontour": [
           {
            "colorbar": {
             "outlinewidth": 0,
             "ticks": ""
            },
            "colorscale": [
             [
              0,
              "#0d0887"
             ],
             [
              0.1111111111111111,
              "#46039f"
             ],
             [
              0.2222222222222222,
              "#7201a8"
             ],
             [
              0.3333333333333333,
              "#9c179e"
             ],
             [
              0.4444444444444444,
              "#bd3786"
             ],
             [
              0.5555555555555556,
              "#d8576b"
             ],
             [
              0.6666666666666666,
              "#ed7953"
             ],
             [
              0.7777777777777778,
              "#fb9f3a"
             ],
             [
              0.8888888888888888,
              "#fdca26"
             ],
             [
              1,
              "#f0f921"
             ]
            ],
            "type": "histogram2dcontour"
           }
          ],
          "mesh3d": [
           {
            "colorbar": {
             "outlinewidth": 0,
             "ticks": ""
            },
            "type": "mesh3d"
           }
          ],
          "parcoords": [
           {
            "line": {
             "colorbar": {
              "outlinewidth": 0,
              "ticks": ""
             }
            },
            "type": "parcoords"
           }
          ],
          "pie": [
           {
            "automargin": true,
            "type": "pie"
           }
          ],
          "scatter": [
           {
            "marker": {
             "colorbar": {
              "outlinewidth": 0,
              "ticks": ""
             }
            },
            "type": "scatter"
           }
          ],
          "scatter3d": [
           {
            "line": {
             "colorbar": {
              "outlinewidth": 0,
              "ticks": ""
             }
            },
            "marker": {
             "colorbar": {
              "outlinewidth": 0,
              "ticks": ""
             }
            },
            "type": "scatter3d"
           }
          ],
          "scattercarpet": [
           {
            "marker": {
             "colorbar": {
              "outlinewidth": 0,
              "ticks": ""
             }
            },
            "type": "scattercarpet"
           }
          ],
          "scattergeo": [
           {
            "marker": {
             "colorbar": {
              "outlinewidth": 0,
              "ticks": ""
             }
            },
            "type": "scattergeo"
           }
          ],
          "scattergl": [
           {
            "marker": {
             "colorbar": {
              "outlinewidth": 0,
              "ticks": ""
             }
            },
            "type": "scattergl"
           }
          ],
          "scattermapbox": [
           {
            "marker": {
             "colorbar": {
              "outlinewidth": 0,
              "ticks": ""
             }
            },
            "type": "scattermapbox"
           }
          ],
          "scatterpolar": [
           {
            "marker": {
             "colorbar": {
              "outlinewidth": 0,
              "ticks": ""
             }
            },
            "type": "scatterpolar"
           }
          ],
          "scatterpolargl": [
           {
            "marker": {
             "colorbar": {
              "outlinewidth": 0,
              "ticks": ""
             }
            },
            "type": "scatterpolargl"
           }
          ],
          "scatterternary": [
           {
            "marker": {
             "colorbar": {
              "outlinewidth": 0,
              "ticks": ""
             }
            },
            "type": "scatterternary"
           }
          ],
          "surface": [
           {
            "colorbar": {
             "outlinewidth": 0,
             "ticks": ""
            },
            "colorscale": [
             [
              0,
              "#0d0887"
             ],
             [
              0.1111111111111111,
              "#46039f"
             ],
             [
              0.2222222222222222,
              "#7201a8"
             ],
             [
              0.3333333333333333,
              "#9c179e"
             ],
             [
              0.4444444444444444,
              "#bd3786"
             ],
             [
              0.5555555555555556,
              "#d8576b"
             ],
             [
              0.6666666666666666,
              "#ed7953"
             ],
             [
              0.7777777777777778,
              "#fb9f3a"
             ],
             [
              0.8888888888888888,
              "#fdca26"
             ],
             [
              1,
              "#f0f921"
             ]
            ],
            "type": "surface"
           }
          ],
          "table": [
           {
            "cells": {
             "fill": {
              "color": "#EBF0F8"
             },
             "line": {
              "color": "white"
             }
            },
            "header": {
             "fill": {
              "color": "#C8D4E3"
             },
             "line": {
              "color": "white"
             }
            },
            "type": "table"
           }
          ]
         },
         "layout": {
          "annotationdefaults": {
           "arrowcolor": "#2a3f5f",
           "arrowhead": 0,
           "arrowwidth": 1
          },
          "autotypenumbers": "strict",
          "coloraxis": {
           "colorbar": {
            "outlinewidth": 0,
            "ticks": ""
           }
          },
          "colorscale": {
           "diverging": [
            [
             0,
             "#8e0152"
            ],
            [
             0.1,
             "#c51b7d"
            ],
            [
             0.2,
             "#de77ae"
            ],
            [
             0.3,
             "#f1b6da"
            ],
            [
             0.4,
             "#fde0ef"
            ],
            [
             0.5,
             "#f7f7f7"
            ],
            [
             0.6,
             "#e6f5d0"
            ],
            [
             0.7,
             "#b8e186"
            ],
            [
             0.8,
             "#7fbc41"
            ],
            [
             0.9,
             "#4d9221"
            ],
            [
             1,
             "#276419"
            ]
           ],
           "sequential": [
            [
             0,
             "#0d0887"
            ],
            [
             0.1111111111111111,
             "#46039f"
            ],
            [
             0.2222222222222222,
             "#7201a8"
            ],
            [
             0.3333333333333333,
             "#9c179e"
            ],
            [
             0.4444444444444444,
             "#bd3786"
            ],
            [
             0.5555555555555556,
             "#d8576b"
            ],
            [
             0.6666666666666666,
             "#ed7953"
            ],
            [
             0.7777777777777778,
             "#fb9f3a"
            ],
            [
             0.8888888888888888,
             "#fdca26"
            ],
            [
             1,
             "#f0f921"
            ]
           ],
           "sequentialminus": [
            [
             0,
             "#0d0887"
            ],
            [
             0.1111111111111111,
             "#46039f"
            ],
            [
             0.2222222222222222,
             "#7201a8"
            ],
            [
             0.3333333333333333,
             "#9c179e"
            ],
            [
             0.4444444444444444,
             "#bd3786"
            ],
            [
             0.5555555555555556,
             "#d8576b"
            ],
            [
             0.6666666666666666,
             "#ed7953"
            ],
            [
             0.7777777777777778,
             "#fb9f3a"
            ],
            [
             0.8888888888888888,
             "#fdca26"
            ],
            [
             1,
             "#f0f921"
            ]
           ]
          },
          "colorway": [
           "#636efa",
           "#EF553B",
           "#00cc96",
           "#ab63fa",
           "#FFA15A",
           "#19d3f3",
           "#FF6692",
           "#B6E880",
           "#FF97FF",
           "#FECB52"
          ],
          "font": {
           "color": "#2a3f5f"
          },
          "geo": {
           "bgcolor": "white",
           "lakecolor": "white",
           "landcolor": "#E5ECF6",
           "showlakes": true,
           "showland": true,
           "subunitcolor": "white"
          },
          "hoverlabel": {
           "align": "left"
          },
          "hovermode": "closest",
          "mapbox": {
           "style": "light"
          },
          "paper_bgcolor": "white",
          "plot_bgcolor": "#E5ECF6",
          "polar": {
           "angularaxis": {
            "gridcolor": "white",
            "linecolor": "white",
            "ticks": ""
           },
           "bgcolor": "#E5ECF6",
           "radialaxis": {
            "gridcolor": "white",
            "linecolor": "white",
            "ticks": ""
           }
          },
          "scene": {
           "xaxis": {
            "backgroundcolor": "#E5ECF6",
            "gridcolor": "white",
            "gridwidth": 2,
            "linecolor": "white",
            "showbackground": true,
            "ticks": "",
            "zerolinecolor": "white"
           },
           "yaxis": {
            "backgroundcolor": "#E5ECF6",
            "gridcolor": "white",
            "gridwidth": 2,
            "linecolor": "white",
            "showbackground": true,
            "ticks": "",
            "zerolinecolor": "white"
           },
           "zaxis": {
            "backgroundcolor": "#E5ECF6",
            "gridcolor": "white",
            "gridwidth": 2,
            "linecolor": "white",
            "showbackground": true,
            "ticks": "",
            "zerolinecolor": "white"
           }
          },
          "shapedefaults": {
           "line": {
            "color": "#2a3f5f"
           }
          },
          "ternary": {
           "aaxis": {
            "gridcolor": "white",
            "linecolor": "white",
            "ticks": ""
           },
           "baxis": {
            "gridcolor": "white",
            "linecolor": "white",
            "ticks": ""
           },
           "bgcolor": "#E5ECF6",
           "caxis": {
            "gridcolor": "white",
            "linecolor": "white",
            "ticks": ""
           }
          },
          "title": {
           "x": 0.05
          },
          "xaxis": {
           "automargin": true,
           "gridcolor": "white",
           "linecolor": "white",
           "ticks": "",
           "title": {
            "standoff": 15
           },
           "zerolinecolor": "white",
           "zerolinewidth": 2
          },
          "yaxis": {
           "automargin": true,
           "gridcolor": "white",
           "linecolor": "white",
           "ticks": "",
           "title": {
            "standoff": 15
           },
           "zerolinecolor": "white",
           "zerolinewidth": 2
          }
         }
        },
        "title": {
         "text": "Optimization History Plot"
        },
        "xaxis": {
         "title": {
          "text": "#Trials"
         }
        },
        "yaxis": {
         "title": {
          "text": "Objective Value"
         }
        }
       }
      }
     },
     "metadata": {},
     "output_type": "display_data"
    }
   ],
   "source": [
    "fig = optuna.visualization.plot_optimization_history(study)\n",
    "fig.show()\n"
   ]
  },
  {
   "cell_type": "code",
   "execution_count": 29,
   "metadata": {},
   "outputs": [
    {
     "data": {
      "application/vnd.plotly.v1+json": {
       "config": {
        "plotlyServerURL": "https://plot.ly"
       },
       "data": [
        {
         "cliponaxis": false,
         "hovertemplate": [
          "lambda (LogUniformDistribution): 0.00045926882183034773<extra></extra>",
          "n_estimators (IntUniformDistribution): 0.0018544364496678395<extra></extra>",
          "alpha (LogUniformDistribution): 0.0034391127213557566<extra></extra>",
          "min_child_weight (IntUniformDistribution): 0.009085584064134497<extra></extra>",
          "subsample_range (UniformDistribution): 0.026152872310114553<extra></extra>",
          "scale_pos_weight (IntUniformDistribution): 0.04424713216252803<extra></extra>",
          "colsample_bytree (UniformDistribution): 0.05704232044449002<extra></extra>",
          "learning_rate (UniformDistribution): 0.07434495665637812<extra></extra>",
          "booster (CategoricalDistribution): 0.7833743163695007<extra></extra>"
         ],
         "marker": {
          "color": "rgb(66,146,198)"
         },
         "orientation": "h",
         "text": [
          "0.00045926882183034773",
          "0.0018544364496678395",
          "0.0034391127213557566",
          "0.009085584064134497",
          "0.026152872310114553",
          "0.04424713216252803",
          "0.05704232044449002",
          "0.07434495665637812",
          "0.7833743163695007"
         ],
         "textposition": "outside",
         "texttemplate": "%{text:.2f}",
         "type": "bar",
         "x": [
          0.00045926882183034773,
          0.0018544364496678395,
          0.0034391127213557566,
          0.009085584064134497,
          0.026152872310114553,
          0.04424713216252803,
          0.05704232044449002,
          0.07434495665637812,
          0.7833743163695007
         ],
         "y": [
          "lambda",
          "n_estimators",
          "alpha",
          "min_child_weight",
          "subsample_range",
          "scale_pos_weight",
          "colsample_bytree",
          "learning_rate",
          "booster"
         ]
        }
       ],
       "layout": {
        "showlegend": false,
        "template": {
         "data": {
          "bar": [
           {
            "error_x": {
             "color": "#2a3f5f"
            },
            "error_y": {
             "color": "#2a3f5f"
            },
            "marker": {
             "line": {
              "color": "#E5ECF6",
              "width": 0.5
             },
             "pattern": {
              "fillmode": "overlay",
              "size": 10,
              "solidity": 0.2
             }
            },
            "type": "bar"
           }
          ],
          "barpolar": [
           {
            "marker": {
             "line": {
              "color": "#E5ECF6",
              "width": 0.5
             },
             "pattern": {
              "fillmode": "overlay",
              "size": 10,
              "solidity": 0.2
             }
            },
            "type": "barpolar"
           }
          ],
          "carpet": [
           {
            "aaxis": {
             "endlinecolor": "#2a3f5f",
             "gridcolor": "white",
             "linecolor": "white",
             "minorgridcolor": "white",
             "startlinecolor": "#2a3f5f"
            },
            "baxis": {
             "endlinecolor": "#2a3f5f",
             "gridcolor": "white",
             "linecolor": "white",
             "minorgridcolor": "white",
             "startlinecolor": "#2a3f5f"
            },
            "type": "carpet"
           }
          ],
          "choropleth": [
           {
            "colorbar": {
             "outlinewidth": 0,
             "ticks": ""
            },
            "type": "choropleth"
           }
          ],
          "contour": [
           {
            "colorbar": {
             "outlinewidth": 0,
             "ticks": ""
            },
            "colorscale": [
             [
              0,
              "#0d0887"
             ],
             [
              0.1111111111111111,
              "#46039f"
             ],
             [
              0.2222222222222222,
              "#7201a8"
             ],
             [
              0.3333333333333333,
              "#9c179e"
             ],
             [
              0.4444444444444444,
              "#bd3786"
             ],
             [
              0.5555555555555556,
              "#d8576b"
             ],
             [
              0.6666666666666666,
              "#ed7953"
             ],
             [
              0.7777777777777778,
              "#fb9f3a"
             ],
             [
              0.8888888888888888,
              "#fdca26"
             ],
             [
              1,
              "#f0f921"
             ]
            ],
            "type": "contour"
           }
          ],
          "contourcarpet": [
           {
            "colorbar": {
             "outlinewidth": 0,
             "ticks": ""
            },
            "type": "contourcarpet"
           }
          ],
          "heatmap": [
           {
            "colorbar": {
             "outlinewidth": 0,
             "ticks": ""
            },
            "colorscale": [
             [
              0,
              "#0d0887"
             ],
             [
              0.1111111111111111,
              "#46039f"
             ],
             [
              0.2222222222222222,
              "#7201a8"
             ],
             [
              0.3333333333333333,
              "#9c179e"
             ],
             [
              0.4444444444444444,
              "#bd3786"
             ],
             [
              0.5555555555555556,
              "#d8576b"
             ],
             [
              0.6666666666666666,
              "#ed7953"
             ],
             [
              0.7777777777777778,
              "#fb9f3a"
             ],
             [
              0.8888888888888888,
              "#fdca26"
             ],
             [
              1,
              "#f0f921"
             ]
            ],
            "type": "heatmap"
           }
          ],
          "heatmapgl": [
           {
            "colorbar": {
             "outlinewidth": 0,
             "ticks": ""
            },
            "colorscale": [
             [
              0,
              "#0d0887"
             ],
             [
              0.1111111111111111,
              "#46039f"
             ],
             [
              0.2222222222222222,
              "#7201a8"
             ],
             [
              0.3333333333333333,
              "#9c179e"
             ],
             [
              0.4444444444444444,
              "#bd3786"
             ],
             [
              0.5555555555555556,
              "#d8576b"
             ],
             [
              0.6666666666666666,
              "#ed7953"
             ],
             [
              0.7777777777777778,
              "#fb9f3a"
             ],
             [
              0.8888888888888888,
              "#fdca26"
             ],
             [
              1,
              "#f0f921"
             ]
            ],
            "type": "heatmapgl"
           }
          ],
          "histogram": [
           {
            "marker": {
             "pattern": {
              "fillmode": "overlay",
              "size": 10,
              "solidity": 0.2
             }
            },
            "type": "histogram"
           }
          ],
          "histogram2d": [
           {
            "colorbar": {
             "outlinewidth": 0,
             "ticks": ""
            },
            "colorscale": [
             [
              0,
              "#0d0887"
             ],
             [
              0.1111111111111111,
              "#46039f"
             ],
             [
              0.2222222222222222,
              "#7201a8"
             ],
             [
              0.3333333333333333,
              "#9c179e"
             ],
             [
              0.4444444444444444,
              "#bd3786"
             ],
             [
              0.5555555555555556,
              "#d8576b"
             ],
             [
              0.6666666666666666,
              "#ed7953"
             ],
             [
              0.7777777777777778,
              "#fb9f3a"
             ],
             [
              0.8888888888888888,
              "#fdca26"
             ],
             [
              1,
              "#f0f921"
             ]
            ],
            "type": "histogram2d"
           }
          ],
          "histogram2dcontour": [
           {
            "colorbar": {
             "outlinewidth": 0,
             "ticks": ""
            },
            "colorscale": [
             [
              0,
              "#0d0887"
             ],
             [
              0.1111111111111111,
              "#46039f"
             ],
             [
              0.2222222222222222,
              "#7201a8"
             ],
             [
              0.3333333333333333,
              "#9c179e"
             ],
             [
              0.4444444444444444,
              "#bd3786"
             ],
             [
              0.5555555555555556,
              "#d8576b"
             ],
             [
              0.6666666666666666,
              "#ed7953"
             ],
             [
              0.7777777777777778,
              "#fb9f3a"
             ],
             [
              0.8888888888888888,
              "#fdca26"
             ],
             [
              1,
              "#f0f921"
             ]
            ],
            "type": "histogram2dcontour"
           }
          ],
          "mesh3d": [
           {
            "colorbar": {
             "outlinewidth": 0,
             "ticks": ""
            },
            "type": "mesh3d"
           }
          ],
          "parcoords": [
           {
            "line": {
             "colorbar": {
              "outlinewidth": 0,
              "ticks": ""
             }
            },
            "type": "parcoords"
           }
          ],
          "pie": [
           {
            "automargin": true,
            "type": "pie"
           }
          ],
          "scatter": [
           {
            "marker": {
             "colorbar": {
              "outlinewidth": 0,
              "ticks": ""
             }
            },
            "type": "scatter"
           }
          ],
          "scatter3d": [
           {
            "line": {
             "colorbar": {
              "outlinewidth": 0,
              "ticks": ""
             }
            },
            "marker": {
             "colorbar": {
              "outlinewidth": 0,
              "ticks": ""
             }
            },
            "type": "scatter3d"
           }
          ],
          "scattercarpet": [
           {
            "marker": {
             "colorbar": {
              "outlinewidth": 0,
              "ticks": ""
             }
            },
            "type": "scattercarpet"
           }
          ],
          "scattergeo": [
           {
            "marker": {
             "colorbar": {
              "outlinewidth": 0,
              "ticks": ""
             }
            },
            "type": "scattergeo"
           }
          ],
          "scattergl": [
           {
            "marker": {
             "colorbar": {
              "outlinewidth": 0,
              "ticks": ""
             }
            },
            "type": "scattergl"
           }
          ],
          "scattermapbox": [
           {
            "marker": {
             "colorbar": {
              "outlinewidth": 0,
              "ticks": ""
             }
            },
            "type": "scattermapbox"
           }
          ],
          "scatterpolar": [
           {
            "marker": {
             "colorbar": {
              "outlinewidth": 0,
              "ticks": ""
             }
            },
            "type": "scatterpolar"
           }
          ],
          "scatterpolargl": [
           {
            "marker": {
             "colorbar": {
              "outlinewidth": 0,
              "ticks": ""
             }
            },
            "type": "scatterpolargl"
           }
          ],
          "scatterternary": [
           {
            "marker": {
             "colorbar": {
              "outlinewidth": 0,
              "ticks": ""
             }
            },
            "type": "scatterternary"
           }
          ],
          "surface": [
           {
            "colorbar": {
             "outlinewidth": 0,
             "ticks": ""
            },
            "colorscale": [
             [
              0,
              "#0d0887"
             ],
             [
              0.1111111111111111,
              "#46039f"
             ],
             [
              0.2222222222222222,
              "#7201a8"
             ],
             [
              0.3333333333333333,
              "#9c179e"
             ],
             [
              0.4444444444444444,
              "#bd3786"
             ],
             [
              0.5555555555555556,
              "#d8576b"
             ],
             [
              0.6666666666666666,
              "#ed7953"
             ],
             [
              0.7777777777777778,
              "#fb9f3a"
             ],
             [
              0.8888888888888888,
              "#fdca26"
             ],
             [
              1,
              "#f0f921"
             ]
            ],
            "type": "surface"
           }
          ],
          "table": [
           {
            "cells": {
             "fill": {
              "color": "#EBF0F8"
             },
             "line": {
              "color": "white"
             }
            },
            "header": {
             "fill": {
              "color": "#C8D4E3"
             },
             "line": {
              "color": "white"
             }
            },
            "type": "table"
           }
          ]
         },
         "layout": {
          "annotationdefaults": {
           "arrowcolor": "#2a3f5f",
           "arrowhead": 0,
           "arrowwidth": 1
          },
          "autotypenumbers": "strict",
          "coloraxis": {
           "colorbar": {
            "outlinewidth": 0,
            "ticks": ""
           }
          },
          "colorscale": {
           "diverging": [
            [
             0,
             "#8e0152"
            ],
            [
             0.1,
             "#c51b7d"
            ],
            [
             0.2,
             "#de77ae"
            ],
            [
             0.3,
             "#f1b6da"
            ],
            [
             0.4,
             "#fde0ef"
            ],
            [
             0.5,
             "#f7f7f7"
            ],
            [
             0.6,
             "#e6f5d0"
            ],
            [
             0.7,
             "#b8e186"
            ],
            [
             0.8,
             "#7fbc41"
            ],
            [
             0.9,
             "#4d9221"
            ],
            [
             1,
             "#276419"
            ]
           ],
           "sequential": [
            [
             0,
             "#0d0887"
            ],
            [
             0.1111111111111111,
             "#46039f"
            ],
            [
             0.2222222222222222,
             "#7201a8"
            ],
            [
             0.3333333333333333,
             "#9c179e"
            ],
            [
             0.4444444444444444,
             "#bd3786"
            ],
            [
             0.5555555555555556,
             "#d8576b"
            ],
            [
             0.6666666666666666,
             "#ed7953"
            ],
            [
             0.7777777777777778,
             "#fb9f3a"
            ],
            [
             0.8888888888888888,
             "#fdca26"
            ],
            [
             1,
             "#f0f921"
            ]
           ],
           "sequentialminus": [
            [
             0,
             "#0d0887"
            ],
            [
             0.1111111111111111,
             "#46039f"
            ],
            [
             0.2222222222222222,
             "#7201a8"
            ],
            [
             0.3333333333333333,
             "#9c179e"
            ],
            [
             0.4444444444444444,
             "#bd3786"
            ],
            [
             0.5555555555555556,
             "#d8576b"
            ],
            [
             0.6666666666666666,
             "#ed7953"
            ],
            [
             0.7777777777777778,
             "#fb9f3a"
            ],
            [
             0.8888888888888888,
             "#fdca26"
            ],
            [
             1,
             "#f0f921"
            ]
           ]
          },
          "colorway": [
           "#636efa",
           "#EF553B",
           "#00cc96",
           "#ab63fa",
           "#FFA15A",
           "#19d3f3",
           "#FF6692",
           "#B6E880",
           "#FF97FF",
           "#FECB52"
          ],
          "font": {
           "color": "#2a3f5f"
          },
          "geo": {
           "bgcolor": "white",
           "lakecolor": "white",
           "landcolor": "#E5ECF6",
           "showlakes": true,
           "showland": true,
           "subunitcolor": "white"
          },
          "hoverlabel": {
           "align": "left"
          },
          "hovermode": "closest",
          "mapbox": {
           "style": "light"
          },
          "paper_bgcolor": "white",
          "plot_bgcolor": "#E5ECF6",
          "polar": {
           "angularaxis": {
            "gridcolor": "white",
            "linecolor": "white",
            "ticks": ""
           },
           "bgcolor": "#E5ECF6",
           "radialaxis": {
            "gridcolor": "white",
            "linecolor": "white",
            "ticks": ""
           }
          },
          "scene": {
           "xaxis": {
            "backgroundcolor": "#E5ECF6",
            "gridcolor": "white",
            "gridwidth": 2,
            "linecolor": "white",
            "showbackground": true,
            "ticks": "",
            "zerolinecolor": "white"
           },
           "yaxis": {
            "backgroundcolor": "#E5ECF6",
            "gridcolor": "white",
            "gridwidth": 2,
            "linecolor": "white",
            "showbackground": true,
            "ticks": "",
            "zerolinecolor": "white"
           },
           "zaxis": {
            "backgroundcolor": "#E5ECF6",
            "gridcolor": "white",
            "gridwidth": 2,
            "linecolor": "white",
            "showbackground": true,
            "ticks": "",
            "zerolinecolor": "white"
           }
          },
          "shapedefaults": {
           "line": {
            "color": "#2a3f5f"
           }
          },
          "ternary": {
           "aaxis": {
            "gridcolor": "white",
            "linecolor": "white",
            "ticks": ""
           },
           "baxis": {
            "gridcolor": "white",
            "linecolor": "white",
            "ticks": ""
           },
           "bgcolor": "#E5ECF6",
           "caxis": {
            "gridcolor": "white",
            "linecolor": "white",
            "ticks": ""
           }
          },
          "title": {
           "x": 0.05
          },
          "xaxis": {
           "automargin": true,
           "gridcolor": "white",
           "linecolor": "white",
           "ticks": "",
           "title": {
            "standoff": 15
           },
           "zerolinecolor": "white",
           "zerolinewidth": 2
          },
          "yaxis": {
           "automargin": true,
           "gridcolor": "white",
           "linecolor": "white",
           "ticks": "",
           "title": {
            "standoff": 15
           },
           "zerolinecolor": "white",
           "zerolinewidth": 2
          }
         }
        },
        "title": {
         "text": "Hyperparameter Importances"
        },
        "xaxis": {
         "title": {
          "text": "Importance for Objective Value"
         }
        },
        "yaxis": {
         "title": {
          "text": "Hyperparameter"
         }
        }
       }
      }
     },
     "metadata": {},
     "output_type": "display_data"
    }
   ],
   "source": [
    "fig = optuna.visualization.plot_param_importances(study)\n",
    "fig.show();"
   ]
  },
  {
   "cell_type": "code",
   "execution_count": 30,
   "metadata": {},
   "outputs": [
    {
     "data": {
      "application/vnd.plotly.v1+json": {
       "config": {
        "plotlyServerURL": "https://plot.ly"
       },
       "data": [
        {
         "mode": "lines",
         "name": "no-name-1efd227f-48f5-40ec-9780-c8dac89ba4d9",
         "type": "scatter",
         "x": [
          0.49996650140694093,
          0.504986893600802,
          0.510007285794663,
          0.515027677988524,
          0.5200480701823851,
          0.525068462376246,
          0.5300888545701071,
          0.5351092467639681,
          0.5401296389578292,
          0.5451500311516901,
          0.5501704233455512,
          0.5551908155394123,
          0.5602112077332733,
          0.5652315999271343,
          0.5702519921209953,
          0.5752723843148564,
          0.5802927765087174,
          0.5853131687025784,
          0.5903335608964394,
          0.5953539530903005,
          0.6003743452841614,
          0.6053947374780225,
          0.6104151296718836,
          0.6154355218657446,
          0.6204559140596057,
          0.6254763062534666,
          0.6304966984473277,
          0.6355170906411887,
          0.6405374828350497,
          0.6455578750289107,
          0.6505782672227718,
          0.6555986594166328,
          0.6606190516104938,
          0.6656394438043549,
          0.6706598359982159,
          0.675680228192077,
          0.6807006203859379,
          0.685721012579799,
          0.69074140477366,
          0.695761796967521,
          0.7007821891613821,
          0.7058025813552431,
          0.7108229735491041,
          0.7158433657429651,
          0.7208637579368262,
          0.7258841501306872,
          0.7309045423245483,
          0.7359249345184092,
          0.7409453267122703,
          0.7459657189061313,
          0.7509861110999924,
          0.7560065032938534,
          0.7610268954877144,
          0.7660472876815754,
          0.7710676798754365,
          0.7760880720692975,
          0.7811084642631585,
          0.7861288564570195,
          0.7911492486508805,
          0.7961696408447416,
          0.8011900330386026,
          0.8062104252324637,
          0.8112308174263247,
          0.8162512096201857,
          0.8212716018140467,
          0.8262919940079078,
          0.8313123862017688,
          0.8363327783956298,
          0.8413531705894908,
          0.8463735627833519,
          0.8513939549772129,
          0.8564143471710739,
          0.861434739364935,
          0.866455131558796,
          0.871475523752657,
          0.876495915946518,
          0.8815163081403791,
          0.8865367003342401,
          0.8915570925281011,
          0.8965774847219621,
          0.9015978769158233,
          0.9066182691096842,
          0.9116386613035452,
          0.9166590534974063,
          0.9216794456912674,
          0.9266998378851283,
          0.9317202300789893,
          0.9367406222728504,
          0.9417610144667115,
          0.9467814066605724,
          0.9518017988544334,
          0.9568221910482946,
          0.9618425832421555,
          0.9668629754360165,
          0.9718833676298776,
          0.9769037598237387,
          0.9819241520175996,
          0.9869445442114606,
          0.9919649364053217,
          0.9969853285991828
         ],
         "y": [
          0.005,
          0.015,
          0.015,
          0.015,
          0.015,
          0.015,
          0.015,
          0.02,
          0.02,
          0.02,
          0.02,
          0.02,
          0.02,
          0.02,
          0.02,
          0.02,
          0.02,
          0.02,
          0.02,
          0.02,
          0.02,
          0.02,
          0.02,
          0.02,
          0.02,
          0.02,
          0.02,
          0.02,
          0.02,
          0.025,
          0.025,
          0.025,
          0.025,
          0.025,
          0.03,
          0.03,
          0.03,
          0.03,
          0.03,
          0.03,
          0.03,
          0.03,
          0.03,
          0.03,
          0.03,
          0.03,
          0.03,
          0.035,
          0.04,
          0.04,
          0.04,
          0.04,
          0.04,
          0.04,
          0.04,
          0.04,
          0.04,
          0.04,
          0.04,
          0.04,
          0.04,
          0.04,
          0.04,
          0.045,
          0.045,
          0.045,
          0.045,
          0.045,
          0.05,
          0.05,
          0.05,
          0.055,
          0.055,
          0.055,
          0.055,
          0.055,
          0.055,
          0.06,
          0.065,
          0.065,
          0.075,
          0.08,
          0.085,
          0.095,
          0.105,
          0.105,
          0.11,
          0.115,
          0.115,
          0.12,
          0.13,
          0.14,
          0.165,
          0.185,
          0.255,
          0.35,
          0.42,
          0.525,
          0.77,
          1
         ]
        }
       ],
       "layout": {
        "template": {
         "data": {
          "bar": [
           {
            "error_x": {
             "color": "#2a3f5f"
            },
            "error_y": {
             "color": "#2a3f5f"
            },
            "marker": {
             "line": {
              "color": "#E5ECF6",
              "width": 0.5
             },
             "pattern": {
              "fillmode": "overlay",
              "size": 10,
              "solidity": 0.2
             }
            },
            "type": "bar"
           }
          ],
          "barpolar": [
           {
            "marker": {
             "line": {
              "color": "#E5ECF6",
              "width": 0.5
             },
             "pattern": {
              "fillmode": "overlay",
              "size": 10,
              "solidity": 0.2
             }
            },
            "type": "barpolar"
           }
          ],
          "carpet": [
           {
            "aaxis": {
             "endlinecolor": "#2a3f5f",
             "gridcolor": "white",
             "linecolor": "white",
             "minorgridcolor": "white",
             "startlinecolor": "#2a3f5f"
            },
            "baxis": {
             "endlinecolor": "#2a3f5f",
             "gridcolor": "white",
             "linecolor": "white",
             "minorgridcolor": "white",
             "startlinecolor": "#2a3f5f"
            },
            "type": "carpet"
           }
          ],
          "choropleth": [
           {
            "colorbar": {
             "outlinewidth": 0,
             "ticks": ""
            },
            "type": "choropleth"
           }
          ],
          "contour": [
           {
            "colorbar": {
             "outlinewidth": 0,
             "ticks": ""
            },
            "colorscale": [
             [
              0,
              "#0d0887"
             ],
             [
              0.1111111111111111,
              "#46039f"
             ],
             [
              0.2222222222222222,
              "#7201a8"
             ],
             [
              0.3333333333333333,
              "#9c179e"
             ],
             [
              0.4444444444444444,
              "#bd3786"
             ],
             [
              0.5555555555555556,
              "#d8576b"
             ],
             [
              0.6666666666666666,
              "#ed7953"
             ],
             [
              0.7777777777777778,
              "#fb9f3a"
             ],
             [
              0.8888888888888888,
              "#fdca26"
             ],
             [
              1,
              "#f0f921"
             ]
            ],
            "type": "contour"
           }
          ],
          "contourcarpet": [
           {
            "colorbar": {
             "outlinewidth": 0,
             "ticks": ""
            },
            "type": "contourcarpet"
           }
          ],
          "heatmap": [
           {
            "colorbar": {
             "outlinewidth": 0,
             "ticks": ""
            },
            "colorscale": [
             [
              0,
              "#0d0887"
             ],
             [
              0.1111111111111111,
              "#46039f"
             ],
             [
              0.2222222222222222,
              "#7201a8"
             ],
             [
              0.3333333333333333,
              "#9c179e"
             ],
             [
              0.4444444444444444,
              "#bd3786"
             ],
             [
              0.5555555555555556,
              "#d8576b"
             ],
             [
              0.6666666666666666,
              "#ed7953"
             ],
             [
              0.7777777777777778,
              "#fb9f3a"
             ],
             [
              0.8888888888888888,
              "#fdca26"
             ],
             [
              1,
              "#f0f921"
             ]
            ],
            "type": "heatmap"
           }
          ],
          "heatmapgl": [
           {
            "colorbar": {
             "outlinewidth": 0,
             "ticks": ""
            },
            "colorscale": [
             [
              0,
              "#0d0887"
             ],
             [
              0.1111111111111111,
              "#46039f"
             ],
             [
              0.2222222222222222,
              "#7201a8"
             ],
             [
              0.3333333333333333,
              "#9c179e"
             ],
             [
              0.4444444444444444,
              "#bd3786"
             ],
             [
              0.5555555555555556,
              "#d8576b"
             ],
             [
              0.6666666666666666,
              "#ed7953"
             ],
             [
              0.7777777777777778,
              "#fb9f3a"
             ],
             [
              0.8888888888888888,
              "#fdca26"
             ],
             [
              1,
              "#f0f921"
             ]
            ],
            "type": "heatmapgl"
           }
          ],
          "histogram": [
           {
            "marker": {
             "pattern": {
              "fillmode": "overlay",
              "size": 10,
              "solidity": 0.2
             }
            },
            "type": "histogram"
           }
          ],
          "histogram2d": [
           {
            "colorbar": {
             "outlinewidth": 0,
             "ticks": ""
            },
            "colorscale": [
             [
              0,
              "#0d0887"
             ],
             [
              0.1111111111111111,
              "#46039f"
             ],
             [
              0.2222222222222222,
              "#7201a8"
             ],
             [
              0.3333333333333333,
              "#9c179e"
             ],
             [
              0.4444444444444444,
              "#bd3786"
             ],
             [
              0.5555555555555556,
              "#d8576b"
             ],
             [
              0.6666666666666666,
              "#ed7953"
             ],
             [
              0.7777777777777778,
              "#fb9f3a"
             ],
             [
              0.8888888888888888,
              "#fdca26"
             ],
             [
              1,
              "#f0f921"
             ]
            ],
            "type": "histogram2d"
           }
          ],
          "histogram2dcontour": [
           {
            "colorbar": {
             "outlinewidth": 0,
             "ticks": ""
            },
            "colorscale": [
             [
              0,
              "#0d0887"
             ],
             [
              0.1111111111111111,
              "#46039f"
             ],
             [
              0.2222222222222222,
              "#7201a8"
             ],
             [
              0.3333333333333333,
              "#9c179e"
             ],
             [
              0.4444444444444444,
              "#bd3786"
             ],
             [
              0.5555555555555556,
              "#d8576b"
             ],
             [
              0.6666666666666666,
              "#ed7953"
             ],
             [
              0.7777777777777778,
              "#fb9f3a"
             ],
             [
              0.8888888888888888,
              "#fdca26"
             ],
             [
              1,
              "#f0f921"
             ]
            ],
            "type": "histogram2dcontour"
           }
          ],
          "mesh3d": [
           {
            "colorbar": {
             "outlinewidth": 0,
             "ticks": ""
            },
            "type": "mesh3d"
           }
          ],
          "parcoords": [
           {
            "line": {
             "colorbar": {
              "outlinewidth": 0,
              "ticks": ""
             }
            },
            "type": "parcoords"
           }
          ],
          "pie": [
           {
            "automargin": true,
            "type": "pie"
           }
          ],
          "scatter": [
           {
            "marker": {
             "colorbar": {
              "outlinewidth": 0,
              "ticks": ""
             }
            },
            "type": "scatter"
           }
          ],
          "scatter3d": [
           {
            "line": {
             "colorbar": {
              "outlinewidth": 0,
              "ticks": ""
             }
            },
            "marker": {
             "colorbar": {
              "outlinewidth": 0,
              "ticks": ""
             }
            },
            "type": "scatter3d"
           }
          ],
          "scattercarpet": [
           {
            "marker": {
             "colorbar": {
              "outlinewidth": 0,
              "ticks": ""
             }
            },
            "type": "scattercarpet"
           }
          ],
          "scattergeo": [
           {
            "marker": {
             "colorbar": {
              "outlinewidth": 0,
              "ticks": ""
             }
            },
            "type": "scattergeo"
           }
          ],
          "scattergl": [
           {
            "marker": {
             "colorbar": {
              "outlinewidth": 0,
              "ticks": ""
             }
            },
            "type": "scattergl"
           }
          ],
          "scattermapbox": [
           {
            "marker": {
             "colorbar": {
              "outlinewidth": 0,
              "ticks": ""
             }
            },
            "type": "scattermapbox"
           }
          ],
          "scatterpolar": [
           {
            "marker": {
             "colorbar": {
              "outlinewidth": 0,
              "ticks": ""
             }
            },
            "type": "scatterpolar"
           }
          ],
          "scatterpolargl": [
           {
            "marker": {
             "colorbar": {
              "outlinewidth": 0,
              "ticks": ""
             }
            },
            "type": "scatterpolargl"
           }
          ],
          "scatterternary": [
           {
            "marker": {
             "colorbar": {
              "outlinewidth": 0,
              "ticks": ""
             }
            },
            "type": "scatterternary"
           }
          ],
          "surface": [
           {
            "colorbar": {
             "outlinewidth": 0,
             "ticks": ""
            },
            "colorscale": [
             [
              0,
              "#0d0887"
             ],
             [
              0.1111111111111111,
              "#46039f"
             ],
             [
              0.2222222222222222,
              "#7201a8"
             ],
             [
              0.3333333333333333,
              "#9c179e"
             ],
             [
              0.4444444444444444,
              "#bd3786"
             ],
             [
              0.5555555555555556,
              "#d8576b"
             ],
             [
              0.6666666666666666,
              "#ed7953"
             ],
             [
              0.7777777777777778,
              "#fb9f3a"
             ],
             [
              0.8888888888888888,
              "#fdca26"
             ],
             [
              1,
              "#f0f921"
             ]
            ],
            "type": "surface"
           }
          ],
          "table": [
           {
            "cells": {
             "fill": {
              "color": "#EBF0F8"
             },
             "line": {
              "color": "white"
             }
            },
            "header": {
             "fill": {
              "color": "#C8D4E3"
             },
             "line": {
              "color": "white"
             }
            },
            "type": "table"
           }
          ]
         },
         "layout": {
          "annotationdefaults": {
           "arrowcolor": "#2a3f5f",
           "arrowhead": 0,
           "arrowwidth": 1
          },
          "autotypenumbers": "strict",
          "coloraxis": {
           "colorbar": {
            "outlinewidth": 0,
            "ticks": ""
           }
          },
          "colorscale": {
           "diverging": [
            [
             0,
             "#8e0152"
            ],
            [
             0.1,
             "#c51b7d"
            ],
            [
             0.2,
             "#de77ae"
            ],
            [
             0.3,
             "#f1b6da"
            ],
            [
             0.4,
             "#fde0ef"
            ],
            [
             0.5,
             "#f7f7f7"
            ],
            [
             0.6,
             "#e6f5d0"
            ],
            [
             0.7,
             "#b8e186"
            ],
            [
             0.8,
             "#7fbc41"
            ],
            [
             0.9,
             "#4d9221"
            ],
            [
             1,
             "#276419"
            ]
           ],
           "sequential": [
            [
             0,
             "#0d0887"
            ],
            [
             0.1111111111111111,
             "#46039f"
            ],
            [
             0.2222222222222222,
             "#7201a8"
            ],
            [
             0.3333333333333333,
             "#9c179e"
            ],
            [
             0.4444444444444444,
             "#bd3786"
            ],
            [
             0.5555555555555556,
             "#d8576b"
            ],
            [
             0.6666666666666666,
             "#ed7953"
            ],
            [
             0.7777777777777778,
             "#fb9f3a"
            ],
            [
             0.8888888888888888,
             "#fdca26"
            ],
            [
             1,
             "#f0f921"
            ]
           ],
           "sequentialminus": [
            [
             0,
             "#0d0887"
            ],
            [
             0.1111111111111111,
             "#46039f"
            ],
            [
             0.2222222222222222,
             "#7201a8"
            ],
            [
             0.3333333333333333,
             "#9c179e"
            ],
            [
             0.4444444444444444,
             "#bd3786"
            ],
            [
             0.5555555555555556,
             "#d8576b"
            ],
            [
             0.6666666666666666,
             "#ed7953"
            ],
            [
             0.7777777777777778,
             "#fb9f3a"
            ],
            [
             0.8888888888888888,
             "#fdca26"
            ],
            [
             1,
             "#f0f921"
            ]
           ]
          },
          "colorway": [
           "#636efa",
           "#EF553B",
           "#00cc96",
           "#ab63fa",
           "#FFA15A",
           "#19d3f3",
           "#FF6692",
           "#B6E880",
           "#FF97FF",
           "#FECB52"
          ],
          "font": {
           "color": "#2a3f5f"
          },
          "geo": {
           "bgcolor": "white",
           "lakecolor": "white",
           "landcolor": "#E5ECF6",
           "showlakes": true,
           "showland": true,
           "subunitcolor": "white"
          },
          "hoverlabel": {
           "align": "left"
          },
          "hovermode": "closest",
          "mapbox": {
           "style": "light"
          },
          "paper_bgcolor": "white",
          "plot_bgcolor": "#E5ECF6",
          "polar": {
           "angularaxis": {
            "gridcolor": "white",
            "linecolor": "white",
            "ticks": ""
           },
           "bgcolor": "#E5ECF6",
           "radialaxis": {
            "gridcolor": "white",
            "linecolor": "white",
            "ticks": ""
           }
          },
          "scene": {
           "xaxis": {
            "backgroundcolor": "#E5ECF6",
            "gridcolor": "white",
            "gridwidth": 2,
            "linecolor": "white",
            "showbackground": true,
            "ticks": "",
            "zerolinecolor": "white"
           },
           "yaxis": {
            "backgroundcolor": "#E5ECF6",
            "gridcolor": "white",
            "gridwidth": 2,
            "linecolor": "white",
            "showbackground": true,
            "ticks": "",
            "zerolinecolor": "white"
           },
           "zaxis": {
            "backgroundcolor": "#E5ECF6",
            "gridcolor": "white",
            "gridwidth": 2,
            "linecolor": "white",
            "showbackground": true,
            "ticks": "",
            "zerolinecolor": "white"
           }
          },
          "shapedefaults": {
           "line": {
            "color": "#2a3f5f"
           }
          },
          "ternary": {
           "aaxis": {
            "gridcolor": "white",
            "linecolor": "white",
            "ticks": ""
           },
           "baxis": {
            "gridcolor": "white",
            "linecolor": "white",
            "ticks": ""
           },
           "bgcolor": "#E5ECF6",
           "caxis": {
            "gridcolor": "white",
            "linecolor": "white",
            "ticks": ""
           }
          },
          "title": {
           "x": 0.05
          },
          "xaxis": {
           "automargin": true,
           "gridcolor": "white",
           "linecolor": "white",
           "ticks": "",
           "title": {
            "standoff": 15
           },
           "zerolinecolor": "white",
           "zerolinewidth": 2
          },
          "yaxis": {
           "automargin": true,
           "gridcolor": "white",
           "linecolor": "white",
           "ticks": "",
           "title": {
            "standoff": 15
           },
           "zerolinecolor": "white",
           "zerolinewidth": 2
          }
         }
        },
        "title": {
         "text": "Empirical Distribution Function Plot"
        },
        "xaxis": {
         "title": {
          "text": "Objective Value"
         }
        },
        "yaxis": {
         "range": [
          0,
          1
         ],
         "title": {
          "text": "Cumulative Probability"
         }
        }
       }
      }
     },
     "metadata": {},
     "output_type": "display_data"
    }
   ],
   "source": [
    "fig = optuna.visualization.plot_edf([study])\n",
    "fig.show();"
   ]
  },
  {
   "cell_type": "code",
   "execution_count": 53,
   "metadata": {},
   "outputs": [],
   "source": [
    "from sklearn.feature_selection import SelectFromModel\n",
    "# use feature importance for feature selection, with fix for xgboost 1.0.2\n",
    "from numpy import loadtxt\n",
    "from numpy import sort\n",
    "from xgboost import XGBClassifier\n",
    "from sklearn.model_selection import train_test_split\n",
    "from sklearn.metrics import accuracy_score\n",
    "from sklearn.feature_selection import SelectFromModel\n"
   ]
  },
  {
   "cell_type": "code",
   "execution_count": 101,
   "metadata": {},
   "outputs": [],
   "source": [
    "X_train, X_test, y_train, y_test = train_test_split(X, y, test_size=0.3, random_state=12, stratify=y)\n"
   ]
  },
  {
   "cell_type": "code",
   "execution_count": 102,
   "metadata": {},
   "outputs": [
    {
     "name": "stderr",
     "output_type": "stream",
     "text": [
      "/Library/Frameworks/Python.framework/Versions/3.10/lib/python3.10/site-packages/xgboost/sklearn.py:892: UserWarning:\n",
      "\n",
      "The use of label encoder in XGBClassifier is deprecated and will be removed in a future release. To remove this warning, do the following: 1) Pass option use_label_encoder=False when constructing XGBClassifier object; and 2) Encode your labels (y) as integers starting with 0, i.e. 0, 1, 2, ..., [num_class - 1].\n",
      "\n"
     ]
    },
    {
     "name": "stdout",
     "output_type": "stream",
     "text": [
      "AUC: 94.87%\n"
     ]
    },
    {
     "data": {
      "text/plain": [
       "array([0.000e+00, 0.000e+00, 0.000e+00, 0.000e+00, 0.000e+00, 0.000e+00,\n",
       "       1.000e-04, 4.700e-03, 6.900e-03, 7.600e-03, 8.500e-03, 1.070e-02,\n",
       "       1.210e-02, 1.370e-02, 1.370e-02, 1.540e-02, 1.630e-02, 2.760e-02,\n",
       "       2.860e-02, 3.750e-02, 3.910e-02, 4.390e-02, 4.580e-02, 6.580e-02,\n",
       "       8.720e-02, 1.099e-01, 1.113e-01, 2.934e-01], dtype=float32)"
      ]
     },
     "execution_count": 102,
     "metadata": {},
     "output_type": "execute_result"
    }
   ],
   "source": [
    "model = xgb.XGBClassifier()\n",
    "model.fit(X_train, y_train)\n",
    "predictions = model.predict(X_test)\n",
    "auc = roc_auc_score(y_test, predictions)\n",
    "print(\"AUC: %.2f%%\" % (auc * 100.0))\n",
    "# Fit model using each importance as a threshold\n",
    "thresholds = sort(model.feature_importances_)\n",
    "thresholds = np.round(thresholds, 4)\n",
    "thresholds"
   ]
  },
  {
   "cell_type": "code",
   "execution_count": 103,
   "metadata": {},
   "outputs": [
    {
     "name": "stdout",
     "output_type": "stream",
     "text": [
      "Thresh=0.000, n=28, AUC: 93.86%, std: + 1.768%\n",
      "Thresh=0.000, n=22, AUC: 94.20%, std: + 1.169%\n",
      "Thresh=0.008, n=18, AUC: 94.21%, std: + 0.993%\n",
      "Thresh=0.005, n=21, AUC: 94.03%, std: + 1.237%\n",
      "Thresh=0.007, n=19, AUC: 94.37%, std: + 0.872%\n",
      "Thresh=0.009, n=17, AUC: 94.20%, std: + 1.013%\n",
      "Thresh=0.011, n=16, AUC: 94.38%, std: + 0.872%\n",
      "Thresh=0.012, n=16, AUC: 94.38%, std: + 0.872%\n",
      "Thresh=0.014, n=15, AUC: 94.21%, std: + 1.359%\n",
      "Thresh=0.015, n=13, AUC: 94.54%, std: + 1.028%\n",
      "Thresh=0.016, n=12, AUC: 94.71%, std: + 0.999%\n",
      "Thresh=0.028, n=11, AUC: 94.20%, std: + 0.991%\n",
      "Thresh=0.029, n=10, AUC: 94.03%, std: + 1.196%\n",
      "Thresh=0.038, n=8, AUC: 94.20%, std: + 1.348%\n",
      "Thresh=0.039, n=7, AUC: 93.52%, std: + 1.740%\n",
      "Thresh=0.044, n=7, AUC: 93.52%, std: + 1.740%\n",
      "Thresh=0.087, n=4, AUC: 89.94%, std: + 2.258%\n",
      "Thresh=0.066, n=4, AUC: 89.94%, std: + 2.258%\n",
      "Thresh=0.046, n=6, AUC: 91.99%, std: + 2.101%\n",
      "Thresh=0.110, n=2, AUC: 50.00%, std: + 0.000%\n",
      "Thresh=0.111, n=2, AUC: 50.00%, std: + 0.000%\n",
      "Thresh=0.293, n=1, AUC: 50.00%, std: + 0.000%\n"
     ]
    }
   ],
   "source": [
    "kfold = StratifiedKFold(5)\n",
    "for thresh in set(thresholds):\n",
    "\t# select features using threshold\n",
    "\tselection = SelectFromModel(model, threshold=thresh, prefit=True)\n",
    "\t# train model\n",
    "\tscores=[]\n",
    "\tselection_model = XGBClassifier(use_label_encoder=False)\n",
    "\tfor train_index, test_index in kfold.split(X, y):\n",
    "\t\tX_train, X_test = X.iloc[train_index], X.iloc[test_index]\n",
    "\t\ty_train, y_test = y.iloc[train_index], y.iloc[test_index]\n",
    "\t\tselect_X_train = selection.transform(X_train)\n",
    "\t\tselection_model.fit(select_X_train, y_train)\n",
    "\t\tselect_X_test = selection.transform(X_test)\n",
    "\t\tpreds = selection_model.predict(select_X_test)\n",
    "\t\tpred_labels = np.rint(preds)\n",
    "\t\tauc = roc_auc_score(y_test, pred_labels)\n",
    "\t\tscores.append(auc)\n",
    "\n",
    "\tprint(\n",
    "\t\"Thresh=%.3f, n=%d, AUC: %.2f%%, std: + %.3f%%\"\n",
    "\t% (\n",
    "\tthresh,\n",
    "\tselect_X_train.shape[1],\n",
    "\tnp.mean(scores) * 100.0,\n",
    "\tnp.std(scores) * 100,\n",
    "\t)\n",
    "\t)\n"
   ]
  },
  {
   "cell_type": "code",
   "execution_count": 108,
   "metadata": {},
   "outputs": [
    {
     "name": "stdout",
     "output_type": "stream",
     "text": [
      "AUC: 99.11%\n"
     ]
    },
    {
     "data": {
      "text/plain": [
       "array([0.    , 0.0007, 0.0014, 0.0015, 0.0017, 0.002 , 0.0021, 0.0023,\n",
       "       0.0032, 0.0049, 0.0051, 0.0054, 0.0068, 0.0069, 0.0096, 0.01  ,\n",
       "       0.0113, 0.0214, 0.0218, 0.0232, 0.0274, 0.0322, 0.0335, 0.0344,\n",
       "       0.0507, 0.0586, 0.0816, 0.5402], dtype=float32)"
      ]
     },
     "execution_count": 108,
     "metadata": {},
     "output_type": "execute_result"
    }
   ],
   "source": [
    "model = xgb.XGBClassifier(**params)\n",
    "model.fit(X_train, y_train)\n",
    "predictions = model.predict(X_test)\n",
    "auc = roc_auc_score(y_test, predictions)\n",
    "print(\"AUC: %.2f%%\" % (auc * 100.0))\n",
    "# Fit model using each importance as a threshold\n",
    "thresholds = sort(model.feature_importances_)\n",
    "thresholds = np.round(thresholds, 4)\n",
    "thresholds"
   ]
  },
  {
   "cell_type": "code",
   "execution_count": 124,
   "metadata": {},
   "outputs": [
    {
     "name": "stdout",
     "output_type": "stream",
     "text": [
      "Thresh=0.000, n=28, AUC: 97.23%, std: + 1.368%, el: 5\n",
      "Thresh=0.001, n=27, AUC: 97.06%, std: + 1.751%, el: 5\n",
      "Thresh=0.002, n=24, AUC: 97.06%, std: + 1.498%, el: 5\n",
      "Thresh=0.001, n=25, AUC: 97.06%, std: + 0.871%, el: 5\n",
      "Thresh=0.002, n=25, AUC: 97.06%, std: + 0.871%, el: 5\n",
      "Thresh=0.002, n=22, AUC: 97.73%, std: + 1.761%, el: 5\n",
      "Thresh=0.002, n=22, AUC: 97.73%, std: + 1.761%, el: 5\n",
      "Thresh=0.002, n=20, AUC: 97.56%, std: + 1.568%, el: 5\n",
      "Thresh=0.003, n=20, AUC: 97.56%, std: + 1.568%, el: 5\n",
      "Thresh=0.005, n=19, AUC: 97.56%, std: + 1.983%, el: 5\n",
      "Thresh=0.005, n=17, AUC: 97.90%, std: + 1.579%, el: 5\n",
      "Thresh=0.005, n=16, AUC: 97.38%, std: + 2.095%, el: 5\n",
      "Thresh=0.007, n=16, AUC: 97.38%, std: + 2.095%, el: 5\n",
      "Thresh=0.007, n=15, AUC: 97.38%, std: + 1.789%, el: 5\n",
      "Thresh=0.010, n=14, AUC: 97.05%, std: + 1.842%, el: 5\n",
      "Thresh=0.010, n=12, AUC: 97.72%, std: + 1.392%, el: 5\n",
      "Thresh=0.082, n=1, AUC: 96.24%, std: + 0.073%, el: 5\n",
      "Thresh=0.540, n=1, AUC: 96.24%, std: + 0.073%, el: 5\n",
      "Thresh=0.022, n=9, AUC: 97.51%, std: + 1.452%, el: 5\n",
      "Thresh=0.021, n=11, AUC: 97.84%, std: + 1.744%, el: 5\n",
      "Thresh=0.011, n=12, AUC: 97.72%, std: + 1.392%, el: 5\n",
      "Thresh=0.023, n=9, AUC: 97.51%, std: + 1.452%, el: 5\n",
      "Thresh=0.027, n=8, AUC: 97.83%, std: + 1.736%, el: 5\n",
      "Thresh=0.032, n=7, AUC: 97.35%, std: + 1.389%, el: 5\n",
      "Thresh=0.034, n=5, AUC: 98.00%, std: + 0.958%, el: 5\n",
      "Thresh=0.034, n=5, AUC: 98.00%, std: + 0.958%, el: 5\n",
      "Thresh=0.051, n=4, AUC: 97.53%, std: + 1.229%, el: 5\n",
      "Thresh=0.059, n=2, AUC: 97.18%, std: + 1.032%, el: 5\n"
     ]
    }
   ],
   "source": [
    "kfold = StratifiedKFold(5)\n",
    "for thresh in set(thresholds):\n",
    "\t# select features using threshold\n",
    "\tselection = SelectFromModel(model, threshold=thresh, prefit=True)\n",
    "\t# train model\n",
    "\tscores=[]\n",
    "\tselection_model = XGBClassifier(use_label_encoder=False, **params)\n",
    "\tfor train_index, test_index in kfold.split(X, y):\n",
    "\t\tX_train, X_test = X.iloc[train_index], X.iloc[test_index]\n",
    "\t\ty_train, y_test = y.iloc[train_index], y.iloc[test_index]\n",
    "\t\tselect_X_train = selection.transform(X_train)\n",
    "\t\tselection_model.fit(select_X_train, y_train)\n",
    "\t\tselect_X_test = selection.transform(X_test)\n",
    "\t\tpreds = selection_model.predict(select_X_test)\n",
    "\t\tpred_labels = np.rint(preds)\n",
    "\t\tauc = roc_auc_score(y_test, pred_labels)\n",
    "\t\tscores.append(auc)\n",
    "\n",
    "\tprint(\n",
    "\t\"Thresh=%.3f, n=%d, AUC: %.2f%%, std: + %.3f%%, el: %d\"\n",
    "\t% (\n",
    "\tthresh,\n",
    "\tselect_X_train.shape[1],\n",
    "\tnp.mean(scores) * 100.0,\n",
    "\tnp.std(scores) * 100,\n",
    "\tlen(scores)\n",
    "\t)\n",
    "\t)\n"
   ]
  },
  {
   "cell_type": "code",
   "execution_count": 125,
   "metadata": {},
   "outputs": [
    {
     "data": {
      "text/html": [
       "\n",
       "    <style>\n",
       "    table.eli5-weights tr:hover {\n",
       "        filter: brightness(85%);\n",
       "    }\n",
       "</style>\n",
       "\n",
       "\n",
       "\n",
       "    \n",
       "\n",
       "    \n",
       "\n",
       "    \n",
       "\n",
       "    \n",
       "\n",
       "    \n",
       "\n",
       "    \n",
       "\n",
       "\n",
       "    \n",
       "\n",
       "    \n",
       "\n",
       "    \n",
       "\n",
       "    \n",
       "\n",
       "    \n",
       "\n",
       "    \n",
       "\n",
       "\n",
       "    \n",
       "\n",
       "    \n",
       "\n",
       "    \n",
       "\n",
       "    \n",
       "\n",
       "    \n",
       "        <table class=\"eli5-weights eli5-feature-importances\" style=\"border-collapse: collapse; border: none; margin-top: 0em; table-layout: auto;\">\n",
       "    <thead>\n",
       "    <tr style=\"border: none;\">\n",
       "        <th style=\"padding: 0 1em 0 0.5em; text-align: right; border: none;\">Weight</th>\n",
       "        <th style=\"padding: 0 0.5em 0 0.5em; text-align: left; border: none;\">Feature</th>\n",
       "    </tr>\n",
       "    </thead>\n",
       "    <tbody>\n",
       "    \n",
       "        <tr style=\"background-color: hsl(120, 100.00%, 80.00%); border: none;\">\n",
       "            <td style=\"padding: 0 1em 0 0.5em; text-align: right; border: none;\">\n",
       "                0.7773\n",
       "                \n",
       "            </td>\n",
       "            <td style=\"padding: 0 0.5em 0 0.5em; text-align: left; border: none;\">\n",
       "                f0\n",
       "            </td>\n",
       "        </tr>\n",
       "    \n",
       "        <tr style=\"background-color: hsl(120, 100.00%, 91.66%); border: none;\">\n",
       "            <td style=\"padding: 0 1em 0 0.5em; text-align: right; border: none;\">\n",
       "                0.2227\n",
       "                \n",
       "            </td>\n",
       "            <td style=\"padding: 0 0.5em 0 0.5em; text-align: left; border: none;\">\n",
       "                f1\n",
       "            </td>\n",
       "        </tr>\n",
       "    \n",
       "    \n",
       "    </tbody>\n",
       "</table>\n",
       "    \n",
       "\n",
       "    \n",
       "\n",
       "\n",
       "    \n",
       "\n",
       "    \n",
       "\n",
       "    \n",
       "\n",
       "    \n",
       "\n",
       "    \n",
       "\n",
       "    \n",
       "\n",
       "\n",
       "\n"
      ],
      "text/plain": [
       "<IPython.core.display.HTML object>"
      ]
     },
     "execution_count": 125,
     "metadata": {},
     "output_type": "execute_result"
    }
   ],
   "source": [
    "show_weights(selection_model)  "
   ]
  },
  {
   "cell_type": "code",
   "execution_count": 138,
   "metadata": {},
   "outputs": [
    {
     "data": {
      "text/plain": [
       "array([[0., 0.],\n",
       "       [1., 1.],\n",
       "       [2., 1.],\n",
       "       [3., 1.],\n",
       "       [4., 1.],\n",
       "       [5., 2.],\n",
       "       [6., 1.],\n",
       "       [7., 1.],\n",
       "       [8., 3.],\n",
       "       [4., 1.]])"
      ]
     },
     "execution_count": 138,
     "metadata": {},
     "output_type": "execute_result"
    }
   ],
   "source": [
    "select_X_train[:10]"
   ]
  },
  {
   "cell_type": "code",
   "execution_count": 137,
   "metadata": {},
   "outputs": [
    {
     "data": {
      "text/html": [
       "<div>\n",
       "<style scoped>\n",
       "    .dataframe tbody tr th:only-of-type {\n",
       "        vertical-align: middle;\n",
       "    }\n",
       "\n",
       "    .dataframe tbody tr th {\n",
       "        vertical-align: top;\n",
       "    }\n",
       "\n",
       "    .dataframe thead th {\n",
       "        text-align: right;\n",
       "    }\n",
       "</style>\n",
       "<table border=\"1\" class=\"dataframe\">\n",
       "  <thead>\n",
       "    <tr style=\"text-align: right;\">\n",
       "      <th></th>\n",
       "      <th>browser</th>\n",
       "      <th>os</th>\n",
       "      <th>locale</th>\n",
       "      <th>gender</th>\n",
       "      <th>country</th>\n",
       "      <th>city</th>\n",
       "      <th>dayofweek</th>\n",
       "      <th>day</th>\n",
       "      <th>month</th>\n",
       "      <th>year</th>\n",
       "      <th>hour</th>\n",
       "      <th>hour_fixed</th>\n",
       "      <th>sites_num</th>\n",
       "      <th>session_len</th>\n",
       "      <th>max_len_site</th>\n",
       "      <th>site_0</th>\n",
       "      <th>site_1</th>\n",
       "      <th>site_2</th>\n",
       "      <th>site_3</th>\n",
       "      <th>site_4</th>\n",
       "      <th>site_5</th>\n",
       "      <th>site_6</th>\n",
       "      <th>site_7</th>\n",
       "      <th>site_8</th>\n",
       "      <th>site_9</th>\n",
       "      <th>site_10</th>\n",
       "      <th>site_11</th>\n",
       "      <th>site_12</th>\n",
       "    </tr>\n",
       "  </thead>\n",
       "  <tbody>\n",
       "    <tr>\n",
       "      <th>0</th>\n",
       "      <td>0</td>\n",
       "      <td>0</td>\n",
       "      <td>0</td>\n",
       "      <td>0</td>\n",
       "      <td>0</td>\n",
       "      <td>0</td>\n",
       "      <td>0</td>\n",
       "      <td>0</td>\n",
       "      <td>0</td>\n",
       "      <td>0</td>\n",
       "      <td>9.046875</td>\n",
       "      <td>3.050781</td>\n",
       "      <td>6</td>\n",
       "      <td>481.0</td>\n",
       "      <td>132.0</td>\n",
       "      <td>0</td>\n",
       "      <td>0</td>\n",
       "      <td>0</td>\n",
       "      <td>0</td>\n",
       "      <td>0</td>\n",
       "      <td>0</td>\n",
       "      <td>0</td>\n",
       "      <td>0</td>\n",
       "      <td>0</td>\n",
       "      <td>0</td>\n",
       "      <td>0</td>\n",
       "      <td>0</td>\n",
       "      <td>0</td>\n",
       "    </tr>\n",
       "    <tr>\n",
       "      <th>1</th>\n",
       "      <td>0</td>\n",
       "      <td>1</td>\n",
       "      <td>1</td>\n",
       "      <td>0</td>\n",
       "      <td>0</td>\n",
       "      <td>0</td>\n",
       "      <td>1</td>\n",
       "      <td>1</td>\n",
       "      <td>1</td>\n",
       "      <td>1</td>\n",
       "      <td>13.953125</td>\n",
       "      <td>7.949219</td>\n",
       "      <td>9</td>\n",
       "      <td>1076.0</td>\n",
       "      <td>269.0</td>\n",
       "      <td>1</td>\n",
       "      <td>1</td>\n",
       "      <td>1</td>\n",
       "      <td>1</td>\n",
       "      <td>1</td>\n",
       "      <td>0</td>\n",
       "      <td>0</td>\n",
       "      <td>0</td>\n",
       "      <td>0</td>\n",
       "      <td>0</td>\n",
       "      <td>0</td>\n",
       "      <td>0</td>\n",
       "      <td>0</td>\n",
       "    </tr>\n",
       "    <tr>\n",
       "      <th>2</th>\n",
       "      <td>1</td>\n",
       "      <td>0</td>\n",
       "      <td>2</td>\n",
       "      <td>0</td>\n",
       "      <td>1</td>\n",
       "      <td>1</td>\n",
       "      <td>2</td>\n",
       "      <td>2</td>\n",
       "      <td>2</td>\n",
       "      <td>0</td>\n",
       "      <td>2.099609</td>\n",
       "      <td>10.101562</td>\n",
       "      <td>7</td>\n",
       "      <td>1280.0</td>\n",
       "      <td>376.0</td>\n",
       "      <td>1</td>\n",
       "      <td>1</td>\n",
       "      <td>1</td>\n",
       "      <td>1</td>\n",
       "      <td>1</td>\n",
       "      <td>0</td>\n",
       "      <td>0</td>\n",
       "      <td>0</td>\n",
       "      <td>0</td>\n",
       "      <td>0</td>\n",
       "      <td>0</td>\n",
       "      <td>0</td>\n",
       "      <td>0</td>\n",
       "    </tr>\n",
       "    <tr>\n",
       "      <th>3</th>\n",
       "      <td>0</td>\n",
       "      <td>2</td>\n",
       "      <td>3</td>\n",
       "      <td>1</td>\n",
       "      <td>0</td>\n",
       "      <td>0</td>\n",
       "      <td>2</td>\n",
       "      <td>3</td>\n",
       "      <td>3</td>\n",
       "      <td>1</td>\n",
       "      <td>0.083313</td>\n",
       "      <td>18.078125</td>\n",
       "      <td>2</td>\n",
       "      <td>224.0</td>\n",
       "      <td>145.0</td>\n",
       "      <td>1</td>\n",
       "      <td>1</td>\n",
       "      <td>2</td>\n",
       "      <td>1</td>\n",
       "      <td>1</td>\n",
       "      <td>0</td>\n",
       "      <td>0</td>\n",
       "      <td>0</td>\n",
       "      <td>0</td>\n",
       "      <td>0</td>\n",
       "      <td>0</td>\n",
       "      <td>0</td>\n",
       "      <td>0</td>\n",
       "    </tr>\n",
       "    <tr>\n",
       "      <th>4</th>\n",
       "      <td>2</td>\n",
       "      <td>1</td>\n",
       "      <td>4</td>\n",
       "      <td>0</td>\n",
       "      <td>2</td>\n",
       "      <td>2</td>\n",
       "      <td>2</td>\n",
       "      <td>2</td>\n",
       "      <td>2</td>\n",
       "      <td>0</td>\n",
       "      <td>14.914062</td>\n",
       "      <td>15.914062</td>\n",
       "      <td>9</td>\n",
       "      <td>1673.0</td>\n",
       "      <td>456.0</td>\n",
       "      <td>1</td>\n",
       "      <td>1</td>\n",
       "      <td>2</td>\n",
       "      <td>1</td>\n",
       "      <td>1</td>\n",
       "      <td>0</td>\n",
       "      <td>0</td>\n",
       "      <td>0</td>\n",
       "      <td>0</td>\n",
       "      <td>0</td>\n",
       "      <td>0</td>\n",
       "      <td>0</td>\n",
       "      <td>0</td>\n",
       "    </tr>\n",
       "    <tr>\n",
       "      <th>5</th>\n",
       "      <td>1</td>\n",
       "      <td>0</td>\n",
       "      <td>5</td>\n",
       "      <td>1</td>\n",
       "      <td>3</td>\n",
       "      <td>3</td>\n",
       "      <td>3</td>\n",
       "      <td>4</td>\n",
       "      <td>4</td>\n",
       "      <td>0</td>\n",
       "      <td>21.437500</td>\n",
       "      <td>22.437500</td>\n",
       "      <td>6</td>\n",
       "      <td>577.0</td>\n",
       "      <td>196.0</td>\n",
       "      <td>2</td>\n",
       "      <td>2</td>\n",
       "      <td>0</td>\n",
       "      <td>0</td>\n",
       "      <td>2</td>\n",
       "      <td>0</td>\n",
       "      <td>0</td>\n",
       "      <td>0</td>\n",
       "      <td>0</td>\n",
       "      <td>0</td>\n",
       "      <td>0</td>\n",
       "      <td>0</td>\n",
       "      <td>0</td>\n",
       "    </tr>\n",
       "    <tr>\n",
       "      <th>6</th>\n",
       "      <td>1</td>\n",
       "      <td>2</td>\n",
       "      <td>6</td>\n",
       "      <td>0</td>\n",
       "      <td>0</td>\n",
       "      <td>0</td>\n",
       "      <td>4</td>\n",
       "      <td>5</td>\n",
       "      <td>3</td>\n",
       "      <td>1</td>\n",
       "      <td>23.000000</td>\n",
       "      <td>17.000000</td>\n",
       "      <td>7</td>\n",
       "      <td>726.0</td>\n",
       "      <td>187.0</td>\n",
       "      <td>1</td>\n",
       "      <td>1</td>\n",
       "      <td>2</td>\n",
       "      <td>1</td>\n",
       "      <td>1</td>\n",
       "      <td>0</td>\n",
       "      <td>0</td>\n",
       "      <td>0</td>\n",
       "      <td>0</td>\n",
       "      <td>0</td>\n",
       "      <td>0</td>\n",
       "      <td>0</td>\n",
       "      <td>0</td>\n",
       "    </tr>\n",
       "    <tr>\n",
       "      <th>7</th>\n",
       "      <td>2</td>\n",
       "      <td>3</td>\n",
       "      <td>7</td>\n",
       "      <td>0</td>\n",
       "      <td>0</td>\n",
       "      <td>4</td>\n",
       "      <td>1</td>\n",
       "      <td>6</td>\n",
       "      <td>0</td>\n",
       "      <td>0</td>\n",
       "      <td>17.140625</td>\n",
       "      <td>9.132812</td>\n",
       "      <td>8</td>\n",
       "      <td>901.0</td>\n",
       "      <td>202.0</td>\n",
       "      <td>1</td>\n",
       "      <td>1</td>\n",
       "      <td>2</td>\n",
       "      <td>1</td>\n",
       "      <td>1</td>\n",
       "      <td>0</td>\n",
       "      <td>0</td>\n",
       "      <td>0</td>\n",
       "      <td>0</td>\n",
       "      <td>0</td>\n",
       "      <td>0</td>\n",
       "      <td>0</td>\n",
       "      <td>0</td>\n",
       "    </tr>\n",
       "    <tr>\n",
       "      <th>8</th>\n",
       "      <td>1</td>\n",
       "      <td>1</td>\n",
       "      <td>8</td>\n",
       "      <td>1</td>\n",
       "      <td>4</td>\n",
       "      <td>5</td>\n",
       "      <td>5</td>\n",
       "      <td>7</td>\n",
       "      <td>5</td>\n",
       "      <td>1</td>\n",
       "      <td>11.101562</td>\n",
       "      <td>20.093750</td>\n",
       "      <td>4</td>\n",
       "      <td>518.0</td>\n",
       "      <td>219.0</td>\n",
       "      <td>3</td>\n",
       "      <td>1</td>\n",
       "      <td>2</td>\n",
       "      <td>2</td>\n",
       "      <td>1</td>\n",
       "      <td>0</td>\n",
       "      <td>0</td>\n",
       "      <td>0</td>\n",
       "      <td>0</td>\n",
       "      <td>0</td>\n",
       "      <td>0</td>\n",
       "      <td>0</td>\n",
       "      <td>0</td>\n",
       "    </tr>\n",
       "    <tr>\n",
       "      <th>9</th>\n",
       "      <td>3</td>\n",
       "      <td>4</td>\n",
       "      <td>4</td>\n",
       "      <td>1</td>\n",
       "      <td>5</td>\n",
       "      <td>6</td>\n",
       "      <td>5</td>\n",
       "      <td>8</td>\n",
       "      <td>6</td>\n",
       "      <td>1</td>\n",
       "      <td>21.578125</td>\n",
       "      <td>10.585938</td>\n",
       "      <td>5</td>\n",
       "      <td>669.0</td>\n",
       "      <td>266.0</td>\n",
       "      <td>1</td>\n",
       "      <td>1</td>\n",
       "      <td>2</td>\n",
       "      <td>1</td>\n",
       "      <td>1</td>\n",
       "      <td>0</td>\n",
       "      <td>0</td>\n",
       "      <td>0</td>\n",
       "      <td>0</td>\n",
       "      <td>0</td>\n",
       "      <td>0</td>\n",
       "      <td>0</td>\n",
       "      <td>0</td>\n",
       "    </tr>\n",
       "  </tbody>\n",
       "</table>\n",
       "</div>"
      ],
      "text/plain": [
       "   browser  os  locale  gender  country  city  dayofweek  day  month  year       hour  hour_fixed  \\\n",
       "0        0   0       0       0        0     0          0    0      0     0   9.046875    3.050781   \n",
       "1        0   1       1       0        0     0          1    1      1     1  13.953125    7.949219   \n",
       "2        1   0       2       0        1     1          2    2      2     0   2.099609   10.101562   \n",
       "3        0   2       3       1        0     0          2    3      3     1   0.083313   18.078125   \n",
       "4        2   1       4       0        2     2          2    2      2     0  14.914062   15.914062   \n",
       "5        1   0       5       1        3     3          3    4      4     0  21.437500   22.437500   \n",
       "6        1   2       6       0        0     0          4    5      3     1  23.000000   17.000000   \n",
       "7        2   3       7       0        0     4          1    6      0     0  17.140625    9.132812   \n",
       "8        1   1       8       1        4     5          5    7      5     1  11.101562   20.093750   \n",
       "9        3   4       4       1        5     6          5    8      6     1  21.578125   10.585938   \n",
       "\n",
       "   sites_num  session_len  max_len_site  site_0  site_1  site_2  site_3  site_4  site_5  site_6  \\\n",
       "0          6        481.0         132.0       0       0       0       0       0       0       0   \n",
       "1          9       1076.0         269.0       1       1       1       1       1       0       0   \n",
       "2          7       1280.0         376.0       1       1       1       1       1       0       0   \n",
       "3          2        224.0         145.0       1       1       2       1       1       0       0   \n",
       "4          9       1673.0         456.0       1       1       2       1       1       0       0   \n",
       "5          6        577.0         196.0       2       2       0       0       2       0       0   \n",
       "6          7        726.0         187.0       1       1       2       1       1       0       0   \n",
       "7          8        901.0         202.0       1       1       2       1       1       0       0   \n",
       "8          4        518.0         219.0       3       1       2       2       1       0       0   \n",
       "9          5        669.0         266.0       1       1       2       1       1       0       0   \n",
       "\n",
       "   site_7  site_8  site_9  site_10  site_11  site_12  \n",
       "0       0       0       0        0        0        0  \n",
       "1       0       0       0        0        0        0  \n",
       "2       0       0       0        0        0        0  \n",
       "3       0       0       0        0        0        0  \n",
       "4       0       0       0        0        0        0  \n",
       "5       0       0       0        0        0        0  \n",
       "6       0       0       0        0        0        0  \n",
       "7       0       0       0        0        0        0  \n",
       "8       0       0       0        0        0        0  \n",
       "9       0       0       0        0        0        0  "
      ]
     },
     "execution_count": 137,
     "metadata": {},
     "output_type": "execute_result"
    }
   ],
   "source": [
    "X.iloc[train_index].head(10)\n"
   ]
  },
  {
   "cell_type": "code",
   "execution_count": null,
   "metadata": {},
   "outputs": [],
   "source": []
  }
 ],
 "metadata": {
  "interpreter": {
   "hash": "aee8b7b246df8f9039afb4144a1f6fd8d2ca17a180786b69acc140d282b71a49"
  },
  "kernelspec": {
   "display_name": "Python 3.10.1 64-bit",
   "language": "python",
   "name": "python3"
  },
  "language_info": {
   "codemirror_mode": {
    "name": "ipython",
    "version": 3
   },
   "file_extension": ".py",
   "mimetype": "text/x-python",
   "name": "python",
   "nbconvert_exporter": "python",
   "pygments_lexer": "ipython3",
   "version": "3.10.1"
  },
  "orig_nbformat": 4
 },
 "nbformat": 4,
 "nbformat_minor": 2
}
